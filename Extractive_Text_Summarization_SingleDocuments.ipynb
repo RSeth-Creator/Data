{
  "nbformat": 4,
  "nbformat_minor": 0,
  "metadata": {
    "colab": {
      "name": "Extractive_Text_Summarization_SingleDocuments.ipynb",
      "provenance": [],
      "authorship_tag": "ABX9TyPahVB+oNcQA8JkXbHYoiCL",
      "include_colab_link": true
    },
    "kernelspec": {
      "name": "python3",
      "display_name": "Python 3"
    },
    "language_info": {
      "name": "python"
    }
  },
  "cells": [
    {
      "cell_type": "markdown",
      "metadata": {
        "id": "view-in-github",
        "colab_type": "text"
      },
      "source": [
        "<a href=\"https://colab.research.google.com/github/RSeth-Creator/Data/blob/dataScience/Extractive_Text_Summarization_SingleDocuments.ipynb\" target=\"_parent\"><img src=\"https://colab.research.google.com/assets/colab-badge.svg\" alt=\"Open In Colab\"/></a>"
      ]
    },
    {
      "cell_type": "code",
      "metadata": {
        "id": "D6Ygda-LVThC"
      },
      "source": [
        "#Importing libraries for web scraping\n",
        "import bs4 as bs\n",
        "import urllib.request\n",
        "import re "
      ],
      "execution_count": null,
      "outputs": []
    },
    {
      "cell_type": "code",
      "metadata": {
        "id": "VDJPzhfuVnM0"
      },
      "source": [
        "#Find out the sites for fetching the data \n",
        "scraped_data = urllib.request.urlopen('https://www.business-standard.com/article/current-affairs/data-story-india-administers-13-mn-doses-in-24-hrs-kerala-posts-30k-cases-121090100900_1.html')"
      ],
      "execution_count": null,
      "outputs": []
    },
    {
      "cell_type": "code",
      "metadata": {
        "id": "WytQ2MDuWHnc"
      },
      "source": [
        "#Scrape the data from mentioned url \n",
        "article = scraped_data.read()\n",
        "parsed_article = bs.BeautifulSoup(article,'lxml')\n",
        "paragraph = parsed_article.find_all('p')\n",
        "\n",
        "# taking all the paragraph in one \n",
        "article_text = \"\"\n",
        "for p in paragraph:\n",
        "  article_text +=p.text"
      ],
      "execution_count": null,
      "outputs": []
    },
    {
      "cell_type": "code",
      "metadata": {
        "colab": {
          "base_uri": "https://localhost:8080/",
          "height": 147
        },
        "id": "vnKXDeNeWxLb",
        "outputId": "b2152cf4-c81c-4708-84cb-89f611e1a9ef"
      },
      "source": [
        "#View the raw text \n",
        "article_text"
      ],
      "execution_count": null,
      "outputs": [
        {
          "output_type": "execute_result",
          "data": {
            "application/vnd.google.colaboratory.intrinsic+json": {
              "type": "string"
            },
            "text/plain": [
              "'Topics\\nCoronavirus\\xa0|\\xa0ICMR\\xa0|\\xa0Delta variant of coronavirus\\n\\nBusiness Standard\\xa0\\t\\t\\t\\t\\t\\t\\t\\t  \\t\\t\\t\\t\\t\\t\\t\\t  |\\xa0\\r\\n\\t\\t\\t\\t\\t\\t\\t\\t  \\t\\t\\t\\t\\t\\t\\t\\t  \\t\\t\\t\\t\\t\\t\\t\\t  \\t\\t\\t\\t\\t\\t\\t\\t  New Delhi\\xa0\\t\\t\\t\\t\\t\\t\\t  \\t  \\t\\t\\t\\t\\t\\t\\t  \\n\\n\\t\\t\\t\\t\\t\\t\\t  Last Updated at September 1, 2021 16:09 IST\\nhttps://mybs.in/2ZhMJ8KIndia on Wednesday reported a net increase of 7,541 in active coronavirus cases to take its count to 378,181. India’s share of global active coronavirus cases now stands at 2.03 per cent (one in 49). The country is tenth among the most affected countries by active cases. On Tuesday, it added 41,965 cases to take its total caseload to 32,810,845 from 32,768,880 — an increase of 0.1%. And, with 460 new fatalities, its Covid-19 death toll reached 439,020, or 1.34 per cent of total confirmed infections.\\r\\nWith 13,318,718 more Covid-19 vaccine doses being administered on Tuesday, India’s total count of vaccine shots so far reached 654,113,508. The count of recovered coronavirus cases across India, meanwhile, reached 31,993,644 – or 97.51 per cent of total caseload – with 33,964 new cured cases being reported on Wednesday.document.write(\"<!--\");if(isUserBanner==\"free\"&&(displayConBanner==1))document.write(\"-->\");googletag.cmd.push(function(){googletag.defineOutOfPageSlot(\\'/6516239/outofpage_1x1_desktop\\',\\'div-gpt-ad-1490771277198-0\\').addService(googletag.pubads());googletag.pubads().enableSyncRendering();googletag.enableServices();});\\n\\nBusiness Standard has always strived hard to provide up-to-date information and commentary on developments that are of interest to you and have wider political and economic implications for the country and the world.  Your encouragement and constant feedback on how to improve our offering have only made our resolve and commitment to these ideals stronger.  Even during these difficult times arising out of Covid-19, we continue to remain committed to keeping you informed and updated with credible news, authoritative views and incisive commentary on topical issues of relevance.\\r\\nWe, however, have a request.\\r\\n\\r\\nAs we battle the economic impact of the pandemic, we need your support even more, so that we can continue to offer you more quality content. Our subscription model has seen an encouraging response from many of you, who have subscribed to our online content. More subscription to our online content can only help us achieve the goals of offering you even better and more relevant content. We believe in free, fair and credible journalism. Your support through more subscriptions can help us practise the journalism to which we are committed.\\r\\n\\r\\nSupport quality journalism and subscribe to Business Standard.\\r\\n\\r\\nDigital Editor\\r\\nPREVIOUS STORYNEXT STORYCopyrights © 2021 Business Standard Private Ltd. All rights reserved.Upgrade To Premium Services Business Standard is happy to inform you of the launch of \"Business Standard Premium Services\"As a premium subscriber you get an across device unfettered access to a range of services which include:Premium Services In Partnership with Dear Guest,Welcome to the premium services of Business Standard brought to you courtesy FIS.\\n         Kindly visit the Manage my subscription page to discover the benefits of this programme.\\n\\n         Enjoy Reading!\\n         Team Business Standard\\n      '"
            ]
          },
          "metadata": {},
          "execution_count": 5
        }
      ]
    },
    {
      "cell_type": "markdown",
      "metadata": {
        "id": "x_G_AMmxXAEN"
      },
      "source": [
        "Preprocessing "
      ]
    },
    {
      "cell_type": "code",
      "metadata": {
        "id": "Pt2sio2YXFRz"
      },
      "source": [
        "# removes the square brackets and replaces the resulting multiple spaces by a single space\n",
        "article_text = re.sub(r'\\[[0-9]*\\]',' ',article_text)\n",
        "article_text = re.sub(r'\\s+',' ',article_text)"
      ],
      "execution_count": null,
      "outputs": []
    },
    {
      "cell_type": "code",
      "metadata": {
        "colab": {
          "base_uri": "https://localhost:8080/",
          "height": 147
        },
        "id": "Uq6z7k3LXgcO",
        "outputId": "49e45bbf-20fd-4169-d377-df476648fd9f"
      },
      "source": [
        "#View the trimmed data \n",
        "article_text"
      ],
      "execution_count": null,
      "outputs": [
        {
          "output_type": "execute_result",
          "data": {
            "application/vnd.google.colaboratory.intrinsic+json": {
              "type": "string"
            },
            "text/plain": [
              "'Topics Coronavirus | ICMR | Delta variant of coronavirus Business Standard | New Delhi Last Updated at September 1, 2021 16:09 IST https://mybs.in/2ZhMJ8KIndia on Wednesday reported a net increase of 7,541 in active coronavirus cases to take its count to 378,181. India’s share of global active coronavirus cases now stands at 2.03 per cent (one in 49). The country is tenth among the most affected countries by active cases. On Tuesday, it added 41,965 cases to take its total caseload to 32,810,845 from 32,768,880 — an increase of 0.1%. And, with 460 new fatalities, its Covid-19 death toll reached 439,020, or 1.34 per cent of total confirmed infections. With 13,318,718 more Covid-19 vaccine doses being administered on Tuesday, India’s total count of vaccine shots so far reached 654,113,508. The count of recovered coronavirus cases across India, meanwhile, reached 31,993,644 – or 97.51 per cent of total caseload – with 33,964 new cured cases being reported on Wednesday.document.write(\"<!--\");if(isUserBanner==\"free\"&&(displayConBanner==1))document.write(\"-->\");googletag.cmd.push(function(){googletag.defineOutOfPageSlot(\\'/6516239/outofpage_1x1_desktop\\',\\'div-gpt-ad-1490771277198-0\\').addService(googletag.pubads());googletag.pubads().enableSyncRendering();googletag.enableServices();}); Business Standard has always strived hard to provide up-to-date information and commentary on developments that are of interest to you and have wider political and economic implications for the country and the world. Your encouragement and constant feedback on how to improve our offering have only made our resolve and commitment to these ideals stronger. Even during these difficult times arising out of Covid-19, we continue to remain committed to keeping you informed and updated with credible news, authoritative views and incisive commentary on topical issues of relevance. We, however, have a request. As we battle the economic impact of the pandemic, we need your support even more, so that we can continue to offer you more quality content. Our subscription model has seen an encouraging response from many of you, who have subscribed to our online content. More subscription to our online content can only help us achieve the goals of offering you even better and more relevant content. We believe in free, fair and credible journalism. Your support through more subscriptions can help us practise the journalism to which we are committed. Support quality journalism and subscribe to Business Standard. Digital Editor PREVIOUS STORYNEXT STORYCopyrights © 2021 Business Standard Private Ltd. All rights reserved.Upgrade To Premium Services Business Standard is happy to inform you of the launch of \"Business Standard Premium Services\"As a premium subscriber you get an across device unfettered access to a range of services which include:Premium Services In Partnership with Dear Guest,Welcome to the premium services of Business Standard brought to you courtesy FIS. Kindly visit the Manage my subscription page to discover the benefits of this programme. Enjoy Reading! Team Business Standard '"
            ]
          },
          "metadata": {},
          "execution_count": 7
        }
      ]
    },
    {
      "cell_type": "code",
      "metadata": {
        "colab": {
          "base_uri": "https://localhost:8080/"
        },
        "id": "ggrxiRxzX0hs",
        "outputId": "1bf80ff2-8e53-483a-c071-38c109a8f762"
      },
      "source": [
        "#Dowload the NLTK toolkit \n",
        "import nltk\n",
        "nltk.download('punkt')\n",
        "nltk.download('stopwords')"
      ],
      "execution_count": null,
      "outputs": [
        {
          "output_type": "stream",
          "name": "stdout",
          "text": [
            "[nltk_data] Downloading package punkt to /root/nltk_data...\n",
            "[nltk_data]   Unzipping tokenizers/punkt.zip.\n",
            "[nltk_data] Downloading package stopwords to /root/nltk_data...\n",
            "[nltk_data]   Unzipping corpora/stopwords.zip.\n"
          ]
        },
        {
          "output_type": "execute_result",
          "data": {
            "text/plain": [
              "True"
            ]
          },
          "metadata": {},
          "execution_count": 8
        }
      ]
    },
    {
      "cell_type": "code",
      "metadata": {
        "id": "h1Bbi1HUXvGr"
      },
      "source": [
        "#Sentence tokenization from the article \n",
        "sentence_list = nltk.sent_tokenize(article_text)"
      ],
      "execution_count": null,
      "outputs": []
    },
    {
      "cell_type": "code",
      "metadata": {
        "colab": {
          "base_uri": "https://localhost:8080/"
        },
        "id": "ufj2m0Z_X_Ur",
        "outputId": "2535c566-07b6-4baf-fe12-e0da1b076cdc"
      },
      "source": [
        "sentence_list"
      ],
      "execution_count": null,
      "outputs": [
        {
          "output_type": "execute_result",
          "data": {
            "text/plain": [
              "['Topics Coronavirus | ICMR | Delta variant of coronavirus Business Standard | New Delhi Last Updated at September 1, 2021 16:09 IST https://mybs.in/2ZhMJ8KIndia on Wednesday reported a net increase of 7,541 in active coronavirus cases to take its count to 378,181.',\n",
              " 'India’s share of global active coronavirus cases now stands at 2.03 per cent (one in 49).',\n",
              " 'The country is tenth among the most affected countries by active cases.',\n",
              " 'On Tuesday, it added 41,965 cases to take its total caseload to 32,810,845 from 32,768,880 — an increase of 0.1%.',\n",
              " 'And, with 460 new fatalities, its Covid-19 death toll reached 439,020, or 1.34 per cent of total confirmed infections.',\n",
              " 'With 13,318,718 more Covid-19 vaccine doses being administered on Tuesday, India’s total count of vaccine shots so far reached 654,113,508.',\n",
              " 'The count of recovered coronavirus cases across India, meanwhile, reached 31,993,644 – or 97.51 per cent of total caseload – with 33,964 new cured cases being reported on Wednesday.document.write(\"<!--\");if(isUserBanner==\"free\"&&(displayConBanner==1))document.write(\"-->\");googletag.cmd.push(function(){googletag.defineOutOfPageSlot(\\'/6516239/outofpage_1x1_desktop\\',\\'div-gpt-ad-1490771277198-0\\').addService(googletag.pubads());googletag.pubads().enableSyncRendering();googletag.enableServices();}); Business Standard has always strived hard to provide up-to-date information and commentary on developments that are of interest to you and have wider political and economic implications for the country and the world.',\n",
              " 'Your encouragement and constant feedback on how to improve our offering have only made our resolve and commitment to these ideals stronger.',\n",
              " 'Even during these difficult times arising out of Covid-19, we continue to remain committed to keeping you informed and updated with credible news, authoritative views and incisive commentary on topical issues of relevance.',\n",
              " 'We, however, have a request.',\n",
              " 'As we battle the economic impact of the pandemic, we need your support even more, so that we can continue to offer you more quality content.',\n",
              " 'Our subscription model has seen an encouraging response from many of you, who have subscribed to our online content.',\n",
              " 'More subscription to our online content can only help us achieve the goals of offering you even better and more relevant content.',\n",
              " 'We believe in free, fair and credible journalism.',\n",
              " 'Your support through more subscriptions can help us practise the journalism to which we are committed.',\n",
              " 'Support quality journalism and subscribe to Business Standard.',\n",
              " 'Digital Editor PREVIOUS STORYNEXT STORYCopyrights © 2021 Business Standard Private Ltd. All rights reserved.Upgrade To Premium Services Business Standard is happy to inform you of the launch of \"Business Standard Premium Services\"As a premium subscriber you get an across device unfettered access to a range of services which include:Premium Services In Partnership with Dear Guest,Welcome to the premium services of Business Standard brought to you courtesy FIS.',\n",
              " 'Kindly visit the Manage my subscription page to discover the benefits of this programme.',\n",
              " 'Enjoy Reading!',\n",
              " 'Team Business Standard']"
            ]
          },
          "metadata": {},
          "execution_count": 10
        }
      ]
    },
    {
      "cell_type": "code",
      "metadata": {
        "id": "Kw5FnA9XYDLP"
      },
      "source": [
        "#Find out the word frequencies except the english stopwords\n",
        "stopwords = nltk.corpus.stopwords.words('english')\n",
        "\n",
        "word_frequencies = {}\n",
        "for word in nltk.word_tokenize(article_text):\n",
        "    if word not in stopwords:\n",
        "        if word not in word_frequencies.keys():\n",
        "            word_frequencies[word] = 1\n",
        "        else:\n",
        "            word_frequencies[word] += 1"
      ],
      "execution_count": null,
      "outputs": []
    },
    {
      "cell_type": "code",
      "metadata": {
        "id": "58xXlxsmYRA-"
      },
      "source": [
        "maximum_frequncy = max(word_frequencies.values())\n",
        "\n",
        "for word in word_frequencies.keys():\n",
        "    word_frequencies[word] = (word_frequencies[word]/maximum_frequncy)"
      ],
      "execution_count": null,
      "outputs": []
    },
    {
      "cell_type": "code",
      "metadata": {
        "colab": {
          "base_uri": "https://localhost:8080/"
        },
        "id": "eap64t8fYWGM",
        "outputId": "b8976b3e-4a96-4e35-b101-06ce2dd3a273"
      },
      "source": [
        "maximum_frequncy"
      ],
      "execution_count": null,
      "outputs": [
        {
          "output_type": "execute_result",
          "data": {
            "text/plain": [
              "18"
            ]
          },
          "metadata": {},
          "execution_count": 14
        }
      ]
    },
    {
      "cell_type": "code",
      "metadata": {
        "id": "puVRT50sYYXz"
      },
      "source": [
        "#Find out the sntence score for each for weightage evaluation\n",
        "sentence_scores = {}\n",
        "for sent in sentence_list:\n",
        "    for word in nltk.word_tokenize(sent.lower()):\n",
        "        if word in word_frequencies.keys():\n",
        "            if len(sent.split(' ')) < 30:\n",
        "                if sent not in sentence_scores.keys():\n",
        "                    sentence_scores[sent] = word_frequencies[word]\n",
        "                else:\n",
        "                    sentence_scores[sent] += word_frequencies[word]"
      ],
      "execution_count": null,
      "outputs": []
    },
    {
      "cell_type": "code",
      "metadata": {
        "colab": {
          "base_uri": "https://localhost:8080/"
        },
        "id": "KoW4eeOxYdGd",
        "outputId": "1c71b4d6-36b5-4c4f-fd71-3bb159033916"
      },
      "source": [
        "#View the sentence score of  each sentences \n",
        "sentence_scores"
      ],
      "execution_count": null,
      "outputs": [
        {
          "output_type": "execute_result",
          "data": {
            "text/plain": [
              "{'And, with 460 new fatalities, its Covid-19 death toll reached 439,020, or 1.34 per cent of total confirmed infections.': 5.277777777777776,\n",
              " 'As we battle the economic impact of the pandemic, we need your support even more, so that we can continue to offer you more quality content.': 4.055555555555555,\n",
              " 'Enjoy Reading!': 0.1111111111111111,\n",
              " 'India’s share of global active coronavirus cases now stands at 2.03 per cent (one in 49).': 3.944444444444444,\n",
              " 'Kindly visit the Manage my subscription page to discover the benefits of this programme.': 1.4444444444444446,\n",
              " 'More subscription to our online content can only help us achieve the goals of offering you even better and more relevant content.': 2.3888888888888893,\n",
              " 'On Tuesday, it added 41,965 cases to take its total caseload to 32,810,845 from 32,768,880 — an increase of 0.1%.': 3.2777777777777772,\n",
              " 'Our subscription model has seen an encouraging response from many of you, who have subscribed to our online content.': 2.8333333333333335,\n",
              " 'Support quality journalism and subscribe to Business Standard.': 1.4444444444444444,\n",
              " 'The country is tenth among the most affected countries by active cases.': 1.8333333333333333,\n",
              " 'We believe in free, fair and credible journalism.': 2.5,\n",
              " 'We, however, have a request.': 3.1111111111111107,\n",
              " 'With 13,318,718 more Covid-19 vaccine doses being administered on Tuesday, India’s total count of vaccine shots so far reached 654,113,508.': 3.222222222222222,\n",
              " 'Your encouragement and constant feedback on how to improve our offering have only made our resolve and commitment to these ideals stronger.': 1.6111111111111112,\n",
              " 'Your support through more subscriptions can help us practise the journalism to which we are committed.': 1.722222222222222}"
            ]
          },
          "metadata": {},
          "execution_count": 16
        }
      ]
    },
    {
      "cell_type": "code",
      "metadata": {
        "colab": {
          "base_uri": "https://localhost:8080/"
        },
        "id": "yLrHOqRZYfR0",
        "outputId": "66bc73a5-4d9e-4a35-82d6-7ef9436968ee"
      },
      "source": [
        "# Creating the summaries\n",
        "import heapq\n",
        "summary_sentences = heapq.nlargest(2, sentence_scores, key=sentence_scores.get)\n",
        "\n",
        "summary = ' '.join(summary_sentences)\n",
        "print(summary)"
      ],
      "execution_count": null,
      "outputs": [
        {
          "output_type": "stream",
          "name": "stdout",
          "text": [
            "And, with 460 new fatalities, its Covid-19 death toll reached 439,020, or 1.34 per cent of total confirmed infections. As we battle the economic impact of the pandemic, we need your support even more, so that we can continue to offer you more quality content.\n"
          ]
        }
      ]
    }
  ]
}