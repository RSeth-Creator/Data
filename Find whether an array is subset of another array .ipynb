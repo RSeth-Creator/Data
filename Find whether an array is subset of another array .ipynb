{
 "cells": [
  {
   "cell_type": "code",
   "execution_count": 2,
   "metadata": {},
   "outputs": [],
   "source": [
    "import array as arr"
   ]
  },
  {
   "cell_type": "code",
   "execution_count": 8,
   "metadata": {},
   "outputs": [
    {
     "name": "stdout",
     "output_type": "stream",
     "text": [
      "Enter size of array:5\n",
      "Enter main array element:1\n",
      "Enter main array element:2\n",
      "Enter main array element:3\n",
      "Enter main array element:5\n",
      "Enter main array element:4\n",
      "final main array is:1 2 3 5 4 "
     ]
    }
   ],
   "source": [
    "##Initialize main array\n",
    "\n",
    "main = arr.array('i', [])\n",
    "s1 = int(input(\"Enter size of array:\"))\n",
    "for i in range(0, s1):\n",
    "    n1 = int(input(\"Enter main array element:\"))\n",
    "    main.append(n1)\n",
    "\n",
    "print(\"final main array is:\", end=\"\")\n",
    "for i in main:\n",
    "    print(i, end=\" \")\n",
    "    "
   ]
  },
  {
   "cell_type": "code",
   "execution_count": 9,
   "metadata": {},
   "outputs": [
    {
     "name": "stdout",
     "output_type": "stream",
     "text": [
      "Enter size of array:2\n",
      "Enter main array element:1\n",
      "Enter main array element:2\n",
      "final test array is:1 2 "
     ]
    }
   ],
   "source": [
    "##### Initialize test  array\n",
    "\n",
    "test = arr.array('i', [])\n",
    "s2 = int(input(\"Enter size of array:\"))\n",
    "for j in range(0, s2):\n",
    "    n2 = int(input(\"Enter main array element:\"))\n",
    "    test.append(n2)\n",
    "\n",
    "print(\"final test array is:\", end=\"\")\n",
    "for j in test:\n",
    "    print(j, end=\" \")\n",
    "    "
   ]
  },
  {
   "cell_type": "code",
   "execution_count": 10,
   "metadata": {},
   "outputs": [],
   "source": [
    "## Check how many element of test present in the main array \n",
    "\n",
    "temp=arr.array('i',[])\n",
    "for k1 in range (0,len(test)):\n",
    "    for k2 in range (0,len(main)):\n",
    "        if(test[k1]== main[k2]):\n",
    "            temp.append(test[k2])\n"
   ]
  },
  {
   "cell_type": "code",
   "execution_count": 11,
   "metadata": {},
   "outputs": [
    {
     "name": "stdout",
     "output_type": "stream",
     "text": [
      "Element of test array present in main array is: 1 2 \n",
      "\n",
      "All the element of test array present in main array. Hence,Test array is subset of main array.\n"
     ]
    }
   ],
   "source": [
    "##Element of test array present in main array is:\n",
    "\n",
    "print(\"Element of test array present in main array is:\", end=\" \")\n",
    "for k in temp:\n",
    "    print(k,end=\" \")\n",
    "print(\"\\n\") \n",
    "##find out subset or not \n",
    "if (len(temp)!=len(test)):\n",
    "    print(\"Not all the element of test array present in main array. Hence,Test array is not subset of the main array.\")\n",
    "else:\n",
    "    print(\"All the element of test array present in main array. Hence,Test array is subset of main array.\")\n"
   ]
  },
  {
   "cell_type": "code",
   "execution_count": null,
   "metadata": {},
   "outputs": [],
   "source": []
  }
 ],
 "metadata": {
  "kernelspec": {
   "display_name": "Python 3",
   "language": "python",
   "name": "python3"
  }
 },
 "nbformat": 4,
 "nbformat_minor": 4
}
