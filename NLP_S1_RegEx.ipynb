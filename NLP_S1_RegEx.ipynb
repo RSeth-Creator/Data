{
  "nbformat": 4,
  "nbformat_minor": 0,
  "metadata": {
    "colab": {
      "name": "NLP_S1_RegEx.ipynb",
      "provenance": [],
      "collapsed_sections": [],
      "authorship_tag": "ABX9TyMhsnfNI9MQcMKrz+qD4f8y",
      "include_colab_link": true
    },
    "kernelspec": {
      "name": "python3",
      "display_name": "Python 3"
    },
    "language_info": {
      "name": "python"
    }
  },
  "cells": [
    {
      "cell_type": "markdown",
      "metadata": {
        "id": "view-in-github",
        "colab_type": "text"
      },
      "source": [
        "<a href=\"https://colab.research.google.com/github/RSeth-Creator/Data/blob/dataScience/NLP_S1_RegEx.ipynb\" target=\"_parent\"><img src=\"https://colab.research.google.com/assets/colab-badge.svg\" alt=\"Open In Colab\"/></a>"
      ]
    },
    {
      "cell_type": "code",
      "metadata": {
        "id": "QyTYRZi0s1Mh",
        "colab": {
          "base_uri": "https://localhost:8080/"
        },
        "outputId": "54290b84-2e16-4b92-d7b4-01581346721b"
      },
      "source": [
        "import nltk\n",
        "nltk.download()\n",
        "##nltk contains function, module, dataset which we need to download in our local setup for usage"
      ],
      "execution_count": 1,
      "outputs": [
        {
          "name": "stdout",
          "output_type": "stream",
          "text": [
            "NLTK Downloader\n",
            "---------------------------------------------------------------------------\n",
            "    d) Download   l) List    u) Update   c) Config   h) Help   q) Quit\n",
            "---------------------------------------------------------------------------\n",
            "Downloader> u\n",
            "\n",
            "Nothing to update.\n",
            "\n",
            "---------------------------------------------------------------------------\n",
            "    d) Download   l) List    u) Update   c) Config   h) Help   q) Quit\n",
            "---------------------------------------------------------------------------\n",
            "Downloader> q\n"
          ]
        },
        {
          "output_type": "execute_result",
          "data": {
            "text/plain": [
              "True"
            ]
          },
          "metadata": {},
          "execution_count": 1
        }
      ]
    },
    {
      "cell_type": "code",
      "metadata": {
        "colab": {
          "base_uri": "https://localhost:8080/"
        },
        "id": "8MmT7IIuvj3k",
        "outputId": "383ed1e0-cf79-4869-e2da-f43c38b85e7b"
      },
      "source": [
        "#pos_tag, tokenize used for the part of speech tagging and the iokenization purpose to \n",
        "#\"convert the sentences in to stream of words\"\n",
        "\n",
        "\n",
        "# how to call different components from nltk \n",
        "nltk.download('stopwords')\n",
        "from nltk.corpus import stopwords\n",
        "stopwords.words('english')[0:500:25]\n"
      ],
      "execution_count": 3,
      "outputs": [
        {
          "output_type": "stream",
          "name": "stdout",
          "text": [
            "[nltk_data] Downloading package stopwords to /root/nltk_data...\n",
            "[nltk_data]   Unzipping corpora/stopwords.zip.\n"
          ]
        },
        {
          "output_type": "execute_result",
          "data": {
            "text/plain": [
              "['i', 'herself', 'been', 'with', 'here', 'very', 'doesn', 'won']"
            ]
          },
          "metadata": {},
          "execution_count": 3
        }
      ]
    },
    {
      "cell_type": "code",
      "metadata": {
        "id": "y7n0kayFw2LT"
      },
      "source": [
        "#Unstructured data -- binary data , no delimeters, no indication of rows, imgae  etc "
      ],
      "execution_count": 4,
      "outputs": []
    },
    {
      "cell_type": "markdown",
      "metadata": {
        "id": "BsfpH9YM5ESP"
      },
      "source": [
        "**Importing the dataset using conventional way and pandas**"
      ]
    },
    {
      "cell_type": "code",
      "metadata": {
        "colab": {
          "base_uri": "https://localhost:8080/"
        },
        "id": "YAkvzKB2y0EC",
        "outputId": "069d3de3-8cae-4923-e2a5-38d4f31be9cd"
      },
      "source": [
        "from google.colab import drive\n",
        "drive.mount('/content/drive')"
      ],
      "execution_count": 5,
      "outputs": [
        {
          "output_type": "stream",
          "name": "stdout",
          "text": [
            "Mounted at /content/drive\n"
          ]
        }
      ]
    },
    {
      "cell_type": "code",
      "metadata": {
        "colab": {
          "base_uri": "https://localhost:8080/",
          "height": 91
        },
        "id": "9u_D_7YxzUXk",
        "outputId": "03d10ada-e519-4b5b-86a5-4e45fe4726ca"
      },
      "source": [
        "#Load the unstructure data it will not convert it into multiple column(attribute)\n",
        "# It will take the file content as a long string \n",
        "rawData = open(\"drive/My Drive/SMSSpamCollection.tsv\").read()\n",
        "rawData[0:500]"
      ],
      "execution_count": 6,
      "outputs": [
        {
          "output_type": "execute_result",
          "data": {
            "application/vnd.google.colaboratory.intrinsic+json": {
              "type": "string"
            },
            "text/plain": [
              "\"ham\\tI've been searching for the right words to thank you for this breather. I promise i wont take your help for granted and will fulfil my promise. You have been wonderful and a blessing at all times.\\nspam\\tFree entry in 2 a wkly comp to win FA Cup final tkts 21st May 2005. Text FA to 87121 to receive entry question(std txt rate)T&C's apply 08452810075over18's\\nham\\tNah I don't think he goes to usf, he lives around here though\\nham\\tEven my brother is not like to speak with me. They treat me like aid\""
            ]
          },
          "metadata": {},
          "execution_count": 6
        }
      ]
    },
    {
      "cell_type": "code",
      "metadata": {
        "colab": {
          "base_uri": "https://localhost:8080/"
        },
        "id": "JBkBoCK_1a79",
        "outputId": "8699fe2c-8e8f-4a07-eaab-1536208484ed"
      },
      "source": [
        "#Every time it when it will see '\\t' it will replace with '\\n' and after that it will split based on '\\n'\n",
        "parsedData  = rawData.replace('\\t','\\n').split('\\n')\n",
        "parsedData[0:5]"
      ],
      "execution_count": 7,
      "outputs": [
        {
          "output_type": "execute_result",
          "data": {
            "text/plain": [
              "['ham',\n",
              " \"I've been searching for the right words to thank you for this breather. I promise i wont take your help for granted and will fulfil my promise. You have been wonderful and a blessing at all times.\",\n",
              " 'spam',\n",
              " \"Free entry in 2 a wkly comp to win FA Cup final tkts 21st May 2005. Text FA to 87121 to receive entry question(std txt rate)T&C's apply 08452810075over18's\",\n",
              " 'ham']"
            ]
          },
          "metadata": {},
          "execution_count": 7
        }
      ]
    },
    {
      "cell_type": "code",
      "metadata": {
        "colab": {
          "base_uri": "https://localhost:8080/"
        },
        "id": "twlsvn6U2XXg",
        "outputId": "b0b76c8c-e166-4fe8-f839-b01f9fe2f15a"
      },
      "source": [
        "#Labelling the contenet of the imported file\n",
        "labelList = parsedData[0::2] #it will take the starting from index 0 (col1) and take every 1st column value\n",
        "textList = parsedData[1::2] # It will take the column 1 value for every row\n",
        "print(labelList[0:5])\n",
        "print(textList[0:5])"
      ],
      "execution_count": 8,
      "outputs": [
        {
          "output_type": "stream",
          "name": "stdout",
          "text": [
            "['ham', 'spam', 'ham', 'ham', 'ham']\n",
            "[\"I've been searching for the right words to thank you for this breather. I promise i wont take your help for granted and will fulfil my promise. You have been wonderful and a blessing at all times.\", \"Free entry in 2 a wkly comp to win FA Cup final tkts 21st May 2005. Text FA to 87121 to receive entry question(std txt rate)T&C's apply 08452810075over18's\", \"Nah I don't think he goes to usf, he lives around here though\", 'Even my brother is not like to speak with me. They treat me like aids patent.', 'I HAVE A DATE ON SUNDAY WITH WILL!!']\n"
          ]
        }
      ]
    },
    {
      "cell_type": "code",
      "metadata": {
        "colab": {
          "base_uri": "https://localhost:8080/",
          "height": 206
        },
        "id": "91KE5S253mVs",
        "outputId": "42a0320b-a94c-4522-eacf-bbbe4969d570"
      },
      "source": [
        "#Combine this two list for the analysis \n",
        "import pandas as pd \n",
        "fulCorpus = pd.DataFrame({\n",
        "    'label': labelList[:-1],# here we are dropping the last row (no label preset for the same)\n",
        "    'body_list': textList\n",
        "})\n",
        "\n",
        "fulCorpus.head()"
      ],
      "execution_count": 9,
      "outputs": [
        {
          "output_type": "execute_result",
          "data": {
            "text/html": [
              "<div>\n",
              "<style scoped>\n",
              "    .dataframe tbody tr th:only-of-type {\n",
              "        vertical-align: middle;\n",
              "    }\n",
              "\n",
              "    .dataframe tbody tr th {\n",
              "        vertical-align: top;\n",
              "    }\n",
              "\n",
              "    .dataframe thead th {\n",
              "        text-align: right;\n",
              "    }\n",
              "</style>\n",
              "<table border=\"1\" class=\"dataframe\">\n",
              "  <thead>\n",
              "    <tr style=\"text-align: right;\">\n",
              "      <th></th>\n",
              "      <th>label</th>\n",
              "      <th>body_list</th>\n",
              "    </tr>\n",
              "  </thead>\n",
              "  <tbody>\n",
              "    <tr>\n",
              "      <th>0</th>\n",
              "      <td>ham</td>\n",
              "      <td>I've been searching for the right words to tha...</td>\n",
              "    </tr>\n",
              "    <tr>\n",
              "      <th>1</th>\n",
              "      <td>spam</td>\n",
              "      <td>Free entry in 2 a wkly comp to win FA Cup fina...</td>\n",
              "    </tr>\n",
              "    <tr>\n",
              "      <th>2</th>\n",
              "      <td>ham</td>\n",
              "      <td>Nah I don't think he goes to usf, he lives aro...</td>\n",
              "    </tr>\n",
              "    <tr>\n",
              "      <th>3</th>\n",
              "      <td>ham</td>\n",
              "      <td>Even my brother is not like to speak with me. ...</td>\n",
              "    </tr>\n",
              "    <tr>\n",
              "      <th>4</th>\n",
              "      <td>ham</td>\n",
              "      <td>I HAVE A DATE ON SUNDAY WITH WILL!!</td>\n",
              "    </tr>\n",
              "  </tbody>\n",
              "</table>\n",
              "</div>"
            ],
            "text/plain": [
              "  label                                          body_list\n",
              "0   ham  I've been searching for the right words to tha...\n",
              "1  spam  Free entry in 2 a wkly comp to win FA Cup fina...\n",
              "2   ham  Nah I don't think he goes to usf, he lives aro...\n",
              "3   ham  Even my brother is not like to speak with me. ...\n",
              "4   ham                I HAVE A DATE ON SUNDAY WITH WILL!!"
            ]
          },
          "metadata": {},
          "execution_count": 9
        }
      ]
    },
    {
      "cell_type": "code",
      "metadata": {
        "colab": {
          "base_uri": "https://localhost:8080/",
          "height": 206
        },
        "id": "M0Y_u6QD4uVK",
        "outputId": "0ec2f687-3045-4924-fce0-e1d44263dca4"
      },
      "source": [
        "#read the file using pandas \n",
        "dataset = pd.read_csv(\"drive/My Drive/SMSSpamCollection.tsv\",sep = '\\t', header = None)\n",
        "dataset.head()"
      ],
      "execution_count": 10,
      "outputs": [
        {
          "output_type": "execute_result",
          "data": {
            "text/html": [
              "<div>\n",
              "<style scoped>\n",
              "    .dataframe tbody tr th:only-of-type {\n",
              "        vertical-align: middle;\n",
              "    }\n",
              "\n",
              "    .dataframe tbody tr th {\n",
              "        vertical-align: top;\n",
              "    }\n",
              "\n",
              "    .dataframe thead th {\n",
              "        text-align: right;\n",
              "    }\n",
              "</style>\n",
              "<table border=\"1\" class=\"dataframe\">\n",
              "  <thead>\n",
              "    <tr style=\"text-align: right;\">\n",
              "      <th></th>\n",
              "      <th>0</th>\n",
              "      <th>1</th>\n",
              "    </tr>\n",
              "  </thead>\n",
              "  <tbody>\n",
              "    <tr>\n",
              "      <th>0</th>\n",
              "      <td>ham</td>\n",
              "      <td>I've been searching for the right words to tha...</td>\n",
              "    </tr>\n",
              "    <tr>\n",
              "      <th>1</th>\n",
              "      <td>spam</td>\n",
              "      <td>Free entry in 2 a wkly comp to win FA Cup fina...</td>\n",
              "    </tr>\n",
              "    <tr>\n",
              "      <th>2</th>\n",
              "      <td>ham</td>\n",
              "      <td>Nah I don't think he goes to usf, he lives aro...</td>\n",
              "    </tr>\n",
              "    <tr>\n",
              "      <th>3</th>\n",
              "      <td>ham</td>\n",
              "      <td>Even my brother is not like to speak with me. ...</td>\n",
              "    </tr>\n",
              "    <tr>\n",
              "      <th>4</th>\n",
              "      <td>ham</td>\n",
              "      <td>I HAVE A DATE ON SUNDAY WITH WILL!!</td>\n",
              "    </tr>\n",
              "  </tbody>\n",
              "</table>\n",
              "</div>"
            ],
            "text/plain": [
              "      0                                                  1\n",
              "0   ham  I've been searching for the right words to tha...\n",
              "1  spam  Free entry in 2 a wkly comp to win FA Cup fina...\n",
              "2   ham  Nah I don't think he goes to usf, he lives aro...\n",
              "3   ham  Even my brother is not like to speak with me. ...\n",
              "4   ham                I HAVE A DATE ON SUNDAY WITH WILL!!"
            ]
          },
          "metadata": {},
          "execution_count": 10
        }
      ]
    },
    {
      "cell_type": "markdown",
      "metadata": {
        "id": "7AeSa_uU5NdS"
      },
      "source": [
        "**Exploring the datasets**"
      ]
    },
    {
      "cell_type": "code",
      "metadata": {
        "colab": {
          "base_uri": "https://localhost:8080/",
          "height": 206
        },
        "id": "NOL9G6_gYuNy",
        "outputId": "d398be75-f93f-4549-be23-8025bd043032"
      },
      "source": [
        "#Add column to the dataframe\n",
        "dataset.columns = ['labels', 'body_text']\n",
        "dataset.head()"
      ],
      "execution_count": 11,
      "outputs": [
        {
          "output_type": "execute_result",
          "data": {
            "text/html": [
              "<div>\n",
              "<style scoped>\n",
              "    .dataframe tbody tr th:only-of-type {\n",
              "        vertical-align: middle;\n",
              "    }\n",
              "\n",
              "    .dataframe tbody tr th {\n",
              "        vertical-align: top;\n",
              "    }\n",
              "\n",
              "    .dataframe thead th {\n",
              "        text-align: right;\n",
              "    }\n",
              "</style>\n",
              "<table border=\"1\" class=\"dataframe\">\n",
              "  <thead>\n",
              "    <tr style=\"text-align: right;\">\n",
              "      <th></th>\n",
              "      <th>labels</th>\n",
              "      <th>body_text</th>\n",
              "    </tr>\n",
              "  </thead>\n",
              "  <tbody>\n",
              "    <tr>\n",
              "      <th>0</th>\n",
              "      <td>ham</td>\n",
              "      <td>I've been searching for the right words to tha...</td>\n",
              "    </tr>\n",
              "    <tr>\n",
              "      <th>1</th>\n",
              "      <td>spam</td>\n",
              "      <td>Free entry in 2 a wkly comp to win FA Cup fina...</td>\n",
              "    </tr>\n",
              "    <tr>\n",
              "      <th>2</th>\n",
              "      <td>ham</td>\n",
              "      <td>Nah I don't think he goes to usf, he lives aro...</td>\n",
              "    </tr>\n",
              "    <tr>\n",
              "      <th>3</th>\n",
              "      <td>ham</td>\n",
              "      <td>Even my brother is not like to speak with me. ...</td>\n",
              "    </tr>\n",
              "    <tr>\n",
              "      <th>4</th>\n",
              "      <td>ham</td>\n",
              "      <td>I HAVE A DATE ON SUNDAY WITH WILL!!</td>\n",
              "    </tr>\n",
              "  </tbody>\n",
              "</table>\n",
              "</div>"
            ],
            "text/plain": [
              "  labels                                          body_text\n",
              "0    ham  I've been searching for the right words to tha...\n",
              "1   spam  Free entry in 2 a wkly comp to win FA Cup fina...\n",
              "2    ham  Nah I don't think he goes to usf, he lives aro...\n",
              "3    ham  Even my brother is not like to speak with me. ...\n",
              "4    ham                I HAVE A DATE ON SUNDAY WITH WILL!!"
            ]
          },
          "metadata": {},
          "execution_count": 11
        }
      ]
    },
    {
      "cell_type": "code",
      "metadata": {
        "colab": {
          "base_uri": "https://localhost:8080/"
        },
        "id": "ILT8_kenalUO",
        "outputId": "d58b3f90-c9e7-4b0d-da2a-36ba6d0205a7"
      },
      "source": [
        "#What is the shape of the dataset \n",
        "print(\"Input data has {} rows & {} columns\". format(len(dataset),len(dataset.columns)))"
      ],
      "execution_count": 12,
      "outputs": [
        {
          "output_type": "stream",
          "name": "stdout",
          "text": [
            "Input data has5568 rows & 2 columns\n"
          ]
        }
      ]
    },
    {
      "cell_type": "code",
      "metadata": {
        "colab": {
          "base_uri": "https://localhost:8080/"
        },
        "id": "55YVW2MOa9Jh",
        "outputId": "1a822088-827f-4199-82cc-789cdb9c8524"
      },
      "source": [
        "#Filter out the number of label contains spam\n",
        "print('The number of spam presen in the dataset ',len(dataset[dataset['labels']=='spam']))\n",
        "print('The number of ham present in the dataset ',len(dataset[dataset['labels']=='ham']))"
      ],
      "execution_count": 18,
      "outputs": [
        {
          "output_type": "stream",
          "name": "stdout",
          "text": [
            "The number of spam presen in the dataset  746\n",
            "The number of ham present in the dataset  4822\n"
          ]
        }
      ]
    },
    {
      "cell_type": "markdown",
      "metadata": {
        "id": "lb0IGL1bimDL"
      },
      "source": [
        "# Regular Expression "
      ]
    },
    {
      "cell_type": "code",
      "metadata": {
        "id": "qKGspbm3c565"
      },
      "source": [
        "# Regular Expression \n",
        "#Text string search for describing search pattern\n",
        "#Search pattern for one character [a-z][A-Z]\n",
        "# Seach for word or pattern   for more than one character '[a-z]+'\n",
        "# To return the alphanumeric string '[a-z0-9]+'"
      ],
      "execution_count": null,
      "outputs": []
    },
    {
      "cell_type": "code",
      "metadata": {
        "id": "8afIGlaoedYC"
      },
      "source": [
        "re_test = 'This is a made up string to test 2 different regex methods'\n",
        "re_test_messy = 'This      is a made up     string to test 2    different regex methods'\n",
        "re_test_messy1 = 'This-is-a-made/up.string*to>>>>test----2\"\"\"\"\"\"diferent~regex-methods'"
      ],
      "execution_count": 2,
      "outputs": []
    },
    {
      "cell_type": "code",
      "metadata": {
        "id": "XSCB0Uw6evu3"
      },
      "source": [
        "import re "
      ],
      "execution_count": 3,
      "outputs": []
    },
    {
      "cell_type": "markdown",
      "metadata": {
        "id": "DOXmd_9snFFp"
      },
      "source": [
        "re.split() -- to tokenize the data based on white space('\\s') & for Special character ('\\W+')"
      ]
    },
    {
      "cell_type": "code",
      "metadata": {
        "colab": {
          "base_uri": "https://localhost:8080/"
        },
        "id": "YJB3q-BPezFf",
        "outputId": "9500abf2-3575-4a9a-c2cb-84caedf3c3a2"
      },
      "source": [
        "print(re_test.split(' '))"
      ],
      "execution_count": 7,
      "outputs": [
        {
          "output_type": "stream",
          "name": "stdout",
          "text": [
            "['This', 'is', 'a', 'made', 'up', 'string', 'to', 'test', '2', 'different', 'regex', 'methods']\n"
          ]
        }
      ]
    },
    {
      "cell_type": "code",
      "metadata": {
        "colab": {
          "base_uri": "https://localhost:8080/"
        },
        "id": "LsOs4BZshYmV",
        "outputId": "bd44906e-f5fc-4ee2-ac0b-513bda3f1312"
      },
      "source": [
        "#if we have one space after each word then we can use dingle space using '\\s'\n",
        "print(re.split('\\s',re_test))"
      ],
      "execution_count": 16,
      "outputs": [
        {
          "output_type": "stream",
          "name": "stdout",
          "text": [
            "['This', 'is', 'a', 'made', 'up', 'string', 'to', 'test', '2', 'different', 'regex', 'methods']\n"
          ]
        }
      ]
    },
    {
      "cell_type": "code",
      "metadata": {
        "colab": {
          "base_uri": "https://localhost:8080/"
        },
        "id": "thfR6fFdix70",
        "outputId": "da07425c-84a2-4a87-cfb2-ad3304975bde"
      },
      "source": [
        "# If we have more than one space present in the string then we have to use '\\s+' --\n",
        "#S/s is based on whitespace\n",
        "print(re.split('\\s+',re_test_messy))"
      ],
      "execution_count": 14,
      "outputs": [
        {
          "output_type": "stream",
          "name": "stdout",
          "text": [
            "['This', 'is', 'a', 'made', 'up', 'string', 'to', 'test', '2', 'different', 'regex', 'methods']\n"
          ]
        }
      ]
    },
    {
      "cell_type": "code",
      "metadata": {
        "colab": {
          "base_uri": "https://localhost:8080/"
        },
        "id": "m0kj1EX9kxyM",
        "outputId": "ebbdb87b-7cdb-4443-8f69-e516d1ac9b5d"
      },
      "source": [
        "# Dealing with the special character -- W /w is based on words \n",
        "#'\\W+' will try to find out non word/numeric  character  for the slpitting the string \n",
        "# + sign is use for multiple character in a string if we move the + sign then it can't be handle \n",
        "print(re.split('\\W+',re_test_messy1))\n",
        "print(re.split('\\W+',re_test_messy))\n",
        "print(re.split('\\W+',re_test))"
      ],
      "execution_count": 20,
      "outputs": [
        {
          "output_type": "stream",
          "name": "stdout",
          "text": [
            "['This', 'is', 'a', 'made', 'up', 'string', 'to', 'test', '2', 'diferent', 'regex', 'methods']\n",
            "['This', 'is', 'a', 'made', 'up', 'string', 'to', 'test', '2', 'different', 'regex', 'methods']\n",
            "['This', 'is', 'a', 'made', 'up', 'string', 'to', 'test', '2', 'different', 'regex', 'methods']\n"
          ]
        }
      ]
    },
    {
      "cell_type": "markdown",
      "metadata": {
        "id": "e3LtPrVKnMny"
      },
      "source": [
        "re.findall() --\n",
        "'\\S+' -- find the word except the whitespace \n",
        "'\\w+'-- Find the word except the special character bold text"
      ]
    },
    {
      "cell_type": "code",
      "metadata": {
        "colab": {
          "base_uri": "https://localhost:8080/"
        },
        "id": "11p47aU_hePV",
        "outputId": "99a554d0-fb16-4f00-dd12-14022d55fa65"
      },
      "source": [
        "# If we have to findout single numbers from the string the '[0-9]'\n",
        "print(re.findall(r'[0-9]',re_test))\n",
        "#Reverse way for the above s-->S && W-->w will find the all words and characters from the string \n",
        "print(re.findall('\\S+',re_test))\n",
        "print(re.findall('\\w+',re_test_messy))\n",
        "print(re.findall('\\w+',re_test_messy1))"
      ],
      "execution_count": 24,
      "outputs": [
        {
          "output_type": "stream",
          "name": "stdout",
          "text": [
            "['2']\n",
            "['This', 'is', 'a', 'made', 'up', 'string', 'to', 'test', '2', 'different', 'regex', 'methods']\n",
            "['This', 'is', 'a', 'made', 'up', 'string', 'to', 'test', '2', 'different', 'regex', 'methods']\n",
            "['This', 'is', 'a', 'made', 'up', 'string', 'to', 'test', '2', 'diferent', 'regex', 'methods']\n"
          ]
        }
      ]
    },
    {
      "cell_type": "markdown",
      "metadata": {
        "id": "TsIO_rRin26X"
      },
      "source": [
        "Replacing a specific string "
      ]
    },
    {
      "cell_type": "code",
      "metadata": {
        "id": "c2_5rTSfn5GK"
      },
      "source": [
        "pep8_test = 'I try to follow PEP8 guidelines'\n",
        "pep7_test = 'I try to follow PEP7 guidelines'\n",
        "peep8_test = 'I try to follow PEEP8 guidelines'"
      ],
      "execution_count": 34,
      "outputs": []
    },
    {
      "cell_type": "code",
      "metadata": {
        "colab": {
          "base_uri": "https://localhost:8080/"
        },
        "id": "Ds5m9GrDmnlp",
        "outputId": "0c709692-89cc-4fc5-84e7-d362316e015b"
      },
      "source": [
        "#Find all the word with lower character \n",
        "print(re.findall('[a-z]+',pep8_test))\n",
        "#Find all the word with uper character \n",
        "print(re.findall('[A-Z]+',pep8_test))\n",
        "# To find out the alplha numeric  words from the string '[A-Za-z]+[0-9]'\n",
        "print(re.findall('[A-Za-z]+[0-9]',pep8_test))\n",
        "#It will take all the word without the special character and space form the string \n",
        "print(re.findall('[A-Za-z0-9]+',pep8_test))"
      ],
      "execution_count": 35,
      "outputs": [
        {
          "output_type": "stream",
          "name": "stdout",
          "text": [
            "['try', 'to', 'follow', 'guidelines']\n",
            "['I', 'PEP']\n",
            "['PEP8']\n",
            "['I', 'try', 'to', 'follow', 'PEP8', 'guidelines']\n"
          ]
        }
      ]
    },
    {
      "cell_type": "markdown",
      "metadata": {
        "id": "8oZBa0t4r328"
      },
      "source": [
        "re.sub('[A-Za-z]+[0-9]+','New String','Target String')"
      ]
    },
    {
      "cell_type": "code",
      "metadata": {
        "colab": {
          "base_uri": "https://localhost:8080/",
          "height": 36
        },
        "id": "HZ2xjZF-rfke",
        "outputId": "17eb18c4-43cf-4a14-d166-9d1f4c3a83c6"
      },
      "source": [
        "# Replace the perticuler pattern or word with another string \n",
        "re.sub('[A-Za-z]+[0-9]+','PEP8 Python Style guide',pep8_test)\n",
        "# Here it will find out the alphanumeric word and replace with the 'PEP8 Python Style guide'"
      ],
      "execution_count": 37,
      "outputs": [
        {
          "output_type": "execute_result",
          "data": {
            "application/vnd.google.colaboratory.intrinsic+json": {
              "type": "string"
            },
            "text/plain": [
              "'I try to follow PEP8 Python Style guide guidelines'"
            ]
          },
          "metadata": {},
          "execution_count": 37
        }
      ]
    },
    {
      "cell_type": "code",
      "metadata": {
        "colab": {
          "base_uri": "https://localhost:8080/"
        },
        "id": "B35wPzNUsT2K",
        "outputId": "51618a37-d8ce-4850-f4b0-a9d0d68675d3"
      },
      "source": [
        "print(re.search('try',pep8_test))\n",
        "print(re.search('[A-Za-z]+[0-9]',pep8_test))"
      ],
      "execution_count": 42,
      "outputs": [
        {
          "output_type": "stream",
          "name": "stdout",
          "text": [
            "<re.Match object; span=(2, 5), match='try'>\n",
            "<re.Match object; span=(16, 20), match='PEP8'>\n"
          ]
        }
      ]
    },
    {
      "cell_type": "markdown",
      "metadata": {
        "id": "-QGsSEYgtu8o"
      },
      "source": [
        "Pipeline "
      ]
    },
    {
      "cell_type": "markdown",
      "metadata": {
        "id": "Fteyf5KauD6r"
      },
      "source": [
        "Raw Text --> Tokenize --> Clean text(Remove stop words, punctuation, Stemming, lemmatization) --> Vectorize(Convert to numeric form) --> Machine learning model "
      ]
    }
  ]
}