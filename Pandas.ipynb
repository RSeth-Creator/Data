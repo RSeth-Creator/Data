{
 "metadata": {
  "language_info": {
   "codemirror_mode": {
    "name": "ipython",
    "version": 3
   },
   "file_extension": ".py",
   "mimetype": "text/x-python",
   "name": "python",
   "nbconvert_exporter": "python",
   "pygments_lexer": "ipython3",
   "version": "3.7.6-final"
  },
  "orig_nbformat": 2,
  "kernelspec": {
   "name": "python3",
   "display_name": "Python 3",
   "language": "python"
  }
 },
 "nbformat": 4,
 "nbformat_minor": 2,
 "cells": [
  {
   "cell_type": "code",
   "execution_count": 1,
   "metadata": {},
   "outputs": [],
   "source": [
    "import numpy as np \n",
    "import pandas as pd "
   ]
  },
  {
   "cell_type": "code",
   "execution_count": 40,
   "metadata": {},
   "outputs": [
    {
     "output_type": "execute_result",
     "data": {
      "text/plain": [
       "0    0.25\n",
       "1    0.50\n",
       "2    0.75\n",
       "3    1.00\n",
       "dtype: float64"
      ]
     },
     "metadata": {},
     "execution_count": 40
    }
   ],
   "source": [
    "#1) Create a Pandas Series from a list or array which contains 0:25, 0:5, 0:75, and 1:0.\n",
    "l = [0.25, 0.5, 0.75, 1.0]\n",
    "#i = ['a','b','c','d']\n",
    "ps = pd.Series(l)\n",
    "ps"
   ]
  },
  {
   "cell_type": "code",
   "execution_count": 41,
   "metadata": {},
   "outputs": [
    {
     "output_type": "stream",
     "name": "stdout",
     "text": [
      "0 1 2 3 \n\nindices of the series is [0, 1, 2, 3]\n\n\nValues of the series is [0.25, 0.5, 0.75, 1.0]\n"
     ]
    }
   ],
   "source": [
    "#2)Access the values and indices of the series separately and print it.\n",
    "#print indices seperately\n",
    "#1)\n",
    "for row in ps.index: \n",
    "    print(row, end = \" \") \n",
    "print('\\n')\n",
    "#2)\n",
    "ind = list(ps.index.values)\n",
    "print('indices of the series is' , ind)\n",
    "print('\\n')\n",
    "\n",
    "#Print values seperately\n",
    "values = ps.tolist()\n",
    "print('Values of the series is' , values)\n"
   ]
  },
  {
   "cell_type": "code",
   "execution_count": 42,
   "metadata": {},
   "outputs": [
    {
     "output_type": "stream",
     "name": "stdout",
     "text": [
      "The 2nd and 3rd data from Series is  -  [0.5, 0.75]\n"
     ]
    }
   ],
   "source": [
    "#3)Access the 2nd and 3rd data from Series using Numpy array square bracket notation.\n",
    "ele = ps[1:3]\n",
    "ele\n",
    "print('The 2nd and 3rd data from Series is  - ',ele.tolist())\n",
    "\n"
   ]
  },
  {
   "cell_type": "code",
   "execution_count": 44,
   "metadata": {},
   "outputs": [
    {
     "output_type": "execute_result",
     "data": {
      "text/plain": [
       "a    0.25\n",
       "b    0.50\n",
       "c    0.75\n",
       "d    1.00\n",
       "dtype: float64"
      ]
     },
     "metadata": {},
     "execution_count": 44
    }
   ],
   "source": [
    "#4) Create the same series having the same values but di\u000berent indices as a, b, c,and d.\n",
    "l = [0.25, 0.5, 0.75, 1.0]\n",
    "i = ['a','b','c','d']\n",
    "psn = pd.Series(l, index=i)\n",
    "psn"
   ]
  },
  {
   "cell_type": "code",
   "execution_count": 49,
   "metadata": {},
   "outputs": [
    {
     "output_type": "stream",
     "name": "stdout",
     "text": [
      "\n\ndata at index b is : 0.5\n"
     ]
    }
   ],
   "source": [
    "#5)How do you access the data at index b.\n",
    "psn['b']\n",
    "print('\\n')\n",
    "print('data at index b is :',  psn['b'])"
   ]
  },
  {
   "cell_type": "code",
   "execution_count": 53,
   "metadata": {},
   "outputs": [
    {
     "output_type": "stream",
     "name": "stdout",
     "text": [
      "example non-contiguous or non-sequential indices \n 2    0.25\n5    0.50\n3    0.75\n7    1.00\ndtype: float64\n"
     ]
    }
   ],
   "source": [
    "#6)Give an example of non-contiguous or non-sequential indices.\n",
    "nc = pd.Series([0.25, 0.5, 0.75, 1.0],\n",
    "                 index=[2, 5, 3, 7])\n",
    "print('example non-contiguous or non-sequential indices','\\n',nc)\n"
   ]
  },
  {
   "cell_type": "code",
   "execution_count": 54,
   "metadata": {},
   "outputs": [
    {
     "output_type": "execute_result",
     "data": {
      "text/plain": [
       "'7)Create a python dictionary named population dict with the following key-value\\npairs:\\nCalifornia - 38332521\\nTexas - 26448193\\nNew York - 19651127\\nFlorida - 19552860\\nIllinois - 12882135'"
      ]
     },
     "metadata": {},
     "execution_count": 54
    }
   ],
   "source": [
    "'''7)Create a python dictionary named population dict with the following key-value\n",
    "pairs:\n",
    "California - 38332521\n",
    "Texas - 26448193\n",
    "New York - 19651127\n",
    "Florida - 19552860\n",
    "Illinois - 12882135'''"
   ]
  },
  {
   "cell_type": "code",
   "execution_count": 59,
   "metadata": {},
   "outputs": [
    {
     "output_type": "execute_result",
     "data": {
      "text/plain": [
       "{'California': 38332521,\n",
       " 'Texas': 26448193,\n",
       " 'New York': 19651127,\n",
       " 'Florida': 19552860,\n",
       " 'Illinois': 12882135}"
      ]
     },
     "metadata": {},
     "execution_count": 59
    }
   ],
   "source": [
    "population_dict = {'California': 38332521,\n",
    "                   'Texas': 26448193,\n",
    "                   'New York': 19651127,\n",
    "                   'Florida': 19552860,\n",
    "                   'Illinois': 12882135}\n",
    "population_dict"
   ]
  },
  {
   "cell_type": "code",
   "execution_count": 66,
   "metadata": {},
   "outputs": [
    {
     "output_type": "execute_result",
     "data": {
      "text/plain": [
       "California    38332521\n",
       "Texas         26448193\n",
       "New York      19651127\n",
       "Florida       19552860\n",
       "Illinois      12882135\n",
       "dtype: int64"
      ]
     },
     "metadata": {},
     "execution_count": 66
    }
   ],
   "source": [
    "#8)Create a series from the above dictionary.\n",
    "population = pd.Series(population_dict)\n",
    "population"
   ]
  },
  {
   "cell_type": "code",
   "execution_count": 61,
   "metadata": {},
   "outputs": [
    {
     "output_type": "stream",
     "name": "stdout",
     "text": [
      "population of California is :  38332521\n"
     ]
    }
   ],
   "source": [
    "#9)Extract the population of California from the above created series.\n",
    "pop_cal = population['California']\n",
    "print('population of California is : ',pop_cal)"
   ]
  },
  {
   "cell_type": "code",
   "execution_count": 64,
   "metadata": {},
   "outputs": [
    {
     "output_type": "stream",
     "name": "stdout",
     "text": [
      "population of California to Illinois is :  \n California    38332521\nTexas         26448193\nNew York      19651127\nFlorida       19552860\nIllinois      12882135\ndtype: int64\n"
     ]
    }
   ],
   "source": [
    "#10)Extract the population from California to Illinois using Numpy array square bracket notation.\n",
    "pop = population['California':'Illinois']\n",
    "print('population of California to Illinois is : ','\\n',pop)"
   ]
  },
  {
   "cell_type": "code",
   "execution_count": null,
   "metadata": {},
   "outputs": [],
   "source": [
    "#11)Is series index an optional argument? If yes, give an example and mention what is it's default values.\n",
    "Index is an optional argument  as we know the syntax for the pandas dataframe : dataframe = pd.series(data,index = index ) . If no external index is provided then  it will start from 0 and act as auto increment key with increment of 1 ."
   ]
  },
  {
   "cell_type": "code",
   "execution_count": 68,
   "metadata": {},
   "outputs": [
    {
     "output_type": "execute_result",
     "data": {
      "text/plain": [
       "0    a\n",
       "1    b\n",
       "2    c\n",
       "3    d\n",
       "dtype: object"
      ]
     },
     "metadata": {},
     "execution_count": 68
    }
   ],
   "source": [
    "#example (No external index provided) :\n",
    "df = pd.Series(['a','b','c','d'])\n",
    "df"
   ]
  },
  {
   "cell_type": "code",
   "execution_count": 69,
   "metadata": {},
   "outputs": [
    {
     "output_type": "execute_result",
     "data": {
      "text/plain": [
       "a1    a\n",
       "b1    b\n",
       "c1    c\n",
       "d1    d\n",
       "dtype: object"
      ]
     },
     "metadata": {},
     "execution_count": 69
    }
   ],
   "source": [
    "#example ( external index provided) :\n",
    "df = pd.Series(['a','b','c','d'], index = ['a1','b1','c1','d1'])\n",
    "df"
   ]
  },
  {
   "cell_type": "code",
   "execution_count": 72,
   "metadata": {},
   "outputs": [
    {
     "output_type": "execute_result",
     "data": {
      "text/plain": [
       "1    a\n",
       "2    a\n",
       "3    a\n",
       "4    a\n",
       "5    a\n",
       "dtype: object"
      ]
     },
     "metadata": {},
     "execution_count": 72
    }
   ],
   "source": [
    "#12)Create a series of 4 data when each data is equal or same and four indices are different.\n",
    "df_1 = pd.Series('a', index=[1,2,3,4,5])\n",
    "df_1\n"
   ]
  },
  {
   "cell_type": "code",
   "execution_count": 73,
   "metadata": {},
   "outputs": [
    {
     "output_type": "execute_result",
     "data": {
      "text/plain": [
       "1    1\n",
       "2    1\n",
       "3    1\n",
       "4    1\n",
       "5    1\n",
       "dtype: int64"
      ]
     },
     "metadata": {},
     "execution_count": 73
    }
   ],
   "source": [
    "df_2 = pd.Series(1, index=[1,2,3,4,5])\n",
    "df_2"
   ]
  },
  {
   "cell_type": "code",
   "execution_count": 75,
   "metadata": {},
   "outputs": [],
   "source": [
    "#13)Which function is used to split the entire dataset into training and test data.\n"
   ]
  },
  {
   "cell_type": "code",
   "execution_count": null,
   "metadata": {},
   "outputs": [],
   "source": [
    "#14"
   ]
  },
  {
   "cell_type": "code",
   "execution_count": 80,
   "metadata": {},
   "outputs": [
    {
     "output_type": "stream",
     "name": "stdout",
     "text": [
      "final array after concatenation is :  [1 2 3 4 5]\n"
     ]
    }
   ],
   "source": [
    "#15) How do you concatenate two one dimensional array in Numpy. Give an example.\n",
    "#We can use concatenate function two concatenate twoone dimensional array :np.concatenate([arr1,arr2])\n",
    "a = np.array([1, 2, 3])\n",
    "b = np.array([4, 5])\n",
    "r= np.concatenate([a,b])\n",
    "print ( 'final array after concatenation is : ', r)"
   ]
  },
  {
   "cell_type": "code",
   "execution_count": 86,
   "metadata": {},
   "outputs": [
    {
     "output_type": "stream",
     "name": "stdout",
     "text": [
      " the ist is : [8 4 1 2 2]\nThe sum of the list elements is : 17\nThe sum of the list elements is : 128\n"
     ]
    }
   ],
   "source": [
    "#16) Calculate the sum and product of 5 numbers using numpy reduce method. \n",
    "import functools  \n",
    "ls = np.random.randint(1,10, size=5)\n",
    "print (' the ist is :',ls)\n",
    "# using reduce to compute sum of list \n",
    "print (\"The sum of the list elements is : \",end=\"\") \n",
    "print (functools.reduce(lambda a,b : a+b,ls)) \n",
    "\n",
    "# using reduce to compute product  of list \n",
    "print (\"The sum of the list elements is : \",end=\"\") \n",
    "print (functools.reduce(lambda a,b : a*b,ls)) "
   ]
  },
  {
   "cell_type": "code",
   "execution_count": 93,
   "metadata": {},
   "outputs": [
    {
     "output_type": "execute_result",
     "data": {
      "text/plain": [
       "array([ 1,  3,  6, 10, 15], dtype=int32)"
      ]
     },
     "metadata": {},
     "execution_count": 93
    }
   ],
   "source": [
    "#17)Which function would you use if you would like to get all the intermediate results of sum of 5 numbers in an array. Give an example. \n",
    "# Example: input: 1, 2, 3, 4, 5, output: 1, 3, 6, 10, 15\n",
    "\n",
    "#to get all the intermediate results of sum of n numbers we will use np.cumsum(list_name) \n",
    "# Given list \n",
    "a= [1, 2, 3, 4, 5]\n",
    "r = np.cumsum(a)\n",
    "r"
   ]
  },
  {
   "cell_type": "code",
   "execution_count": 145,
   "metadata": {},
   "outputs": [
    {
     "output_type": "stream",
     "name": "stdout",
     "text": [
      "[[1. 1.]\n [1. 1.]\n [1. 1.]]\n"
     ]
    }
   ],
   "source": [
    "#18)What will be the result of M + a where M = np.ones(3, 2), and a = np.arange(3) and what is the reason of the outcome?\n",
    "M = np.ones((3, 2), dtype=float)\n",
    "print(M)\n"
   ]
  },
  {
   "cell_type": "code",
   "execution_count": 146,
   "metadata": {},
   "outputs": [],
   "source": [
    "a = np.arange(3)\n",
    "\n"
   ]
  },
  {
   "cell_type": "code",
   "execution_count": 147,
   "metadata": {},
   "outputs": [
    {
     "output_type": "error",
     "ename": "ValueError",
     "evalue": "operands could not be broadcast together with shapes (3,2) (3,) ",
     "traceback": [
      "\u001b[1;31m---------------------------------------------------------------------------\u001b[0m",
      "\u001b[1;31mValueError\u001b[0m                                Traceback (most recent call last)",
      "\u001b[1;32m<ipython-input-147-2267d2681641>\u001b[0m in \u001b[0;36m<module>\u001b[1;34m\u001b[0m\n\u001b[1;32m----> 1\u001b[1;33m \u001b[0mM\u001b[0m\u001b[1;33m+\u001b[0m\u001b[0ma\u001b[0m\u001b[1;33m\u001b[0m\u001b[1;33m\u001b[0m\u001b[0m\n\u001b[0m",
      "\u001b[1;31mValueError\u001b[0m: operands could not be broadcast together with shapes (3,2) (3,) "
     ]
    }
   ],
   "source": [
    "M+a"
   ]
  },
  {
   "cell_type": "code",
   "execution_count": 148,
   "metadata": {},
   "outputs": [],
   "source": [
    "\n",
    "#resolutoion\n",
    "a = np.arange(3)[:, np.newaxis]"
   ]
  },
  {
   "cell_type": "code",
   "execution_count": 149,
   "metadata": {},
   "outputs": [
    {
     "output_type": "execute_result",
     "data": {
      "text/plain": [
       "array([[1., 1.],\n",
       "       [2., 2.],\n",
       "       [3., 3.]])"
      ]
     },
     "metadata": {},
     "execution_count": 149
    }
   ],
   "source": [
    "M+a"
   ]
  },
  {
   "cell_type": "code",
   "execution_count": null,
   "metadata": {},
   "outputs": [],
   "source": []
  }
 ]
}