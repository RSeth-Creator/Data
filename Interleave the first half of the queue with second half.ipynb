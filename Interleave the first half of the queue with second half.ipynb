{
 "cells": [
  {
   "cell_type": "markdown",
   "metadata": {},
   "source": [
    "# 1.7-Interleave the first half of the queue with second half"
   ]
  },
  {
   "cell_type": "code",
   "execution_count": 5,
   "metadata": {},
   "outputs": [
    {
     "name": "stdout",
     "output_type": "stream",
     "text": [
      "Enter the size of the element: 7\n",
      "Size of the queue is odd, not divided into equal part \n"
     ]
    }
   ],
   "source": [
    "#initialize the queue\n",
    "l=[]\n",
    "i=int(input(\"Enter the size of the element: \"))\n",
    "if (i%2)==0:\n",
    "    for i in range (0,i):\n",
    "        x=input(\"Enter element --\"+ str(i)+ \" to the queue: \")\n",
    "        l.append(x)\n",
    "else:\n",
    "    print(\"Size of the queue is odd, not divided into equal part \")\n"
   ]
  },
  {
   "cell_type": "code",
   "execution_count": 2,
   "metadata": {},
   "outputs": [
    {
     "name": "stdout",
     "output_type": "stream",
     "text": [
      "First half of the queue is :  ['1', '2', '3', '4']\n"
     ]
    }
   ],
   "source": [
    "##Create temp queue t1 and assign values \n",
    "t1=[]\n",
    "for i in range (int(len(l)/2)):\n",
    "    t1.append(l[i])\n",
    "print(\"First half of the queue is : \",t1)"
   ]
  },
  {
   "cell_type": "code",
   "execution_count": 3,
   "metadata": {},
   "outputs": [
    {
     "name": "stdout",
     "output_type": "stream",
     "text": [
      "Second half of the queue is:  ['5', '6', '7', '8']\n"
     ]
    }
   ],
   "source": [
    "##Create temp queue t2 and assign values \n",
    "t2=[]\n",
    "for i in range (int(len(l)/2),len(l)):\n",
    "    t2.append(l[i])\n",
    "print(\"Second half of the queue is: \",t2)"
   ]
  },
  {
   "cell_type": "code",
   "execution_count": 4,
   "metadata": {},
   "outputs": [
    {
     "name": "stdout",
     "output_type": "stream",
     "text": [
      "The interleaved queue is : ['1', '5', '2', '6', '3', '7', '4', '8']\n"
     ]
    }
   ],
   "source": [
    "##Create interleave queue \n",
    "res = t1 + t2 \n",
    "res[::2] = t1 \n",
    "res[1::2] = t2 \n",
    "\n",
    "print (\"The interleaved queue is : \" + str(res)) "
   ]
  },
  {
   "cell_type": "code",
   "execution_count": null,
   "metadata": {},
   "outputs": [],
   "source": []
  }
 ],
 "metadata": {
  "kernelspec": {
   "display_name": "Python 3",
   "language": "python",
   "name": "python3"
  },
  "language_info": {
   "codemirror_mode": {
    "name": "ipython",
    "version": 3
   },
   "file_extension": ".py",
   "mimetype": "text/x-python",
   "name": "python",
   "nbconvert_exporter": "python",
   "pygments_lexer": "ipython3",
   "version": "3.7.6"
  }
 },
 "nbformat": 4,
 "nbformat_minor": 4
}
