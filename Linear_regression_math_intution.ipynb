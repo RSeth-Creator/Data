{
  "nbformat": 4,
  "nbformat_minor": 0,
  "metadata": {
    "colab": {
      "name": "Linear regression.ipynb",
      "provenance": [],
      "authorship_tag": "ABX9TyOSyZeJ64SwvmTdkzjxbby9",
      "include_colab_link": true
    },
    "kernelspec": {
      "name": "python3",
      "display_name": "Python 3"
    },
    "language_info": {
      "name": "python"
    }
  },
  "cells": [
    {
      "cell_type": "markdown",
      "metadata": {
        "id": "view-in-github",
        "colab_type": "text"
      },
      "source": [
        "<a href=\"https://colab.research.google.com/github/RSeth-Creator/Data/blob/dataScience/Linear_regression_math_intution.ipynb\" target=\"_parent\"><img src=\"https://colab.research.google.com/assets/colab-badge.svg\" alt=\"Open In Colab\"/></a>"
      ]
    },
    {
      "cell_type": "code",
      "metadata": {
        "colab": {
          "base_uri": "https://localhost:8080/"
        },
        "id": "oOD5gP8ALDll",
        "outputId": "47805c57-d300-4c86-e9dc-0d9eeb9425cd"
      },
      "source": [
        "#Building the connection to get file from the gdrive\n",
        "from google.colab import drive\n",
        "drive.mount('/content/drive')"
      ],
      "execution_count": 1,
      "outputs": [
        {
          "output_type": "stream",
          "text": [
            "Mounted at /content/drive\n"
          ],
          "name": "stdout"
        }
      ]
    },
    {
      "cell_type": "code",
      "metadata": {
        "id": "N4tF-i8XQsnd"
      },
      "source": [
        "\n",
        "def lr(path,ip1,ip2,ip3,ip4,ip5,op):\n",
        "        \n",
        "      #importing file from the drive  \n",
        "      import numpy as np \n",
        "      import pandas as pd \n",
        "      df = pd.read_excel(path)\n",
        "      df.head(5)\n",
        "      #Step1: Create input and output matrix\n",
        "      x = df[[ip1,ip2,ip3,ip4,ip5]]\n",
        "      y = df[op]\n",
        "      #Step2: Creating the transpose of matrix X\n",
        "      xT = np.transpose(x)\n",
        "      #Step3: Find the product of x & Transpose(x)\n",
        "      mul1 = np.dot(xT,x)\n",
        "      #Step4: find the inverse \n",
        "      inv = np.linalg.inv(mul)\n",
        "      #step5: multiply xT & y\n",
        "      mul2 = np.dot(xT,y)\n",
        "      l=[ip1,ip2,ip3,ip4,ip5]\n",
        "      #Step6 : multiply inv with mul2\n",
        "      w = pd.DataFrame(np.dot(inv,mul2),index=l,columns=['coefficient'])\n",
        "      return w"
      ],
      "execution_count": 42,
      "outputs": []
    },
    {
      "cell_type": "code",
      "metadata": {
        "colab": {
          "base_uri": "https://localhost:8080/",
          "height": 206
        },
        "id": "xK0NuwkbRSuH",
        "outputId": "5756f5a5-5ea7-4f2d-8e9a-ee17151020ad"
      },
      "source": [
        "lr('/content/drive/My Drive/Copy of multiple regression-std.xlsx','const','Force','Power','Temperature','Time','Strength')"
      ],
      "execution_count": 43,
      "outputs": [
        {
          "output_type": "execute_result",
          "data": {
            "text/html": [
              "<div>\n",
              "<style scoped>\n",
              "    .dataframe tbody tr th:only-of-type {\n",
              "        vertical-align: middle;\n",
              "    }\n",
              "\n",
              "    .dataframe tbody tr th {\n",
              "        vertical-align: top;\n",
              "    }\n",
              "\n",
              "    .dataframe thead th {\n",
              "        text-align: right;\n",
              "    }\n",
              "</style>\n",
              "<table border=\"1\" class=\"dataframe\">\n",
              "  <thead>\n",
              "    <tr style=\"text-align: right;\">\n",
              "      <th></th>\n",
              "      <th>coefficient</th>\n",
              "    </tr>\n",
              "  </thead>\n",
              "  <tbody>\n",
              "    <tr>\n",
              "      <th>const</th>\n",
              "      <td>-37.476667</td>\n",
              "    </tr>\n",
              "    <tr>\n",
              "      <th>Force</th>\n",
              "      <td>0.211667</td>\n",
              "    </tr>\n",
              "    <tr>\n",
              "      <th>Power</th>\n",
              "      <td>0.498333</td>\n",
              "    </tr>\n",
              "    <tr>\n",
              "      <th>Temperature</th>\n",
              "      <td>0.129667</td>\n",
              "    </tr>\n",
              "    <tr>\n",
              "      <th>Time</th>\n",
              "      <td>0.258333</td>\n",
              "    </tr>\n",
              "  </tbody>\n",
              "</table>\n",
              "</div>"
            ],
            "text/plain": [
              "             coefficient\n",
              "const         -37.476667\n",
              "Force           0.211667\n",
              "Power           0.498333\n",
              "Temperature     0.129667\n",
              "Time            0.258333"
            ]
          },
          "metadata": {
            "tags": []
          },
          "execution_count": 43
        }
      ]
    }
  ]
}