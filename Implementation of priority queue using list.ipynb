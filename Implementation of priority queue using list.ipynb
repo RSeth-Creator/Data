{
 "cells": [
  {
   "cell_type": "markdown",
   "metadata": {},
   "source": [
    "# 1.6-Implementation of priority queue using list"
   ]
  },
  {
   "cell_type": "code",
   "execution_count": 34,
   "metadata": {},
   "outputs": [
    {
     "name": "stdout",
     "output_type": "stream",
     "text": [
      "Enter the size of the  queue:4\n"
     ]
    }
   ],
   "source": [
    "y=int(input(\"Enter the size of the  queue:\"))\n",
    "##Create a function for queue to insert data in queue\n",
    "def queue():\n",
    "    x=int(input(\"Enter the number of element will be inserted into queue:\"))\n",
    "    \n",
    "    q=[]\n",
    "    for i in range (x):\n",
    "        j=input(\"Enter the priority: \")\n",
    "        k=input(\"Enter the element: \")\n",
    "        q.append((j,k))\n",
    "    return(q)"
   ]
  },
  {
   "cell_type": "code",
   "execution_count": 35,
   "metadata": {},
   "outputs": [],
   "source": [
    "def status():\n",
    "\n",
    "        if (len(q)==0):\n",
    "            print(\"The queue is empty \")\n",
    "        elif(y==len(q)):\n",
    "            print(\"The queue is full\")\n",
    "        return()\n",
    "\n",
    "        "
   ]
  },
  {
   "cell_type": "code",
   "execution_count": 36,
   "metadata": {
    "scrolled": true
   },
   "outputs": [
    {
     "name": "stdout",
     "output_type": "stream",
     "text": [
      "Enter the number of element will be inserted into queue:3\n",
      "Enter the priority: 1\n",
      "Enter the element: 2\n",
      "Enter the priority: 3\n",
      "Enter the element: 4\n",
      "Enter the priority: 5\n",
      "Enter the element: 6\n",
      "('1', '2')\n",
      "('3', '4')\n",
      "('5', '6')\n"
     ]
    }
   ],
   "source": [
    "q=queue()\n",
    "#Lowest priority value having heighest priority \n",
    "q.sort(reverse=True)\n",
    "status()\n",
    "for i in range(len(q)):\n",
    "    print(q.pop())"
   ]
  },
  {
   "cell_type": "code",
   "execution_count": 38,
   "metadata": {},
   "outputs": [
    {
     "name": "stdout",
     "output_type": "stream",
     "text": [
      "Enter the number of element will be inserted into queue:0\n",
      "The queue is empty \n"
     ]
    }
   ],
   "source": [
    "q=queue()\n",
    "#Heighest priority value having heighest priority \n",
    "q.sort()\n",
    "status()\n",
    "for i in range(len(q)):\n",
    "    print(q.pop())"
   ]
  },
  {
   "cell_type": "code",
   "execution_count": null,
   "metadata": {},
   "outputs": [],
   "source": []
  }
 ],
 "metadata": {
  "kernelspec": {
   "display_name": "Python 3",
   "language": "python",
   "name": "python3"
  },
  "language_info": {
   "codemirror_mode": {
    "name": "ipython",
    "version": 3
   },
   "file_extension": ".py",
   "mimetype": "text/x-python",
   "name": "python",
   "nbconvert_exporter": "python",
   "pygments_lexer": "ipython3",
   "version": "3.7.6"
  }
 },
 "nbformat": 4,
 "nbformat_minor": 4
}
