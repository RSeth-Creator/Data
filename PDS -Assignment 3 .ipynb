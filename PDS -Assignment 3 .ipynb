{
 "cells": [
  {
   "cell_type": "code",
   "execution_count": 1,
   "metadata": {},
   "outputs": [],
   "source": [
    "import numpy as np "
   ]
  },
  {
   "cell_type": "markdown",
   "metadata": {},
   "source": [
    "1.Create a list of integers from 0 to 9 using the function range"
   ]
  },
  {
   "cell_type": "code",
   "execution_count": 7,
   "metadata": {},
   "outputs": [
    {
     "name": "stdout",
     "output_type": "stream",
     "text": [
      "[0, 1, 2, 3, 4, 5, 6, 7, 8, 9]\n"
     ]
    }
   ],
   "source": [
    "l=list(range(0,10))\n",
    "print(l)"
   ]
  },
  {
   "cell_type": "markdown",
   "metadata": {},
   "source": [
    "2.Create a Numpy 1D array from a python list created in question 1."
   ]
  },
  {
   "cell_type": "code",
   "execution_count": 16,
   "metadata": {},
   "outputs": [
    {
     "name": "stdout",
     "output_type": "stream",
     "text": [
      "[0 1 2 3 4 5 6 7 8 9]\n"
     ]
    }
   ],
   "source": [
    "arr=np.array(l,dtype=int)\n",
    "print(arr)"
   ]
  },
  {
   "cell_type": "markdown",
   "metadata": {},
   "source": [
    "3.Create the same numpy array as in question 2 using Numpy arange() function."
   ]
  },
  {
   "cell_type": "code",
   "execution_count": 20,
   "metadata": {},
   "outputs": [
    {
     "data": {
      "text/plain": [
       "array([0, 1, 2, 3, 4, 5, 6, 7, 8, 9])"
      ]
     },
     "execution_count": 20,
     "metadata": {},
     "output_type": "execute_result"
    }
   ],
   "source": [
    "arr1=np.arange(10,dtype=int)\n",
    "print(arr1)"
   ]
  },
  {
   "cell_type": "markdown",
   "metadata": {},
   "source": [
    "4.Create the same numpy array as in question 2 using Numpy linspace() function."
   ]
  },
  {
   "cell_type": "code",
   "execution_count": 29,
   "metadata": {},
   "outputs": [
    {
     "data": {
      "text/plain": [
       "array([0, 1, 2, 3, 4, 5, 6, 7, 9])"
      ]
     },
     "execution_count": 29,
     "metadata": {},
     "output_type": "execute_result"
    }
   ],
   "source": [
    "arr2=np.linspace(0,9,9,dtype=int)\n",
    "print(arr2)"
   ]
  },
  {
   "cell_type": "markdown",
   "metadata": {},
   "source": [
    "5.Create a Numpy array of size 10. The numbers are generated randomly from a uniform distribution. \n",
    "The values of the numbers are between 1 to 100."
   ]
  },
  {
   "cell_type": "code",
   "execution_count": 49,
   "metadata": {},
   "outputs": [
    {
     "name": "stdout",
     "output_type": "stream",
     "text": [
      "[66.39329295 51.50613684 66.74532374 31.08533762 57.1028597  15.00198801\n",
      " 11.19250444 39.41049533 29.45100703 22.67518778]\n"
     ]
    }
   ],
   "source": [
    "arr3=np.random.uniform(1,100,size=(10))\n",
    "print(arr3)"
   ]
  },
  {
   "cell_type": "markdown",
   "metadata": {},
   "source": [
    "6.Create a Numpy array of size 10. The numbers are generated randomly from a normal distribution.\n",
    "The mean and variance of the normal distribution will be 0 and 1 respectively.\n"
   ]
  },
  {
   "cell_type": "code",
   "execution_count": 50,
   "metadata": {},
   "outputs": [
    {
     "name": "stdout",
     "output_type": "stream",
     "text": [
      "[ 2.65015114  0.92220336  0.58247665  0.97988197 -0.48042978  2.13641459\n",
      " -0.8703333  -0.09458002  0.27847631 -0.09381504]\n"
     ]
    }
   ],
   "source": [
    "arr4=np.random.normal(0,1, size=(10))\n",
    "print(arr4)"
   ]
  },
  {
   "cell_type": "markdown",
   "metadata": {},
   "source": [
    "7.Print the size, shape, and the dimension of the array you have created in question 6.\n"
   ]
  },
  {
   "cell_type": "code",
   "execution_count": 51,
   "metadata": {},
   "outputs": [
    {
     "name": "stdout",
     "output_type": "stream",
     "text": [
      "Size of the array is : 10\n",
      "Shape of the array is : (10,)\n",
      "dimension of the array is : 1\n"
     ]
    }
   ],
   "source": [
    "print(\"Size of the array is :\",np.size(arr4))\n",
    "print(\"Shape of the array is :\",np.shape(arr4))\n",
    "print(\"dimension of the array is :\",np.ndim(arr4))"
   ]
  },
  {
   "cell_type": "markdown",
   "metadata": {},
   "source": [
    "8.Print the data type, the size of each array element, and the total size of the array you have created in question 6.\n"
   ]
  },
  {
   "cell_type": "code",
   "execution_count": 120,
   "metadata": {},
   "outputs": [
    {
     "name": "stdout",
     "output_type": "stream",
     "text": [
      "Data type  of the array is : float64\n",
      "Size of the array is : 8\n",
      "Size of the array is : 80\n"
     ]
    }
   ],
   "source": [
    "print(\"Data type  of the array is :\",arr4.dtype)\n",
    "print(\"Size of the array is :\",arr4.itemsize)\n",
    "print(\"Size of the array is :\",arr4.nbytes)"
   ]
  },
  {
   "cell_type": "markdown",
   "metadata": {},
   "source": [
    "9.Print the first and fifth element of the array you have created in question 6.\n"
   ]
  },
  {
   "cell_type": "code",
   "execution_count": 64,
   "metadata": {},
   "outputs": [
    {
     "name": "stdout",
     "output_type": "stream",
     "text": [
      "first and fifth element of the array are: 2.6501511423085344 -0.48042977841543266\n"
     ]
    }
   ],
   "source": [
    " print(\"first and fifth element of the array are:\",arr4[0],arr4[4])"
   ]
  },
  {
   "cell_type": "markdown",
   "metadata": {},
   "source": [
    "10.Print the first and fifth elements of the array using negative indices for the array you have created in question 6."
   ]
  },
  {
   "cell_type": "code",
   "execution_count": 74,
   "metadata": {},
   "outputs": [
    {
     "name": "stdout",
     "output_type": "stream",
     "text": [
      "the first element is : 2.6501511423085344\n",
      " the fifth element is : -0.48042977841543266\n"
     ]
    }
   ],
   "source": [
    "print(\"the first element is :\",arr4[-len(arr4)])\n",
    "print(\" the fifth element is :\" ,arr4[-(int(len(arr4)/2)+1)])"
   ]
  },
  {
   "cell_type": "markdown",
   "metadata": {},
   "source": [
    "11.Change the value of the sixth element to 50.\n"
   ]
  },
  {
   "cell_type": "code",
   "execution_count": 121,
   "metadata": {},
   "outputs": [
    {
     "data": {
      "text/plain": [
       "50.0"
      ]
     },
     "execution_count": 121,
     "metadata": {},
     "output_type": "execute_result"
    }
   ],
   "source": [
    "arr4[5]=50\n",
    "arr4[5]"
   ]
  },
  {
   "cell_type": "markdown",
   "metadata": {},
   "source": [
    "12.Print the first five elements of the array using slicing notation."
   ]
  },
  {
   "cell_type": "code",
   "execution_count": 81,
   "metadata": {
    "scrolled": true
   },
   "outputs": [
    {
     "name": "stdout",
     "output_type": "stream",
     "text": [
      "First five elements of the array using slicing , are : [ 2.65015114  0.92220336  0.58247665  0.97988197 -0.48042978]\n"
     ]
    }
   ],
   "source": [
    "print(\"First five elements of the array using slicing , are :\",arr4[0:5])"
   ]
  },
  {
   "cell_type": "markdown",
   "metadata": {},
   "source": [
    "13.Print the elements after index 5."
   ]
  },
  {
   "cell_type": "code",
   "execution_count": 85,
   "metadata": {},
   "outputs": [
    {
     "name": "stdout",
     "output_type": "stream",
     "text": [
      "The elements after index 5 are: [-0.8703333  -0.09458002  0.27847631 -0.09381504]\n"
     ]
    }
   ],
   "source": [
    "print(\"The elements after index 5 are:\",arr4[6:])"
   ]
  },
  {
   "cell_type": "markdown",
   "metadata": {},
   "source": [
    "14.Print the elements between 4th index and 7th index.\n"
   ]
  },
  {
   "cell_type": "code",
   "execution_count": 87,
   "metadata": {},
   "outputs": [
    {
     "name": "stdout",
     "output_type": "stream",
     "text": [
      "the elements between 4th and 7th index are: [-0.48042978 50.         -0.8703333 ]\n"
     ]
    }
   ],
   "source": [
    "print(\"the elements between 4th and 7th index are:\", arr4[4:7])"
   ]
  },
  {
   "cell_type": "markdown",
   "metadata": {},
   "source": [
    "15.Print every other element.\n"
   ]
  },
  {
   "cell_type": "code",
   "execution_count": 94,
   "metadata": {},
   "outputs": [
    {
     "name": "stdout",
     "output_type": "stream",
     "text": [
      "Every other elements are: [ 2.65015114  0.58247665 -0.48042978 -0.8703333   0.27847631]\n",
      "Every other elements are: [ 0.92220336  0.97988197 50.         -0.09458002 -0.09381504]\n"
     ]
    }
   ],
   "source": [
    "print(\"Every other elements are:\", arr4[::2])\n",
    "print(\"Every other elements starting at index 1 are:\", arr4[1::2])\n"
   ]
  },
  {
   "cell_type": "markdown",
   "metadata": {},
   "source": [
    "16.Print every other element from index 4 to index 7.\n"
   ]
  },
  {
   "cell_type": "code",
   "execution_count": 96,
   "metadata": {},
   "outputs": [
    {
     "name": "stdout",
     "output_type": "stream",
     "text": [
      "Every other element from index 4 to index7 is : [-0.48042978]\n"
     ]
    }
   ],
   "source": [
    "print(\"Every other element from index 4 to index7 is :\", arr4[4::7])"
   ]
  },
  {
   "cell_type": "markdown",
   "metadata": {},
   "source": [
    "17.Print every element, every other element, and every other element from index 4 to index 7 reversed."
   ]
  },
  {
   "cell_type": "code",
   "execution_count": 107,
   "metadata": {},
   "outputs": [
    {
     "name": "stdout",
     "output_type": "stream",
     "text": [
      "Every element in reverse are : [-0.09381504  0.27847631 -0.09458002 -0.8703333  50.         -0.48042978\n",
      "  0.97988197  0.58247665  0.92220336  2.65015114]\n"
     ]
    }
   ],
   "source": [
    "print(\"Every element in reverse are :\",arr4[::-1])\n"
   ]
  },
  {
   "cell_type": "code",
   "execution_count": 109,
   "metadata": {},
   "outputs": [
    {
     "data": {
      "text/plain": [
       "array([-0.09381504,  0.27847631, -0.09458002, -0.8703333 , 50.        ,\n",
       "       -0.48042978,  0.97988197,  0.58247665,  0.92220336,  2.65015114])"
      ]
     },
     "execution_count": 109,
     "metadata": {},
     "output_type": "execute_result"
    }
   ],
   "source": [
    "#using flip function\n",
    "arr5=np.flip(arr4)\n",
    "arr5\n"
   ]
  },
  {
   "cell_type": "code",
   "execution_count": 110,
   "metadata": {},
   "outputs": [
    {
     "data": {
      "text/plain": [
       "array([-0.09381504, -0.09458002, 50.        ,  0.97988197,  0.92220336])"
      ]
     },
     "execution_count": 110,
     "metadata": {},
     "output_type": "execute_result"
    }
   ],
   "source": [
    "print(\"every other elements in reverse order are :\",arr5[::2])"
   ]
  },
  {
   "cell_type": "code",
   "execution_count": 111,
   "metadata": {},
   "outputs": [
    {
     "name": "stdout",
     "output_type": "stream",
     "text": [
      "every other element from index 4 to index 7 reversed are: [50.]\n"
     ]
    }
   ],
   "source": [
    "print(\"every other element from index 4 to index 7 reversed are:\",arr5[4::7])"
   ]
  },
  {
   "cell_type": "markdown",
   "metadata": {},
   "source": [
    "18.Concatenate the arrays created in question 2, 3, 4, 5, and 6"
   ]
  },
  {
   "cell_type": "code",
   "execution_count": 115,
   "metadata": {},
   "outputs": [
    {
     "data": {
      "text/plain": [
       "array([ 0.        ,  1.        ,  2.        ,  3.        ,  4.        ,\n",
       "        5.        ,  6.        ,  7.        ,  8.        ,  9.        ,\n",
       "        0.        ,  1.        ,  2.        ,  3.        ,  4.        ,\n",
       "        5.        ,  6.        ,  7.        ,  8.        ,  9.        ,\n",
       "        0.        ,  1.        ,  2.        ,  3.        ,  4.        ,\n",
       "        5.        ,  6.        ,  7.        ,  9.        , 66.39329295,\n",
       "       51.50613684, 66.74532374, 31.08533762, 57.1028597 , 15.00198801,\n",
       "       11.19250444, 39.41049533, 29.45100703, 22.67518778,  2.65015114,\n",
       "        0.92220336,  0.58247665,  0.97988197, -0.48042978, 50.        ,\n",
       "       -0.8703333 , -0.09458002,  0.27847631, -0.09381504])"
      ]
     },
     "execution_count": 115,
     "metadata": {},
     "output_type": "execute_result"
    }
   ],
   "source": [
    "np.concatenate([arr,arr1,arr2,arr3,arr4])"
   ]
  },
  {
   "cell_type": "markdown",
   "metadata": {},
   "source": [
    "19.Split the array in question 6 into 5 parts by cutting it at index 2, 4, 6 and 8."
   ]
  },
  {
   "cell_type": "code",
   "execution_count": 117,
   "metadata": {},
   "outputs": [
    {
     "name": "stdout",
     "output_type": "stream",
     "text": [
      "[2.65015114 0.92220336] [0.58247665 0.97988197] [-0.48042978 50.        ] [-0.8703333  -0.09458002] [ 0.27847631 -0.09381504]\n"
     ]
    }
   ],
   "source": [
    "p1,p2,p3,p4,p5=np.split(arr4,[2,4,6,8])\n",
    "print(p1,p2,p3,p4,p5)"
   ]
  },
  {
   "cell_type": "code",
   "execution_count": null,
   "metadata": {},
   "outputs": [],
   "source": []
  }
 ],
 "metadata": {
  "kernelspec": {
   "display_name": "Python 3",
   "language": "python",
   "name": "python3"
  },
  "language_info": {
   "codemirror_mode": {
    "name": "ipython",
    "version": 3
   },
   "file_extension": ".py",
   "mimetype": "text/x-python",
   "name": "python",
   "nbconvert_exporter": "python",
   "pygments_lexer": "ipython3",
   "version": "3.7.6"
  }
 },
 "nbformat": 4,
 "nbformat_minor": 4
}
