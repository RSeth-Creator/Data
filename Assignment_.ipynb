{
  "nbformat": 4,
  "nbformat_minor": 0,
  "metadata": {
    "colab": {
      "name": "Assignment .ipynb",
      "provenance": [],
      "authorship_tag": "ABX9TyNKwBF9XCAvw43nAAF/62Zp",
      "include_colab_link": true
    },
    "kernelspec": {
      "name": "python3",
      "display_name": "Python 3"
    },
    "language_info": {
      "name": "python"
    }
  },
  "cells": [
    {
      "cell_type": "markdown",
      "metadata": {
        "id": "view-in-github",
        "colab_type": "text"
      },
      "source": [
        "<a href=\"https://colab.research.google.com/github/RSeth-Creator/Data/blob/dataScience/Assignment_.ipynb\" target=\"_parent\"><img src=\"https://colab.research.google.com/assets/colab-badge.svg\" alt=\"Open In Colab\"/></a>"
      ]
    },
    {
      "cell_type": "code",
      "execution_count": 1,
      "metadata": {
        "colab": {
          "base_uri": "https://localhost:8080/"
        },
        "id": "9puaUooYn3g2",
        "outputId": "6441f714-6691-4009-bb4e-5631577d6c58"
      },
      "outputs": [
        {
          "output_type": "stream",
          "name": "stdout",
          "text": [
            "Collecting pulp\n",
            "  Downloading PuLP-2.6.0-py3-none-any.whl (14.2 MB)\n",
            "\u001b[K     |████████████████████████████████| 14.2 MB 4.6 MB/s \n",
            "\u001b[?25hInstalling collected packages: pulp\n",
            "Successfully installed pulp-2.6.0\n",
            "Selecting previously unselected package libsuitesparseconfig5:amd64.\n",
            "(Reading database ... 156210 files and directories currently installed.)\n",
            "Preparing to unpack .../libsuitesparseconfig5_1%3a5.1.2-2_amd64.deb ...\n",
            "Unpacking libsuitesparseconfig5:amd64 (1:5.1.2-2) ...\n",
            "Selecting previously unselected package libamd2:amd64.\n",
            "Preparing to unpack .../libamd2_1%3a5.1.2-2_amd64.deb ...\n",
            "Unpacking libamd2:amd64 (1:5.1.2-2) ...\n",
            "Selecting previously unselected package libcolamd2:amd64.\n",
            "Preparing to unpack .../libcolamd2_1%3a5.1.2-2_amd64.deb ...\n",
            "Unpacking libcolamd2:amd64 (1:5.1.2-2) ...\n",
            "Selecting previously unselected package libglpk40:amd64.\n",
            "Preparing to unpack .../libglpk40_4.65-1_amd64.deb ...\n",
            "Unpacking libglpk40:amd64 (4.65-1) ...\n",
            "Selecting previously unselected package glpk-utils.\n",
            "Preparing to unpack .../glpk-utils_4.65-1_amd64.deb ...\n",
            "Unpacking glpk-utils (4.65-1) ...\n",
            "Setting up libsuitesparseconfig5:amd64 (1:5.1.2-2) ...\n",
            "Setting up libcolamd2:amd64 (1:5.1.2-2) ...\n",
            "Setting up libamd2:amd64 (1:5.1.2-2) ...\n",
            "Setting up libglpk40:amd64 (4.65-1) ...\n",
            "Setting up glpk-utils (4.65-1) ...\n",
            "Processing triggers for libc-bin (2.27-3ubuntu1.3) ...\n",
            "/sbin/ldconfig.real: /usr/local/lib/python3.7/dist-packages/ideep4py/lib/libmkldnn.so.0 is not a symbolic link\n",
            "\n",
            "Processing triggers for man-db (2.8.3-2ubuntu0.1) ...\n"
          ]
        }
      ],
      "source": [
        "!pip install pulp\n",
        "!apt-get install -y -qq glpk-utils"
      ]
    },
    {
      "cell_type": "code",
      "source": [
        "# Import PuLP modeler functions\n",
        "from pulp import *\n",
        "\n",
        "import pulp"
      ],
      "metadata": {
        "id": "tJ8iMznfqWSH"
      },
      "execution_count": 2,
      "outputs": []
    },
    {
      "cell_type": "markdown",
      "source": [
        "## Set the Workers, Jobs and Costs metrices"
      ],
      "metadata": {
        "id": "9Lvoi4yfuCbm"
      }
    },
    {
      "cell_type": "code",
      "source": [
        "# # Import all classes of PuLP module\n",
        "from pulp import *\n",
        "\n",
        "workers=[1,2,3,4]\n",
        "jobs=[1,2,3,4]\n",
        "\n",
        "# Cost Matrix\n",
        "costs=[[1,2,1,9],\n",
        "      [4,5,2,2],\n",
        "      [7,3,9,3],\n",
        "      [2,3,5,1]]\n",
        "\n",
        "prob = LpProblem(\"Assignment Problem\", LpMinimize) "
      ],
      "metadata": {
        "colab": {
          "base_uri": "https://localhost:8080/"
        },
        "id": "ucCffianqRRv",
        "outputId": "30bfac97-1bac-4383-b7e7-8e88491fa206"
      },
      "execution_count": 3,
      "outputs": [
        {
          "output_type": "stream",
          "name": "stderr",
          "text": [
            "/usr/local/lib/python3.7/dist-packages/pulp/pulp.py:1352: UserWarning: Spaces are not permitted in the name. Converted to '_'\n",
            "  warnings.warn(\"Spaces are not permitted in the name. Converted to '_'\")\n"
          ]
        }
      ]
    },
    {
      "cell_type": "code",
      "source": [
        "# The cost data is made into a dictionary\n",
        "costs= makeDict([workers, jobs], costs, 0)\n",
        "\n",
        "# Creates a list of tuples containing all the possible assignments\n",
        "assign = [(w, j) for w in workers for j in jobs]\n",
        "\n",
        "# A dictionary called 'Vars' is created to contain the referenced variables\n",
        "vars = LpVariable.dicts(\"Assign\", (workers, jobs), 0, None, LpBinary)"
      ],
      "metadata": {
        "id": "XESNZMVmqXHk"
      },
      "execution_count": 4,
      "outputs": []
    },
    {
      "cell_type": "markdown",
      "source": [
        "## Create the Objective function "
      ],
      "metadata": {
        "id": "eYGBPZ93uOyp"
      }
    },
    {
      "cell_type": "code",
      "source": [
        "# The objective function is added to 'prob' first\n",
        "prob += (\n",
        "    lpSum([vars[w][j] * costs[w][j] for (w, j) in assign]),\n",
        "    \"Sum_of_Assignment_Costs\",\n",
        ")"
      ],
      "metadata": {
        "id": "FdJHDgWIqa5f"
      },
      "execution_count": 5,
      "outputs": []
    },
    {
      "cell_type": "code",
      "source": [
        "# There are row constraints. Each job can be assigned to only one employee.\n",
        "for j in jobs:\n",
        "    prob+= lpSum(vars[w][j] for w in workers) == 1\n",
        "\n",
        "# There are column constraints. Each employee can be assigned to only one job.\n",
        "for w in workers:\n",
        "    prob+= lpSum(vars[w][j] for j in jobs) == 1"
      ],
      "metadata": {
        "id": "EcreltXyqeJs"
      },
      "execution_count": 6,
      "outputs": []
    },
    {
      "cell_type": "code",
      "source": [
        "# The problem is solved using PuLP's choice of Solver\n",
        "prob.solve()\n",
        "\n",
        "# Print the variables optimized value\n",
        "for v in prob.variables():\n",
        "    print(v.name, \"=\", v.varValue)\n",
        "    \n",
        "# The optimised objective function value is printed to the screen\n",
        "print(\"Value of Objective Function = \", value(prob.objective))"
      ],
      "metadata": {
        "colab": {
          "base_uri": "https://localhost:8080/"
        },
        "id": "EjOQrQa8qhWD",
        "outputId": "0713c009-8cc9-4cd3-ed61-3dc5cf7bc6dd"
      },
      "execution_count": 7,
      "outputs": [
        {
          "output_type": "stream",
          "name": "stdout",
          "text": [
            "Assign_1_1 = 1.0\n",
            "Assign_1_2 = 0.0\n",
            "Assign_1_3 = 0.0\n",
            "Assign_1_4 = 0.0\n",
            "Assign_2_1 = 0.0\n",
            "Assign_2_2 = 0.0\n",
            "Assign_2_3 = 1.0\n",
            "Assign_2_4 = 0.0\n",
            "Assign_3_1 = 0.0\n",
            "Assign_3_2 = 1.0\n",
            "Assign_3_3 = 0.0\n",
            "Assign_3_4 = 0.0\n",
            "Assign_4_1 = 0.0\n",
            "Assign_4_2 = 0.0\n",
            "Assign_4_3 = 0.0\n",
            "Assign_4_4 = 1.0\n",
            "Value of Objective Function =  7.0\n"
          ]
        }
      ]
    }
  ]
}