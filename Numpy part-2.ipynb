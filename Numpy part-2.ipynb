{
 "cells": [
  {
   "cell_type": "markdown",
   "metadata": {},
   "source": [
    "# 1.Create a Numpy 2D array using python range function and a for loop.\n"
   ]
  },
  {
   "cell_type": "code",
   "execution_count": 128,
   "metadata": {},
   "outputs": [
    {
     "name": "stdout",
     "output_type": "stream",
     "text": [
      "[[2 3 4]\n",
      " [4 5 6]]\n"
     ]
    }
   ],
   "source": [
    "test_2d = np.array([range(i, i + 3) for i in [2, 4]])\n",
    "print(test_2d)"
   ]
  },
  {
   "cell_type": "markdown",
   "metadata": {},
   "source": [
    "# 2. Convert the array created in question 3 and 4 of assignment 3 into an array of shape 2 rows and 5 columns.\n"
   ]
  },
  {
   "cell_type": "code",
   "execution_count": 2,
   "metadata": {},
   "outputs": [],
   "source": [
    "import numpy as np"
   ]
  },
  {
   "cell_type": "code",
   "execution_count": 5,
   "metadata": {},
   "outputs": [
    {
     "name": "stdout",
     "output_type": "stream",
     "text": [
      "[[0 1 2 3 4]\n",
      " [5 6 7 8 9]]\n"
     ]
    }
   ],
   "source": [
    "arr1=np.arange(10,dtype=int).reshape(2,5)\n",
    "print(arr1)"
   ]
  },
  {
   "cell_type": "code",
   "execution_count": 8,
   "metadata": {},
   "outputs": [
    {
     "name": "stdout",
     "output_type": "stream",
     "text": [
      "[[0 1 2 3 4]\n",
      " [5 6 7 8 9]]\n"
     ]
    }
   ],
   "source": [
    "arr2=np.linspace(0,9,10,dtype=int).reshape(2,5)\n",
    "print(arr2)"
   ]
  },
  {
   "cell_type": "markdown",
   "metadata": {},
   "source": [
    "# 3.Create a Numpy array of shape 4x5. The numbers are generated randomly from a uniform distribution.The values of the numbers are between 1 to 100.\n"
   ]
  },
  {
   "cell_type": "code",
   "execution_count": 40,
   "metadata": {},
   "outputs": [
    {
     "name": "stdout",
     "output_type": "stream",
     "text": [
      "[[25.29769406 16.96877686 37.20705595 55.17371088 47.12259866]\n",
      " [26.53834285  8.12641975 91.46462882 62.76492122 18.84330158]\n",
      " [21.50760238 34.84583094 23.63335366 11.43614042 71.91813486]\n",
      " [27.91225973 64.52972394 11.80724524 69.10716628 88.89975597]]\n"
     ]
    }
   ],
   "source": [
    "arr3=np.random.uniform(1,100,(4,5)).reshape(4,5)\n",
    "print(arr3)"
   ]
  },
  {
   "cell_type": "markdown",
   "metadata": {},
   "source": [
    "# 4.Create a Numpy array of shape 4x5. The numbers are generated randomly from a normal distribution. The mean and variance of the normal distribution will be 0 and 1 respectively.\n"
   ]
  },
  {
   "cell_type": "code",
   "execution_count": 62,
   "metadata": {},
   "outputs": [
    {
     "data": {
      "text/plain": [
       "array([[ 1.97435196, -1.17876968,  0.56956719,  0.10430088, -0.61610412],\n",
       "       [-0.33771555, -0.1991537 , -0.32215536,  0.91529432, -0.21746123],\n",
       "       [ 1.32969152, -0.21341972,  0.42502356, -0.22070671,  0.45793141],\n",
       "       [ 1.72482088,  0.48112697, -0.38258309,  0.38170307,  1.06495012]])"
      ]
     },
     "execution_count": 62,
     "metadata": {},
     "output_type": "execute_result"
    }
   ],
   "source": [
    "arr4=np.random.normal(0,1,(4,5))\n",
    "arr4"
   ]
  },
  {
   "cell_type": "markdown",
   "metadata": {},
   "source": [
    "# 5. Create a Numpy array of shape 4x5 having integer values. The numbers are generated randomly from a normal distribution. The mean and variance of the normal distribution will be 0 and 1 respectively."
   ]
  },
  {
   "cell_type": "code",
   "execution_count": 23,
   "metadata": {},
   "outputs": [
    {
     "data": {
      "text/plain": [
       "array([[-0.75293286, -0.91209005,  1.04238407,  0.59798502,  1.87138527],\n",
       "       [ 1.00442983,  0.4628939 ,  0.47003341,  0.46958795,  0.31210656],\n",
       "       [-0.68584998,  0.43284633,  0.66559416,  1.21605312, -1.15491142],\n",
       "       [-0.92620986, -0.74251699, -0.61562079, -0.6945908 ,  0.64433028]])"
      ]
     },
     "execution_count": 23,
     "metadata": {},
     "output_type": "execute_result"
    }
   ],
   "source": [
    "np.random.normal(0,1,(4,5))\n"
   ]
  },
  {
   "cell_type": "markdown",
   "metadata": {},
   "source": [
    "# 6.Print the size, shape, and the dimension of the array you have created in question 3."
   ]
  },
  {
   "cell_type": "code",
   "execution_count": 27,
   "metadata": {},
   "outputs": [
    {
     "name": "stdout",
     "output_type": "stream",
     "text": [
      "Size of the array is : 20\n",
      "Shape of the array is : (20,)\n",
      "dimension of the array is : 1\n"
     ]
    }
   ],
   "source": [
    "print(\"Size of the array is :\",np.size(arr3))\n",
    "print(\"Shape of the array is :\",np.shape(arr3))\n",
    "print(\"dimension of the array is :\",np.ndim(arr3))"
   ]
  },
  {
   "cell_type": "markdown",
   "metadata": {},
   "source": [
    "# 7.Print the data type, the size of each array element, and the total size of the array you have created in question 3."
   ]
  },
  {
   "cell_type": "code",
   "execution_count": 28,
   "metadata": {},
   "outputs": [
    {
     "name": "stdout",
     "output_type": "stream",
     "text": [
      "Data type  of the array is : float64\n",
      "Size of the array is : 8\n",
      "Size of the array is : 160\n"
     ]
    }
   ],
   "source": [
    "print(\"Data type  of the array is :\",arr3.dtype)\n",
    "print(\"Size of the array is :\",arr3.itemsize)\n",
    "print(\"Size of the array is :\",arr3.nbytes)"
   ]
  },
  {
   "cell_type": "markdown",
   "metadata": {},
   "source": [
    "# 8.Print the element located at 2nd row and 3rd column in the array created in 3."
   ]
  },
  {
   "cell_type": "code",
   "execution_count": 51,
   "metadata": {},
   "outputs": [
    {
     "data": {
      "text/plain": [
       "array([91.46462882])"
      ]
     },
     "execution_count": 51,
     "metadata": {},
     "output_type": "execute_result"
    }
   ],
   "source": [
    "arr3[1:2,2]\n"
   ]
  },
  {
   "cell_type": "markdown",
   "metadata": {},
   "source": [
    "# 9.Print the same element mentioning the index using negative numbers."
   ]
  },
  {
   "cell_type": "code",
   "execution_count": 60,
   "metadata": {},
   "outputs": [
    {
     "data": {
      "text/plain": [
       "array([[91.46462882]])"
      ]
     },
     "execution_count": 60,
     "metadata": {},
     "output_type": "execute_result"
    }
   ],
   "source": [
    "arr3[-3:-2,-3:-2]\n"
   ]
  },
  {
   "cell_type": "markdown",
   "metadata": {},
   "source": [
    "# 10. Change the value of the same element to 12."
   ]
  },
  {
   "cell_type": "code",
   "execution_count": 61,
   "metadata": {},
   "outputs": [
    {
     "data": {
      "text/plain": [
       "array([[25.29769406, 16.96877686, 37.20705595, 55.17371088, 47.12259866],\n",
       "       [26.53834285,  8.12641975, 12.        , 62.76492122, 18.84330158],\n",
       "       [21.50760238, 34.84583094, 23.63335366, 11.43614042, 71.91813486],\n",
       "       [27.91225973, 64.52972394, 11.80724524, 69.10716628, 88.89975597]])"
      ]
     },
     "execution_count": 61,
     "metadata": {},
     "output_type": "execute_result"
    }
   ],
   "source": [
    "arr3[1:2,2]=12\n",
    "arr3"
   ]
  },
  {
   "cell_type": "markdown",
   "metadata": {},
   "source": [
    "# 11.Print the 2nd and 3rd row and 2nd and 3rd column from the Numpy array created in 4.\n"
   ]
  },
  {
   "cell_type": "code",
   "execution_count": 129,
   "metadata": {},
   "outputs": [
    {
     "name": "stdout",
     "output_type": "stream",
     "text": [
      "[[-0.33771555 -0.1991537  -0.32215536  0.91529432 -0.21746123]\n",
      " [ 1.32969152 -0.21341972  0.42502356 -0.22070671  0.45793141]]\n"
     ]
    }
   ],
   "source": [
    "row34=arr4[1:3]\n",
    "print(row34)"
   ]
  },
  {
   "cell_type": "code",
   "execution_count": 130,
   "metadata": {},
   "outputs": [
    {
     "data": {
      "text/plain": [
       "array([[-1.17876968,  0.56956719],\n",
       "       [-0.1991537 , -0.32215536],\n",
       "       [-0.21341972,  0.42502356],\n",
       "       [ 0.48112697, -0.38258309]])"
      ]
     },
     "execution_count": 130,
     "metadata": {},
     "output_type": "execute_result"
    }
   ],
   "source": [
    "col34=arr4[:,1:3]\n",
    "col34"
   ]
  },
  {
   "cell_type": "code",
   "execution_count": 67,
   "metadata": {},
   "outputs": [
    {
     "data": {
      "text/plain": [
       "array([[-0.1991537 , -0.32215536],\n",
       "       [-0.21341972,  0.42502356]])"
      ]
     },
     "execution_count": 67,
     "metadata": {},
     "output_type": "execute_result"
    }
   ],
   "source": [
    "#intersection of 2 & 3 row and 2 & 3 olumn \n",
    "row_col34=arr4[1:3,1:3]\n",
    "print(row_col34)"
   ]
  },
  {
   "cell_type": "markdown",
   "metadata": {},
   "source": [
    "# 12. Print every other row and every other column from 2nd row and 2nd column from the Numpy array created in question 4."
   ]
  },
  {
   "cell_type": "code",
   "execution_count": 70,
   "metadata": {},
   "outputs": [
    {
     "data": {
      "text/plain": [
       "array([[-0.33771555, -0.1991537 , -0.32215536,  0.91529432, -0.21746123],\n",
       "       [ 1.72482088,  0.48112697, -0.38258309,  0.38170307,  1.06495012]])"
      ]
     },
     "execution_count": 70,
     "metadata": {},
     "output_type": "execute_result"
    }
   ],
   "source": [
    "#Every other row starting form index 1\n",
    "arr4[1::2]"
   ]
  },
  {
   "cell_type": "code",
   "execution_count": 72,
   "metadata": {},
   "outputs": [
    {
     "data": {
      "text/plain": [
       "array([[ 1.97435196, -1.17876968,  0.56956719,  0.10430088, -0.61610412],\n",
       "       [ 1.32969152, -0.21341972,  0.42502356, -0.22070671,  0.45793141]])"
      ]
     },
     "execution_count": 72,
     "metadata": {},
     "output_type": "execute_result"
    }
   ],
   "source": [
    "#Every other row starting form index 0\n",
    "arr4[::2]"
   ]
  },
  {
   "cell_type": "markdown",
   "metadata": {},
   "source": [
    "# 13. Print the 2nd and 3rd row and 2nd and 3rd column in reverse order from the Numpy array created in 4."
   ]
  },
  {
   "cell_type": "code",
   "execution_count": 73,
   "metadata": {},
   "outputs": [
    {
     "data": {
      "text/plain": [
       "array([[-0.21746123,  0.91529432, -0.32215536, -0.1991537 , -0.33771555],\n",
       "       [ 0.45793141, -0.22070671,  0.42502356, -0.21341972,  1.32969152]])"
      ]
     },
     "execution_count": 73,
     "metadata": {},
     "output_type": "execute_result"
    }
   ],
   "source": [
    "#Reverse 2nd & 3rd  row in reverse \n",
    "np.fliplr(arr4[1:3])"
   ]
  },
  {
   "cell_type": "code",
   "execution_count": 74,
   "metadata": {},
   "outputs": [
    {
     "data": {
      "text/plain": [
       "array([[ 0.56956719, -1.17876968],\n",
       "       [-0.32215536, -0.1991537 ],\n",
       "       [ 0.42502356, -0.21341972],\n",
       "       [-0.38258309,  0.48112697]])"
      ]
     },
     "execution_count": 74,
     "metadata": {},
     "output_type": "execute_result"
    }
   ],
   "source": [
    "#Reverse 2nd & 3rd  column in reverse \n",
    "np.fliplr(arr4[:,1:3])"
   ]
  },
  {
   "cell_type": "code",
   "execution_count": 75,
   "metadata": {},
   "outputs": [
    {
     "data": {
      "text/plain": [
       "array([[-0.32215536, -0.1991537 ],\n",
       "       [ 0.42502356, -0.21341972]])"
      ]
     },
     "execution_count": 75,
     "metadata": {},
     "output_type": "execute_result"
    }
   ],
   "source": [
    "#flip the intersection of 2nd  and 3rd row &column\n",
    "np.fliplr(arr4[1:3,1:3])"
   ]
  },
  {
   "cell_type": "markdown",
   "metadata": {},
   "source": [
    "# 14. Concatenate the arrays from question 3 and 4 row-wise and column wise"
   ]
  },
  {
   "cell_type": "code",
   "execution_count": 84,
   "metadata": {},
   "outputs": [
    {
     "data": {
      "text/plain": [
       "array([[25.29769406, 16.96877686, 37.20705595, 55.17371088, 47.12259866,\n",
       "         1.97435196, -1.17876968,  0.56956719,  0.10430088, -0.61610412],\n",
       "       [26.53834285,  8.12641975, 12.        , 62.76492122, 18.84330158,\n",
       "        -0.33771555, -0.1991537 , -0.32215536,  0.91529432, -0.21746123],\n",
       "       [21.50760238, 34.84583094, 23.63335366, 11.43614042, 71.91813486,\n",
       "         1.32969152, -0.21341972,  0.42502356, -0.22070671,  0.45793141],\n",
       "       [27.91225973, 64.52972394, 11.80724524, 69.10716628, 88.89975597,\n",
       "         1.72482088,  0.48112697, -0.38258309,  0.38170307,  1.06495012]])"
      ]
     },
     "execution_count": 84,
     "metadata": {},
     "output_type": "execute_result"
    }
   ],
   "source": [
    "#concatenate column  wise using concatenate \n",
    "np.concatenate((arr3,arr4),axis=1)"
   ]
  },
  {
   "cell_type": "code",
   "execution_count": 86,
   "metadata": {},
   "outputs": [
    {
     "data": {
      "text/plain": [
       "array([[25.29769406, 16.96877686, 37.20705595, 55.17371088, 47.12259866],\n",
       "       [26.53834285,  8.12641975, 12.        , 62.76492122, 18.84330158],\n",
       "       [21.50760238, 34.84583094, 23.63335366, 11.43614042, 71.91813486],\n",
       "       [27.91225973, 64.52972394, 11.80724524, 69.10716628, 88.89975597],\n",
       "       [ 1.97435196, -1.17876968,  0.56956719,  0.10430088, -0.61610412],\n",
       "       [-0.33771555, -0.1991537 , -0.32215536,  0.91529432, -0.21746123],\n",
       "       [ 1.32969152, -0.21341972,  0.42502356, -0.22070671,  0.45793141],\n",
       "       [ 1.72482088,  0.48112697, -0.38258309,  0.38170307,  1.06495012]])"
      ]
     },
     "execution_count": 86,
     "metadata": {},
     "output_type": "execute_result"
    }
   ],
   "source": [
    "#concatenate row wise using contcatenate \n",
    "np.concatenate((arr3,arr4),axis=0)"
   ]
  },
  {
   "cell_type": "code",
   "execution_count": 80,
   "metadata": {},
   "outputs": [
    {
     "data": {
      "text/plain": [
       "array([[25.29769406, 16.96877686, 37.20705595, 55.17371088, 47.12259866],\n",
       "       [26.53834285,  8.12641975, 12.        , 62.76492122, 18.84330158],\n",
       "       [21.50760238, 34.84583094, 23.63335366, 11.43614042, 71.91813486],\n",
       "       [27.91225973, 64.52972394, 11.80724524, 69.10716628, 88.89975597],\n",
       "       [ 1.97435196, -1.17876968,  0.56956719,  0.10430088, -0.61610412],\n",
       "       [-0.33771555, -0.1991537 , -0.32215536,  0.91529432, -0.21746123],\n",
       "       [ 1.32969152, -0.21341972,  0.42502356, -0.22070671,  0.45793141],\n",
       "       [ 1.72482088,  0.48112697, -0.38258309,  0.38170307,  1.06495012]])"
      ]
     },
     "execution_count": 80,
     "metadata": {},
     "output_type": "execute_result"
    }
   ],
   "source": [
    "#concatenate row wise using vstack \n",
    "np.vstack((arr3,arr4))"
   ]
  },
  {
   "cell_type": "code",
   "execution_count": 81,
   "metadata": {},
   "outputs": [
    {
     "data": {
      "text/plain": [
       "array([[25.29769406, 16.96877686, 37.20705595, 55.17371088, 47.12259866,\n",
       "         1.97435196, -1.17876968,  0.56956719,  0.10430088, -0.61610412],\n",
       "       [26.53834285,  8.12641975, 12.        , 62.76492122, 18.84330158,\n",
       "        -0.33771555, -0.1991537 , -0.32215536,  0.91529432, -0.21746123],\n",
       "       [21.50760238, 34.84583094, 23.63335366, 11.43614042, 71.91813486,\n",
       "         1.32969152, -0.21341972,  0.42502356, -0.22070671,  0.45793141],\n",
       "       [27.91225973, 64.52972394, 11.80724524, 69.10716628, 88.89975597,\n",
       "         1.72482088,  0.48112697, -0.38258309,  0.38170307,  1.06495012]])"
      ]
     },
     "execution_count": 81,
     "metadata": {},
     "output_type": "execute_result"
    }
   ],
   "source": [
    "##concatenate column wise using hstack \n",
    "np.hstack((arr3,arr4))"
   ]
  },
  {
   "cell_type": "markdown",
   "metadata": {},
   "source": [
    "# 15.Create a 1D array of size 5 and a 2D array of shape 4x5. Stack them vertically and horizontally."
   ]
  },
  {
   "cell_type": "code",
   "execution_count": 96,
   "metadata": {},
   "outputs": [],
   "source": [
    "test1=np.random.randint(1,50,(1,5))\n",
    "test1\n",
    "test3=np.random.randint(1,50,(5,1))"
   ]
  },
  {
   "cell_type": "code",
   "execution_count": 91,
   "metadata": {},
   "outputs": [
    {
     "data": {
      "text/plain": [
       "array([[34, 34, 43,  2, 11],\n",
       "       [15, 12, 36, 47,  8],\n",
       "       [40, 28, 17, 45, 27],\n",
       "       [24, 39, 40, 27,  5]])"
      ]
     },
     "execution_count": 91,
     "metadata": {},
     "output_type": "execute_result"
    }
   ],
   "source": [
    "test2=np.random.randint(1,50,(4,5))\n",
    "test2"
   ]
  },
  {
   "cell_type": "code",
   "execution_count": 100,
   "metadata": {},
   "outputs": [
    {
     "data": {
      "text/plain": [
       "array([[33],\n",
       "       [39],\n",
       "       [34],\n",
       "       [11]])"
      ]
     },
     "execution_count": 100,
     "metadata": {},
     "output_type": "execute_result"
    }
   ],
   "source": [
    "test3=np.random.randint(1,50,(4,1))\n",
    "test3"
   ]
  },
  {
   "cell_type": "code",
   "execution_count": 93,
   "metadata": {},
   "outputs": [
    {
     "data": {
      "text/plain": [
       "array([[11,  9, 18, 19,  4],\n",
       "       [34, 34, 43,  2, 11],\n",
       "       [15, 12, 36, 47,  8],\n",
       "       [40, 28, 17, 45, 27],\n",
       "       [24, 39, 40, 27,  5]])"
      ]
     },
     "execution_count": 93,
     "metadata": {},
     "output_type": "execute_result"
    }
   ],
   "source": [
    "#stack vertically\n",
    "np.vstack((test1,test2))"
   ]
  },
  {
   "cell_type": "markdown",
   "metadata": {},
   "source": [
    "1D array of size 5 can stack top of the 4X5 array , but can't be stack horizonatally because the for 4X5 matrix,5 row is present . Hence there is a dimensional mismatch "
   ]
  },
  {
   "cell_type": "code",
   "execution_count": 101,
   "metadata": {},
   "outputs": [
    {
     "data": {
      "text/plain": [
       "array([[34, 34, 43,  2, 11, 33],\n",
       "       [15, 12, 36, 47,  8, 39],\n",
       "       [40, 28, 17, 45, 27, 34],\n",
       "       [24, 39, 40, 27,  5, 11]])"
      ]
     },
     "execution_count": 101,
     "metadata": {},
     "output_type": "execute_result"
    }
   ],
   "source": [
    "#stack horizontally\n",
    "np.hstack((test2,test3))"
   ]
  },
  {
   "cell_type": "markdown",
   "metadata": {},
   "source": [
    "# 16. Get the 2D array from question 4 and split it vertically and horizontally in 3 parts."
   ]
  },
  {
   "cell_type": "code",
   "execution_count": 124,
   "metadata": {},
   "outputs": [
    {
     "data": {
      "text/plain": [
       "[array([[ 1.97435196, -1.17876968,  0.56956719,  0.10430088, -0.61610412]]),\n",
       " array([[-0.33771555, -0.1991537 , -0.32215536,  0.91529432, -0.21746123]]),\n",
       " array([[ 1.32969152, -0.21341972,  0.42502356, -0.22070671,  0.45793141],\n",
       "        [ 1.72482088,  0.48112697, -0.38258309,  0.38170307,  1.06495012]])]"
      ]
     },
     "execution_count": 124,
     "metadata": {},
     "output_type": "execute_result"
    }
   ],
   "source": [
    "np.vsplit(arr4, [1,2])"
   ]
  },
  {
   "cell_type": "code",
   "execution_count": 125,
   "metadata": {},
   "outputs": [
    {
     "data": {
      "text/plain": [
       "[array([[ 1.97435196],\n",
       "        [-0.33771555],\n",
       "        [ 1.32969152],\n",
       "        [ 1.72482088]]),\n",
       " array([[-1.17876968],\n",
       "        [-0.1991537 ],\n",
       "        [-0.21341972],\n",
       "        [ 0.48112697]]),\n",
       " array([[ 0.56956719,  0.10430088, -0.61610412],\n",
       "        [-0.32215536,  0.91529432, -0.21746123],\n",
       "        [ 0.42502356, -0.22070671,  0.45793141],\n",
       "        [-0.38258309,  0.38170307,  1.06495012]])]"
      ]
     },
     "execution_count": 125,
     "metadata": {},
     "output_type": "execute_result"
    }
   ],
   "source": [
    "np.hsplit(arr4, [1,2])"
   ]
  },
  {
   "cell_type": "code",
   "execution_count": null,
   "metadata": {},
   "outputs": [],
   "source": []
  }
 ],
 "metadata": {
  "kernelspec": {
   "display_name": "Python 3",
   "language": "python",
   "name": "python3"
  },
  "language_info": {
   "codemirror_mode": {
    "name": "ipython",
    "version": 3
   },
   "file_extension": ".py",
   "mimetype": "text/x-python",
   "name": "python",
   "nbconvert_exporter": "python",
   "pygments_lexer": "ipython3",
   "version": "3.7.6"
  }
 },
 "nbformat": 4,
 "nbformat_minor": 4
}
