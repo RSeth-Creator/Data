{
 "cells": [
  {
   "cell_type": "markdown",
   "metadata": {},
   "source": [
    "# 2.Program to multiply two matrices"
   ]
  },
  {
   "cell_type": "code",
   "execution_count": 1,
   "metadata": {},
   "outputs": [],
   "source": [
    "import array as arr"
   ]
  },
  {
   "cell_type": "code",
   "execution_count": 37,
   "metadata": {},
   "outputs": [
    {
     "name": "stdout",
     "output_type": "stream",
     "text": [
      "enter the number of col:2\n",
      "Enter the number of row:2\n",
      "enter the element for 00 : 1\n",
      "enter the element for 01 : 3\n",
      "\n",
      "enter the element for 10 : 2\n",
      "enter the element for 11 : 5\n",
      "\n",
      "1.0 3.0 \n",
      "2.0 5.0 \n"
     ]
    }
   ],
   "source": [
    "#initialize matrix 1\n",
    "#take input from user end \n",
    "m1col=int(input(\"enter the number of col:\"))\n",
    "m1row=int(input(\"Enter the number of row:\"))\n",
    "matrix1=[]\n",
    "for i in range(m1row):\n",
    "    temp1=[]\n",
    "    for j in range(m1col):\n",
    "        j=float(input(\"enter the element for \"+str(i)+\"\"+str(j)+\" : \"))\n",
    "        temp1.append(j)\n",
    "    print()\n",
    "    matrix1.append(temp1)\n",
    "        \n",
    "for i in range(m1row):\n",
    "    for j in range (m1col):\n",
    "        print(matrix1[i][j],end=\" \")\n",
    "    print()"
   ]
  },
  {
   "cell_type": "code",
   "execution_count": 38,
   "metadata": {},
   "outputs": [
    {
     "name": "stdout",
     "output_type": "stream",
     "text": [
      "enter the number of col:2\n",
      "Enter the number of row:2\n",
      "enter the element for  00 : 5\n",
      "enter the element for  01 : 6\n",
      "\n",
      "enter the element for  10 : 8\n",
      "enter the element for  11 : 6\n",
      "\n",
      "5.0 6.0 \n",
      "8.0 6.0 \n"
     ]
    }
   ],
   "source": [
    "# initialize matrix 2 \n",
    "##take user input from user end \n",
    "m2col=int(input(\"enter the number of col:\"))\n",
    "m2row=int(input(\"Enter the number of row:\"))\n",
    "matrix2=[]\n",
    "for i in range(m2row):\n",
    "    temp2=[]\n",
    "    for j in range(m2col):\n",
    "        j=float(input(\"enter the element for  \"+str(i)+\"\"+str(j)+\" : \"))\n",
    "        temp2.append(j)\n",
    "    print()\n",
    "    matrix2.append(temp2)\n",
    "        \n",
    "for i in range(m2row):\n",
    "    for j in range (m2col):\n",
    "        print(matrix2[i][j],end=\" \")\n",
    "    print()"
   ]
  },
  {
   "cell_type": "code",
   "execution_count": 39,
   "metadata": {},
   "outputs": [
    {
     "name": "stdout",
     "output_type": "stream",
     "text": [
      "Matrix mutiplication is possible \n"
     ]
    }
   ],
   "source": [
    "##Check whether matrix multiplication is possible or not \n",
    "if (m1col==m2row):\n",
    "        print(\"Matrix mutiplication is possible \")\n",
    "            \n",
    "            \n",
    "else:\n",
    "    raise Exception (\"matrix multiplication is not  possible\")\n",
    "    \n"
   ]
  },
  {
   "cell_type": "code",
   "execution_count": 40,
   "metadata": {},
   "outputs": [
    {
     "name": "stdout",
     "output_type": "stream",
     "text": [
      "\n",
      "\n",
      "0.0 0.0 \n",
      "0.0 0.0 \n"
     ]
    }
   ],
   "source": [
    "#create result buffer which will store the multiplication output \n",
    "result=[]\n",
    "for i in range(m1row):\n",
    "    temp3=[]\n",
    "    for j in range(m2col):\n",
    "        j=float(0)\n",
    "        temp3.append(j)\n",
    "    print()\n",
    "    result.append(temp3)\n",
    "    \n",
    "##check all element are 0 or not      \n",
    "for i in range(m1row):\n",
    "    for j in range (m2col):\n",
    "        print(result[i][j],end=\" \")\n",
    "    print()"
   ]
  },
  {
   "cell_type": "code",
   "execution_count": 41,
   "metadata": {},
   "outputs": [
    {
     "name": "stdout",
     "output_type": "stream",
     "text": [
      "[29.0, 24.0]\n",
      "[50.0, 42.0]\n"
     ]
    }
   ],
   "source": [
    "##calculation for matrix multiplication\n",
    "\n",
    "for i in range(len(matrix1)):\n",
    "  \n",
    "   for j in range(len(matrix2[0])):\n",
    "       \n",
    "       for k in range(len(matrix2)):\n",
    "                result[i][j] += matrix1[i][k] * matrix2[k][j]\n",
    "\n",
    "for r in result:\n",
    "       print(r)"
   ]
  },
  {
   "cell_type": "code",
   "execution_count": null,
   "metadata": {},
   "outputs": [],
   "source": []
  }
 ],
 "metadata": {
  "kernelspec": {
   "display_name": "Python 3",
   "language": "python",
   "name": "python3"
  },
  "language_info": {
   "codemirror_mode": {
    "name": "ipython",
    "version": 3
   },
   "file_extension": ".py",
   "mimetype": "text/x-python",
   "name": "python",
   "nbconvert_exporter": "python",
   "pygments_lexer": "ipython3",
   "version": "3.7.6"
  }
 },
 "nbformat": 4,
 "nbformat_minor": 4
}
