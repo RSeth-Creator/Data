{
  "nbformat": 4,
  "nbformat_minor": 0,
  "metadata": {
    "colab": {
      "name": "Linear Regression(Multiple attribute)",
      "provenance": [],
      "authorship_tag": "ABX9TyN7gDgQWwQqVSU2Ccz5IS8M",
      "include_colab_link": true
    },
    "kernelspec": {
      "name": "python3",
      "display_name": "Python 3"
    },
    "language_info": {
      "name": "python"
    }
  },
  "cells": [
    {
      "cell_type": "markdown",
      "metadata": {
        "id": "view-in-github",
        "colab_type": "text"
      },
      "source": [
        "<a href=\"https://colab.research.google.com/github/RSeth-Creator/Data/blob/dataScience/Linear_Regression(Multiple_attribute).ipynb\" target=\"_parent\"><img src=\"https://colab.research.google.com/assets/colab-badge.svg\" alt=\"Open In Colab\"/></a>"
      ]
    },
    {
      "cell_type": "code",
      "metadata": {
        "id": "qcef9V_RAlAu"
      },
      "source": [
        "#Building the connection to get file from the gdrive\n",
        "from google.colab import drive\n",
        "drive.mount('/content/drive')"
      ],
      "execution_count": null,
      "outputs": []
    },
    {
      "cell_type": "code",
      "metadata": {
        "id": "vzQ7GeFHA6Vw"
      },
      "source": [
        "#importing file from the drive  \n",
        "import pandas as pd \n",
        "df = pd.read_excel('/content/drive/My Drive/Copy of multiple regression-std.xlsx')\n",
        "df.head(5)\n"
      ],
      "execution_count": null,
      "outputs": []
    },
    {
      "cell_type": "code",
      "metadata": {
        "id": "KitduE0HCFBG"
      },
      "source": [
        "# Creating input and output dataset \n",
        "X = df[['const','Force','Power','Temperature','Time']]\n",
        "y = df['Strength']\n",
        "#Creating training and train and test dataset\n",
        "from sklearn.model_selection import train_test_split\n",
        "X_train, X_test, y_train, y_test = train_test_split(X, y, test_size=0.02, random_state=0)\n",
        "\n",
        "#Creating the Linear regression model \n",
        "from sklearn.linear_model import LinearRegression\n",
        "regressor = LinearRegression()\n",
        "regressor.fit(X_train, y_train)\n",
        "\n",
        "#calculating the coefficient of each attribute\n",
        "coeff_df = pd.DataFrame(regressor.coef_, X.columns)\n",
        "\n",
        "#Making prediction based on the test data \n",
        "y_pred = regressor.predict(X_test)\n",
        "df_pred = pd.DataFrame({'Actual': y_test, 'Predicted': y_pred})"
      ],
      "execution_count": 26,
      "outputs": []
    },
    {
      "cell_type": "code",
      "metadata": {
        "colab": {
          "base_uri": "https://localhost:8080/"
        },
        "id": "1VI33kxqC4Mn",
        "outputId": "533fdf51-7284-40da-e111-2aae43b11753"
      },
      "source": [
        "print('Coefficient of each attribute:',coeff_df)\n",
        "print('Prediction based on test data :',df_pred)\n",
        "#Calculate the error betweenactual and predicted value\n",
        "from sklearn import metrics\n",
        "print('Mean Absolute Error:', metrics.mean_absolute_error(y_test, y_pred))\n",
        "print('Mean Squared Error:', metrics.mean_squared_error(y_test, y_pred))\n",
        "print('Root Mean Squared Error:', np.sqrt(metrics.mean_squared_error(y_test, y_pred)))"
      ],
      "execution_count": 28,
      "outputs": [
        {
          "output_type": "stream",
          "text": [
            "Coefficient of each attribute:                     0\n",
            "const        0.000000\n",
            "Force        0.206563\n",
            "Power        0.500035\n",
            "Temperature  0.128646\n",
            "Time         0.253229\n",
            "Prediction based on test data :    Actual  Predicted\n",
            "2    39.8    40.4125\n",
            "Mean Absolute Error: 0.6125000000000043\n",
            "Mean Squared Error: 0.37515625000000524\n",
            "Root Mean Squared Error: 0.6125000000000043\n"
          ],
          "name": "stdout"
        }
      ]
    }
  ]
}