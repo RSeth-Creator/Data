{
  "nbformat": 4,
  "nbformat_minor": 0,
  "metadata": {
    "colab": {
      "name": "Untitled0.ipynb",
      "provenance": [],
      "authorship_tag": "ABX9TyMJLq5jAPd1zSQbfRabCKgQ",
      "include_colab_link": true
    },
    "kernelspec": {
      "name": "python3",
      "display_name": "Python 3"
    },
    "language_info": {
      "name": "python"
    }
  },
  "cells": [
    {
      "cell_type": "markdown",
      "metadata": {
        "id": "view-in-github",
        "colab_type": "text"
      },
      "source": [
        "<a href=\"https://colab.research.google.com/github/RSeth-Creator/Data/blob/dataScience/PCA%20-Mathematical%20implementation.ipynb\" target=\"_parent\"><img src=\"https://colab.research.google.com/assets/colab-badge.svg\" alt=\"Open In Colab\"/></a>"
      ]
    },
    {
      "cell_type": "code",
      "metadata": {
        "id": "PKBsVqBuWvLk",
        "colab": {
          "base_uri": "https://localhost:8080/"
        },
        "outputId": "39020276-8f77-4e6a-aef7-5b0b492e2591"
      },
      "source": [
        "from google.colab import drive\n",
        "drive.mount('/content/drive')"
      ],
      "execution_count": 107,
      "outputs": [
        {
          "output_type": "stream",
          "text": [
            "Drive already mounted at /content/drive; to attempt to forcibly remount, call drive.mount(\"/content/drive\", force_remount=True).\n"
          ],
          "name": "stdout"
        }
      ]
    },
    {
      "cell_type": "code",
      "metadata": {
        "id": "qnTYxfHZWvOQ",
        "colab": {
          "base_uri": "https://localhost:8080/",
          "height": 300
        },
        "outputId": "657c0ef8-411b-4d1f-bbec-5ad2f6e8a032"
      },
      "source": [
        " #importing file from the drive  \n",
        "import numpy as np \n",
        "import pandas as pd \n",
        "df = pd.read_excel('/content/drive/My Drive/Copy of multiple regression-std.xlsx')\n",
        "df = df[['Force','Power','Temperature','Time','Strength']]\n",
        "#Get the summary of the data \n",
        "df.describe()"
      ],
      "execution_count": 108,
      "outputs": [
        {
          "output_type": "execute_result",
          "data": {
            "text/html": [
              "<div>\n",
              "<style scoped>\n",
              "    .dataframe tbody tr th:only-of-type {\n",
              "        vertical-align: middle;\n",
              "    }\n",
              "\n",
              "    .dataframe tbody tr th {\n",
              "        vertical-align: top;\n",
              "    }\n",
              "\n",
              "    .dataframe thead th {\n",
              "        text-align: right;\n",
              "    }\n",
              "</style>\n",
              "<table border=\"1\" class=\"dataframe\">\n",
              "  <thead>\n",
              "    <tr style=\"text-align: right;\">\n",
              "      <th></th>\n",
              "      <th>Force</th>\n",
              "      <th>Power</th>\n",
              "      <th>Temperature</th>\n",
              "      <th>Time</th>\n",
              "      <th>Strength</th>\n",
              "    </tr>\n",
              "  </thead>\n",
              "  <tbody>\n",
              "    <tr>\n",
              "      <th>count</th>\n",
              "      <td>30.000000</td>\n",
              "      <td>30.000000</td>\n",
              "      <td>30.000000</td>\n",
              "      <td>30.000000</td>\n",
              "      <td>30.000000</td>\n",
              "    </tr>\n",
              "    <tr>\n",
              "      <th>mean</th>\n",
              "      <td>35.000000</td>\n",
              "      <td>75.000000</td>\n",
              "      <td>200.000000</td>\n",
              "      <td>20.000000</td>\n",
              "      <td>38.406667</td>\n",
              "    </tr>\n",
              "    <tr>\n",
              "      <th>std</th>\n",
              "      <td>4.548588</td>\n",
              "      <td>13.645765</td>\n",
              "      <td>22.742941</td>\n",
              "      <td>4.548588</td>\n",
              "      <td>8.954403</td>\n",
              "    </tr>\n",
              "    <tr>\n",
              "      <th>min</th>\n",
              "      <td>25.000000</td>\n",
              "      <td>45.000000</td>\n",
              "      <td>150.000000</td>\n",
              "      <td>10.000000</td>\n",
              "      <td>22.700000</td>\n",
              "    </tr>\n",
              "    <tr>\n",
              "      <th>25%</th>\n",
              "      <td>30.000000</td>\n",
              "      <td>60.000000</td>\n",
              "      <td>175.000000</td>\n",
              "      <td>15.000000</td>\n",
              "      <td>34.675000</td>\n",
              "    </tr>\n",
              "    <tr>\n",
              "      <th>50%</th>\n",
              "      <td>35.000000</td>\n",
              "      <td>75.000000</td>\n",
              "      <td>200.000000</td>\n",
              "      <td>20.000000</td>\n",
              "      <td>38.600000</td>\n",
              "    </tr>\n",
              "    <tr>\n",
              "      <th>75%</th>\n",
              "      <td>40.000000</td>\n",
              "      <td>90.000000</td>\n",
              "      <td>225.000000</td>\n",
              "      <td>25.000000</td>\n",
              "      <td>42.700000</td>\n",
              "    </tr>\n",
              "    <tr>\n",
              "      <th>max</th>\n",
              "      <td>45.000000</td>\n",
              "      <td>105.000000</td>\n",
              "      <td>250.000000</td>\n",
              "      <td>30.000000</td>\n",
              "      <td>58.700000</td>\n",
              "    </tr>\n",
              "  </tbody>\n",
              "</table>\n",
              "</div>"
            ],
            "text/plain": [
              "           Force       Power  Temperature       Time   Strength\n",
              "count  30.000000   30.000000    30.000000  30.000000  30.000000\n",
              "mean   35.000000   75.000000   200.000000  20.000000  38.406667\n",
              "std     4.548588   13.645765    22.742941   4.548588   8.954403\n",
              "min    25.000000   45.000000   150.000000  10.000000  22.700000\n",
              "25%    30.000000   60.000000   175.000000  15.000000  34.675000\n",
              "50%    35.000000   75.000000   200.000000  20.000000  38.600000\n",
              "75%    40.000000   90.000000   225.000000  25.000000  42.700000\n",
              "max    45.000000  105.000000   250.000000  30.000000  58.700000"
            ]
          },
          "metadata": {
            "tags": []
          },
          "execution_count": 108
        }
      ]
    },
    {
      "cell_type": "code",
      "metadata": {
        "id": "Mk2EdM74donX"
      },
      "source": [
        "#standardize the dataset\n",
        "df_std = (df - df.mean())/df.std()"
      ],
      "execution_count": 109,
      "outputs": []
    },
    {
      "cell_type": "code",
      "metadata": {
        "id": "Fm9pAxc5elEb",
        "colab": {
          "base_uri": "https://localhost:8080/"
        },
        "outputId": "175690c9-8f71-4a95-8fd4-1f65b8325faa"
      },
      "source": [
        "#Creating the covariance matrix from the standarized dataset(df_std)\n",
        "df_cov = np.cov(df_std.T, bias = 0)\n",
        "df_cov"
      ],
      "execution_count": 115,
      "outputs": [
        {
          "output_type": "execute_result",
          "data": {
            "text/plain": [
              "array([[ 1.00000000e+00, -4.67614605e-18, -5.43601456e-18,\n",
              "        -4.67614605e-18,  1.07520793e-01],\n",
              "       [-4.67614605e-18,  1.00000000e+00, -1.30927251e-17,\n",
              "        -1.23328566e-17,  7.59418516e-01],\n",
              "       [-5.43601456e-18, -1.30927251e-17,  1.00000000e+00,\n",
              "        -1.30927251e-17,  3.29335343e-01],\n",
              "       [-4.67614605e-18, -1.23328566e-17, -1.30927251e-17,\n",
              "         1.00000000e+00,  1.31226165e-01],\n",
              "       [ 1.07520793e-01,  7.59418516e-01,  3.29335343e-01,\n",
              "         1.31226165e-01,  1.00000000e+00]])"
            ]
          },
          "metadata": {
            "tags": []
          },
          "execution_count": 115
        }
      ]
    },
    {
      "cell_type": "code",
      "metadata": {
        "id": "mZET3lirjkTD"
      },
      "source": [
        "#Find out the eigen values and eigen vector \n",
        "eigen_val, eigen_vectors = np.linalg.eig(df_cov)"
      ],
      "execution_count": 117,
      "outputs": []
    },
    {
      "cell_type": "code",
      "metadata": {
        "id": "esbbSaZ8uJsF",
        "colab": {
          "base_uri": "https://localhost:8080/"
        },
        "outputId": "3551407b-36b8-47d2-91d4-d249150a850b"
      },
      "source": [
        "print(eigen_val)"
      ],
      "execution_count": 118,
      "outputs": [
        {
          "output_type": "stream",
          "text": [
            "[0.15503889 1.         1.84496111 1.         1.        ]\n"
          ],
          "name": "stdout"
        }
      ]
    },
    {
      "cell_type": "code",
      "metadata": {
        "id": "ICOKRPWHuN5n",
        "colab": {
          "base_uri": "https://localhost:8080/"
        },
        "outputId": "4052b895-79b1-423d-fb66-c68dbb263b2c"
      },
      "source": [
        "print(eigen_vectors)"
      ],
      "execution_count": 119,
      "outputs": [
        {
          "output_type": "stream",
          "text": [
            "[[-8.99789127e-02 -9.91870753e-01 -8.99789127e-02 -1.58071683e-03\n",
            "  -1.24102382e-02]\n",
            " [-6.35520352e-01  1.15304197e-01 -6.35520352e-01 -3.81637140e-01\n",
            "   3.35009963e-01]\n",
            " [-2.75604701e-01  5.00037153e-02 -2.75604701e-01  9.19203130e-01\n",
            "  -4.35583346e-01]\n",
            " [-1.09816783e-01  1.99243596e-02 -1.09816783e-01 -9.70371092e-02\n",
            "  -8.35392997e-01]\n",
            " [ 7.07106781e-01  7.97628633e-17 -7.07106781e-01  6.21669737e-17\n",
            "  -4.78434288e-17]]\n"
          ],
          "name": "stdout"
        }
      ]
    },
    {
      "cell_type": "code",
      "metadata": {
        "id": "43sUI6_kkiLs",
        "colab": {
          "base_uri": "https://localhost:8080/"
        },
        "outputId": "235478f0-5d43-4776-8369-7a328e1c84fa"
      },
      "source": [
        "#Taking 2 eigrn values as per the difference\n",
        "ev = eigen_vectors[:,:2]\n",
        "ev"
      ],
      "execution_count": 123,
      "outputs": [
        {
          "output_type": "execute_result",
          "data": {
            "text/plain": [
              "array([[-8.99789127e-02, -9.91870753e-01],\n",
              "       [-6.35520352e-01,  1.15304197e-01],\n",
              "       [-2.75604701e-01,  5.00037153e-02],\n",
              "       [-1.09816783e-01,  1.99243596e-02],\n",
              "       [ 7.07106781e-01,  7.97628633e-17]])"
            ]
          },
          "metadata": {
            "tags": []
          },
          "execution_count": 123
        }
      ]
    },
    {
      "cell_type": "code",
      "metadata": {
        "id": "dZ_iB1QLkwGz"
      },
      "source": [
        "#Multiplication of standared matrix with the eigen vector of perticuler eigen values\n",
        "transformed_data = np.matmul(np.array(df_std),ev)"
      ],
      "execution_count": 126,
      "outputs": []
    },
    {
      "cell_type": "code",
      "metadata": {
        "id": "q3ieEOksk1LO",
        "colab": {
          "base_uri": "https://localhost:8080/",
          "height": 990
        },
        "outputId": "c25dacdd-cbbc-4e98-bba4-127ff44cffb3"
      },
      "source": [
        "#final principle component\n",
        "pd.DataFrame(transformed_data)"
      ],
      "execution_count": 127,
      "outputs": [
        {
          "output_type": "execute_result",
          "data": {
            "text/html": [
              "<div>\n",
              "<style scoped>\n",
              "    .dataframe tbody tr th:only-of-type {\n",
              "        vertical-align: middle;\n",
              "    }\n",
              "\n",
              "    .dataframe tbody tr th {\n",
              "        vertical-align: top;\n",
              "    }\n",
              "\n",
              "    .dataframe thead th {\n",
              "        text-align: right;\n",
              "    }\n",
              "</style>\n",
              "<table border=\"1\" class=\"dataframe\">\n",
              "  <thead>\n",
              "    <tr style=\"text-align: right;\">\n",
              "      <th></th>\n",
              "      <th>0</th>\n",
              "      <th>1</th>\n",
              "    </tr>\n",
              "  </thead>\n",
              "  <tbody>\n",
              "    <tr>\n",
              "      <th>0</th>\n",
              "      <td>0.257241</td>\n",
              "      <td>8.866910e-01</td>\n",
              "    </tr>\n",
              "    <tr>\n",
              "      <th>1</th>\n",
              "      <td>0.067321</td>\n",
              "      <td>-1.293921e+00</td>\n",
              "    </tr>\n",
              "    <tr>\n",
              "      <th>2</th>\n",
              "      <td>-0.065983</td>\n",
              "      <td>1.140185e+00</td>\n",
              "    </tr>\n",
              "    <tr>\n",
              "      <th>3</th>\n",
              "      <td>-0.271697</td>\n",
              "      <td>-1.040427e+00</td>\n",
              "    </tr>\n",
              "    <tr>\n",
              "      <th>4</th>\n",
              "      <td>0.630525</td>\n",
              "      <td>9.966234e-01</td>\n",
              "    </tr>\n",
              "    <tr>\n",
              "      <th>5</th>\n",
              "      <td>0.187909</td>\n",
              "      <td>-1.183989e+00</td>\n",
              "    </tr>\n",
              "    <tr>\n",
              "      <th>6</th>\n",
              "      <td>0.038812</td>\n",
              "      <td>1.250118e+00</td>\n",
              "    </tr>\n",
              "    <tr>\n",
              "      <th>7</th>\n",
              "      <td>-1.027647</td>\n",
              "      <td>-9.304944e-01</td>\n",
              "    </tr>\n",
              "    <tr>\n",
              "      <th>8</th>\n",
              "      <td>0.047398</td>\n",
              "      <td>9.304944e-01</td>\n",
              "    </tr>\n",
              "    <tr>\n",
              "      <th>9</th>\n",
              "      <td>-0.403116</td>\n",
              "      <td>-1.250118e+00</td>\n",
              "    </tr>\n",
              "    <tr>\n",
              "      <th>10</th>\n",
              "      <td>-0.402174</td>\n",
              "      <td>1.183989e+00</td>\n",
              "    </tr>\n",
              "    <tr>\n",
              "      <th>11</th>\n",
              "      <td>0.466070</td>\n",
              "      <td>-9.966234e-01</td>\n",
              "    </tr>\n",
              "    <tr>\n",
              "      <th>12</th>\n",
              "      <td>0.460166</td>\n",
              "      <td>1.040427e+00</td>\n",
              "    </tr>\n",
              "    <tr>\n",
              "      <th>13</th>\n",
              "      <td>-0.306218</td>\n",
              "      <td>-1.140185e+00</td>\n",
              "    </tr>\n",
              "    <tr>\n",
              "      <th>14</th>\n",
              "      <td>-0.660630</td>\n",
              "      <td>1.293921e+00</td>\n",
              "    </tr>\n",
              "    <tr>\n",
              "      <th>15</th>\n",
              "      <td>0.168131</td>\n",
              "      <td>-8.866910e-01</td>\n",
              "    </tr>\n",
              "    <tr>\n",
              "      <th>16</th>\n",
              "      <td>-0.055405</td>\n",
              "      <td>2.180612e+00</td>\n",
              "    </tr>\n",
              "    <tr>\n",
              "      <th>17</th>\n",
              "      <td>0.472880</td>\n",
              "      <td>-2.180612e+00</td>\n",
              "    </tr>\n",
              "    <tr>\n",
              "      <th>18</th>\n",
              "      <td>0.156865</td>\n",
              "      <td>-2.534945e-01</td>\n",
              "    </tr>\n",
              "    <tr>\n",
              "      <th>19</th>\n",
              "      <td>0.205332</td>\n",
              "      <td>2.534945e-01</td>\n",
              "    </tr>\n",
              "    <tr>\n",
              "      <th>20</th>\n",
              "      <td>0.297413</td>\n",
              "      <td>-1.099324e-01</td>\n",
              "    </tr>\n",
              "    <tr>\n",
              "      <th>21</th>\n",
              "      <td>-0.164221</td>\n",
              "      <td>1.099324e-01</td>\n",
              "    </tr>\n",
              "    <tr>\n",
              "      <th>22</th>\n",
              "      <td>0.027692</td>\n",
              "      <td>-4.380339e-02</td>\n",
              "    </tr>\n",
              "    <tr>\n",
              "      <th>23</th>\n",
              "      <td>0.026533</td>\n",
              "      <td>4.380339e-02</td>\n",
              "    </tr>\n",
              "    <tr>\n",
              "      <th>24</th>\n",
              "      <td>-0.150565</td>\n",
              "      <td>-1.698396e-17</td>\n",
              "    </tr>\n",
              "    <tr>\n",
              "      <th>25</th>\n",
              "      <td>-0.063700</td>\n",
              "      <td>-7.185520e-18</td>\n",
              "    </tr>\n",
              "    <tr>\n",
              "      <th>26</th>\n",
              "      <td>0.149512</td>\n",
              "      <td>1.686519e-17</td>\n",
              "    </tr>\n",
              "    <tr>\n",
              "      <th>27</th>\n",
              "      <td>0.599627</td>\n",
              "      <td>6.763890e-17</td>\n",
              "    </tr>\n",
              "    <tr>\n",
              "      <th>28</th>\n",
              "      <td>-0.837582</td>\n",
              "      <td>-9.448068e-17</td>\n",
              "    </tr>\n",
              "    <tr>\n",
              "      <th>29</th>\n",
              "      <td>0.149512</td>\n",
              "      <td>1.686519e-17</td>\n",
              "    </tr>\n",
              "  </tbody>\n",
              "</table>\n",
              "</div>"
            ],
            "text/plain": [
              "           0             1\n",
              "0   0.257241  8.866910e-01\n",
              "1   0.067321 -1.293921e+00\n",
              "2  -0.065983  1.140185e+00\n",
              "3  -0.271697 -1.040427e+00\n",
              "4   0.630525  9.966234e-01\n",
              "5   0.187909 -1.183989e+00\n",
              "6   0.038812  1.250118e+00\n",
              "7  -1.027647 -9.304944e-01\n",
              "8   0.047398  9.304944e-01\n",
              "9  -0.403116 -1.250118e+00\n",
              "10 -0.402174  1.183989e+00\n",
              "11  0.466070 -9.966234e-01\n",
              "12  0.460166  1.040427e+00\n",
              "13 -0.306218 -1.140185e+00\n",
              "14 -0.660630  1.293921e+00\n",
              "15  0.168131 -8.866910e-01\n",
              "16 -0.055405  2.180612e+00\n",
              "17  0.472880 -2.180612e+00\n",
              "18  0.156865 -2.534945e-01\n",
              "19  0.205332  2.534945e-01\n",
              "20  0.297413 -1.099324e-01\n",
              "21 -0.164221  1.099324e-01\n",
              "22  0.027692 -4.380339e-02\n",
              "23  0.026533  4.380339e-02\n",
              "24 -0.150565 -1.698396e-17\n",
              "25 -0.063700 -7.185520e-18\n",
              "26  0.149512  1.686519e-17\n",
              "27  0.599627  6.763890e-17\n",
              "28 -0.837582 -9.448068e-17\n",
              "29  0.149512  1.686519e-17"
            ]
          },
          "metadata": {
            "tags": []
          },
          "execution_count": 127
        }
      ]
    }
  ]
}