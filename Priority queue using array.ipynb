{
 "cells": [
  {
   "cell_type": "code",
   "execution_count": 8,
   "metadata": {},
   "outputs": [],
   "source": [
    "import array as arr"
   ]
  },
  {
   "cell_type": "code",
   "execution_count": 9,
   "metadata": {},
   "outputs": [
    {
     "name": "stdout",
     "output_type": "stream",
     "text": [
      "Enter , size of the queue: 4\n"
     ]
    }
   ],
   "source": [
    "y=int(input(\"Enter , size of the queue: \"))\n"
   ]
  },
  {
   "cell_type": "code",
   "execution_count": 10,
   "metadata": {},
   "outputs": [],
   "source": [
    "def status():\n",
    "\n",
    "        if (len(q)==0):\n",
    "            print(\"The queue is empty \")\n",
    "        elif(y==len(q)):\n",
    "            print(\"The queue is full\")\n",
    "        return()"
   ]
  },
  {
   "cell_type": "code",
   "execution_count": 15,
   "metadata": {},
   "outputs": [
    {
     "name": "stdout",
     "output_type": "stream",
     "text": [
      "Enter the number of element: 0\n",
      "The queue is empty \n",
      "\n",
      "\n",
      "The queue is empty \n"
     ]
    },
    {
     "data": {
      "text/plain": [
       "()"
      ]
     },
     "execution_count": 15,
     "metadata": {},
     "output_type": "execute_result"
    }
   ],
   "source": [
    "q=arr.array('i',[])\n",
    "x=int(input('Enter the number of element: '))\n",
    "status()\n",
    "if(x<=y):\n",
    "    for i in range(x):\n",
    "        j=int(input('Enter the element '+str(i)+' : '))\n",
    "        q.append(j)\n",
    "    for i in range(len(q)):\n",
    "        print(q[i],end=' ')\n",
    "print('\\n')\n",
    "status()"
   ]
  },
  {
   "cell_type": "code",
   "execution_count": 16,
   "metadata": {},
   "outputs": [],
   "source": [
    "##sort the queue based on value(priority)\n",
    "temp=arr.array('i',[])\n",
    "for i in range(len(q)):\n",
    "    for j in range(i+1,len(q)):\n",
    "        if(q[i]<q[j]):\n",
    "                temp = q[i]\n",
    "                q[i] = q[j]\n",
    "                q[j] = temp"
   ]
  },
  {
   "cell_type": "code",
   "execution_count": 17,
   "metadata": {},
   "outputs": [],
   "source": [
    "for i in range(len(q)):\n",
    "    j=q.pop()\n",
    "    print('Item out from queue with priority '+str(i)+' : ',j)"
   ]
  },
  {
   "cell_type": "code",
   "execution_count": null,
   "metadata": {},
   "outputs": [],
   "source": []
  }
 ],
 "metadata": {
  "kernelspec": {
   "display_name": "Python 3",
   "language": "python",
   "name": "python3"
  },
  "language_info": {
   "codemirror_mode": {
    "name": "ipython",
    "version": 3
   },
   "file_extension": ".py",
   "mimetype": "text/x-python",
   "name": "python",
   "nbconvert_exporter": "python",
   "pygments_lexer": "ipython3",
   "version": "3.7.6"
  }
 },
 "nbformat": 4,
 "nbformat_minor": 4
}
