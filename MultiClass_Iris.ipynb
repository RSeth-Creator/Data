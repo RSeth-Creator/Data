{
  "nbformat": 4,
  "nbformat_minor": 0,
  "metadata": {
    "colab": {
      "name": "MultiClass-Iris.ipynb",
      "provenance": [],
      "authorship_tag": "ABX9TyOqOKrrpUohmn5Ceg7Xlkvh",
      "include_colab_link": true
    },
    "kernelspec": {
      "name": "python3",
      "display_name": "Python 3"
    },
    "language_info": {
      "name": "python"
    }
  },
  "cells": [
    {
      "cell_type": "markdown",
      "metadata": {
        "id": "view-in-github",
        "colab_type": "text"
      },
      "source": [
        "<a href=\"https://colab.research.google.com/github/RSeth-Creator/Data/blob/dataScience/MultiClass_Iris.ipynb\" target=\"_parent\"><img src=\"https://colab.research.google.com/assets/colab-badge.svg\" alt=\"Open In Colab\"/></a>"
      ]
    },
    {
      "cell_type": "code",
      "metadata": {
        "id": "uaf5gznB6mEZ"
      },
      "source": [
        "#Importing required libraries\n",
        "import numpy as np\n",
        "import pandas as pd\n",
        "import matplotlib.pyplot as plt\n",
        "import seaborn as sns\n",
        "from google.colab import drive\n",
        "from sklearn.model_selection import train_test_split\n",
        "from sklearn.linear_model import LinearRegression\n",
        "from sklearn.metrics import mean_squared_error"
      ],
      "execution_count": 1,
      "outputs": []
    },
    {
      "cell_type": "code",
      "metadata": {
        "colab": {
          "base_uri": "https://localhost:8080/"
        },
        "id": "-sM0EvIB6sQP",
        "outputId": "34a3a3ec-dc22-4542-8cde-89179f98c217"
      },
      "source": [
        "drive.mount('/content/gdrive')"
      ],
      "execution_count": 4,
      "outputs": [
        {
          "output_type": "stream",
          "text": [
            "Mounted at /content/gdrive\n"
          ],
          "name": "stdout"
        }
      ]
    },
    {
      "cell_type": "code",
      "metadata": {
        "id": "k7qreUY06t9Z"
      },
      "source": [
        "data_path=\"/content/gdrive/MyDrive/Semester_III/DeepLearning/IRIS.csv\"\n"
      ],
      "execution_count": 13,
      "outputs": []
    },
    {
      "cell_type": "code",
      "metadata": {
        "colab": {
          "base_uri": "https://localhost:8080/",
          "height": 206
        },
        "id": "hLFlWwz7816i",
        "outputId": "b5b28895-39e0-4eee-e9e2-9bca88ed84ec"
      },
      "source": [
        "data = pd.read_csv(data_path,header=None)\n",
        "data.head()\n"
      ],
      "execution_count": 18,
      "outputs": [
        {
          "output_type": "execute_result",
          "data": {
            "text/html": [
              "<div>\n",
              "<style scoped>\n",
              "    .dataframe tbody tr th:only-of-type {\n",
              "        vertical-align: middle;\n",
              "    }\n",
              "\n",
              "    .dataframe tbody tr th {\n",
              "        vertical-align: top;\n",
              "    }\n",
              "\n",
              "    .dataframe thead th {\n",
              "        text-align: right;\n",
              "    }\n",
              "</style>\n",
              "<table border=\"1\" class=\"dataframe\">\n",
              "  <thead>\n",
              "    <tr style=\"text-align: right;\">\n",
              "      <th></th>\n",
              "      <th>0</th>\n",
              "      <th>1</th>\n",
              "      <th>2</th>\n",
              "      <th>3</th>\n",
              "      <th>4</th>\n",
              "      <th>5</th>\n",
              "      <th>6</th>\n",
              "      <th>7</th>\n",
              "      <th>8</th>\n",
              "    </tr>\n",
              "  </thead>\n",
              "  <tbody>\n",
              "    <tr>\n",
              "      <th>0</th>\n",
              "      <td>5.1</td>\n",
              "      <td>0.222222</td>\n",
              "      <td>3.5</td>\n",
              "      <td>0.625000</td>\n",
              "      <td>1.4</td>\n",
              "      <td>0.067797</td>\n",
              "      <td>0.2</td>\n",
              "      <td>0.041667</td>\n",
              "      <td>setosa</td>\n",
              "    </tr>\n",
              "    <tr>\n",
              "      <th>1</th>\n",
              "      <td>4.9</td>\n",
              "      <td>0.166667</td>\n",
              "      <td>3.0</td>\n",
              "      <td>0.416667</td>\n",
              "      <td>1.4</td>\n",
              "      <td>0.067797</td>\n",
              "      <td>0.2</td>\n",
              "      <td>0.041667</td>\n",
              "      <td>setosa</td>\n",
              "    </tr>\n",
              "    <tr>\n",
              "      <th>2</th>\n",
              "      <td>4.7</td>\n",
              "      <td>0.111111</td>\n",
              "      <td>3.2</td>\n",
              "      <td>0.500000</td>\n",
              "      <td>1.3</td>\n",
              "      <td>0.050847</td>\n",
              "      <td>0.2</td>\n",
              "      <td>0.041667</td>\n",
              "      <td>setosa</td>\n",
              "    </tr>\n",
              "    <tr>\n",
              "      <th>3</th>\n",
              "      <td>4.6</td>\n",
              "      <td>0.083333</td>\n",
              "      <td>3.1</td>\n",
              "      <td>0.458333</td>\n",
              "      <td>1.5</td>\n",
              "      <td>0.084746</td>\n",
              "      <td>0.2</td>\n",
              "      <td>0.041667</td>\n",
              "      <td>setosa</td>\n",
              "    </tr>\n",
              "    <tr>\n",
              "      <th>4</th>\n",
              "      <td>5.0</td>\n",
              "      <td>0.194444</td>\n",
              "      <td>3.6</td>\n",
              "      <td>0.666667</td>\n",
              "      <td>1.4</td>\n",
              "      <td>0.067797</td>\n",
              "      <td>0.2</td>\n",
              "      <td>0.041667</td>\n",
              "      <td>setosa</td>\n",
              "    </tr>\n",
              "  </tbody>\n",
              "</table>\n",
              "</div>"
            ],
            "text/plain": [
              "     0         1    2         3    4         5    6         7       8\n",
              "0  5.1  0.222222  3.5  0.625000  1.4  0.067797  0.2  0.041667  setosa\n",
              "1  4.9  0.166667  3.0  0.416667  1.4  0.067797  0.2  0.041667  setosa\n",
              "2  4.7  0.111111  3.2  0.500000  1.3  0.050847  0.2  0.041667  setosa\n",
              "3  4.6  0.083333  3.1  0.458333  1.5  0.084746  0.2  0.041667  setosa\n",
              "4  5.0  0.194444  3.6  0.666667  1.4  0.067797  0.2  0.041667  setosa"
            ]
          },
          "metadata": {},
          "execution_count": 18
        }
      ]
    },
    {
      "cell_type": "code",
      "metadata": {
        "colab": {
          "base_uri": "https://localhost:8080/",
          "height": 297
        },
        "id": "CPwU01TD996q",
        "outputId": "9e69de9e-86a7-4227-b3cb-7d2930aecd6f"
      },
      "source": [
        "\n",
        "sns.set_style('whitegrid')\n",
        "plt.figure(figsize=(18, 4))\n",
        "sns.countplot(x=8,data=data,palette='rainbow')\n",
        "plt.legend(title='Class', loc='upper left')\n"
      ],
      "execution_count": 19,
      "outputs": [
        {
          "output_type": "execute_result",
          "data": {
            "text/plain": [
              "<matplotlib.legend.Legend at 0x7f8f35471a50>"
            ]
          },
          "metadata": {},
          "execution_count": 19
        },
        {
          "output_type": "display_data",
          "data": {
            "image/png": "[encoded data removed]",
            "text/plain": [
              "<Figure size 1296x288 with 1 Axes>"
            ]
          },
          "metadata": {}
        }
      ]
    },
    {
      "cell_type": "code",
      "metadata": {
        "id": "M3gj2I-k-I_x"
      },
      "source": [
        "#Accuracy checking for models  \n",
        "from sklearn.linear_model import LogisticRegression\n",
        "from sklearn.ensemble import RandomForestClassifier\n",
        "from sklearn.naive_bayes import MultinomialNB \n",
        "from sklearn.svm import LinearSVC\n",
        "from sklearn.tree import DecisionTreeClassifier\n",
        "from sklearn.neighbors import KNeighborsClassifier\n",
        "from sklearn.model_selection import cross_val_score\n",
        "#Create a list with required model name \n",
        "models = [\n",
        "    RandomForestClassifier(n_estimators=200, max_depth=3, random_state=0),\n",
        "    LinearSVC(),\n",
        "    MultinomialNB(),\n",
        "    LogisticRegression(random_state=0),\n",
        "    DecisionTreeClassifier(),\n",
        "    KNeighborsClassifier(3)\n",
        "]\n",
        "\n",
        "features =  data.iloc[: , :7]\n",
        "labels = data[[8]]\n",
        "#Assing the level of cross validation to find the best accuracy\n",
        "CV = 5  #cross validation number here it os 5 \n",
        "cv_df = pd.DataFrame(index=range(CV * len(models)))\n",
        "entries = []\n",
        "for model in models:\n",
        "  model_name = model.__class__.__name__\n",
        "  accuracies = cross_val_score(model, features, labels, scoring='accuracy', cv=CV)\n",
        "  for fold_idx, accuracy in enumerate(accuracies):\n",
        "    entries.append((model_name, fold_idx, accuracy))\n",
        "cv_df = pd.DataFrame(entries, columns=['model_name', 'fold_idx', 'accuracy'])"
      ],
      "execution_count": null,
      "outputs": []
    },
    {
      "cell_type": "code",
      "metadata": {
        "colab": {
          "base_uri": "https://localhost:8080/",
          "height": 280
        },
        "id": "tTgYUcyp-Row",
        "outputId": "e0285055-54d8-4c0f-fe0d-137dd834175c"
      },
      "source": [
        "#Showing which model giving the best accuracy\n",
        "import seaborn as sns\n",
        "sns.boxplot(x='model_name', y='accuracy', data=cv_df)\n",
        "sns.stripplot(x='model_name', y='accuracy', data=cv_df, \n",
        "              size=8, jitter=True, edgecolor=\"gray\", linewidth=2)\n",
        "plt.show()"
      ],
      "execution_count": 21,
      "outputs": [
        {
          "output_type": "display_data",
          "data": {
            "image/png": "[encoded data removed]",
            "text/plain": [
              "<Figure size 432x288 with 1 Axes>"
            ]
          },
          "metadata": {}
        }
      ]
    },
    {
      "cell_type": "code",
      "metadata": {
        "colab": {
          "base_uri": "https://localhost:8080/"
        },
        "id": "fKJw5vAs-UCL",
        "outputId": "532b5004-d318-45ba-ad3f-f9e4c386acc2"
      },
      "source": [
        "#finding out the accuracy mean for all the classification model \n",
        "cv_df.groupby('model_name').accuracy.mean()"
      ],
      "execution_count": 22,
      "outputs": [
        {
          "output_type": "execute_result",
          "data": {
            "text/plain": [
              "model_name\n",
              "DecisionTreeClassifier    0.95\n",
              "KNeighborsClassifier      0.95\n",
              "LinearSVC                 0.94\n",
              "LogisticRegression        0.95\n",
              "MultinomialNB             0.94\n",
              "RandomForestClassifier    0.94\n",
              "Name: accuracy, dtype: float64"
            ]
          },
          "metadata": {},
          "execution_count": 22
        }
      ]
    },
    {
      "cell_type": "code",
      "metadata": {
        "colab": {
          "base_uri": "https://localhost:8080/"
        },
        "id": "Oo7dPQW7-X2w",
        "outputId": "2623b37d-ba5f-44a7-e9d6-0e1b0aae4940"
      },
      "source": [
        "#Applying KNN to the dataset as it has the highest accuracy\n",
        "model_KNN = KNeighborsClassifier()\n",
        "X_train, X_test, y_train, y_test, indices_train, indices_test = train_test_split(features, labels, data.index, test_size=0.33, random_state=0)\n",
        "model_KNN.fit(X_train, y_train)\n",
        "y_pred = model_KNN.predict(X_test)"
      ],
      "execution_count": 23,
      "outputs": [
        {
          "output_type": "stream",
          "text": [
            "/usr/local/lib/python3.7/dist-packages/ipykernel_launcher.py:4: DataConversionWarning: A column-vector y was passed when a 1d array was expected. Please change the shape of y to (n_samples, ), for example using ravel().\n",
            "  after removing the cwd from sys.path.\n"
          ],
          "name": "stderr"
        }
      ]
    },
    {
      "cell_type": "code",
      "metadata": {
        "colab": {
          "base_uri": "https://localhost:8080/"
        },
        "id": "jOIq5geJ-X9J",
        "outputId": "67a97ecf-34fa-45e5-db70-b1a49826fd51"
      },
      "source": [
        "from sklearn.metrics import confusion_matrix\n",
        "conf_mat = confusion_matrix(y_test, y_pred)\n",
        "conf_mat"
      ],
      "execution_count": 24,
      "outputs": [
        {
          "output_type": "execute_result",
          "data": {
            "text/plain": [
              "array([[11,  0,  0],\n",
              "       [ 0,  9,  0],\n",
              "       [ 0,  3, 10]])"
            ]
          },
          "metadata": {},
          "execution_count": 24
        }
      ]
    },
    {
      "cell_type": "code",
      "metadata": {
        "colab": {
          "base_uri": "https://localhost:8080/"
        },
        "id": "JnSDQ2ba-YEn",
        "outputId": "170e59ee-c7e6-46c6-9fda-c5410d2bd45a"
      },
      "source": [
        "from sklearn.metrics import classification_report, accuracy_score\n",
        "print(accuracy_score(y_test, y_pred))\n",
        "print(classification_report(y_test, y_pred))"
      ],
      "execution_count": 25,
      "outputs": [
        {
          "output_type": "stream",
          "text": [
            "0.9090909090909091\n",
            "              precision    recall  f1-score   support\n",
            "\n",
            "      setosa       1.00      1.00      1.00        11\n",
            "  versicolor       0.75      1.00      0.86         9\n",
            "   virginica       1.00      0.77      0.87        13\n",
            "\n",
            "    accuracy                           0.91        33\n",
            "   macro avg       0.92      0.92      0.91        33\n",
            "weighted avg       0.93      0.91      0.91        33\n",
            "\n"
          ],
          "name": "stdout"
        }
      ]
    },
    {
      "cell_type": "code",
      "metadata": {
        "id": "hEfgmUAw-YKQ"
      },
      "source": [
        "#Applying Decesion tree to the dataset as it has the highest accuracy\n",
        "model_DT = DecisionTreeClassifier()\n",
        "X_train1, X_test1, y_train1, y_test1, indices_train, indices_test = train_test_split(features, labels, data.index, test_size=0.33, random_state=0)\n",
        "model_DT.fit(X_train1, y_train1)\n",
        "y_pred1 = model_DT.predict(X_test1)"
      ],
      "execution_count": 30,
      "outputs": []
    },
    {
      "cell_type": "code",
      "metadata": {
        "colab": {
          "base_uri": "https://localhost:8080/"
        },
        "id": "ftvKrHdZ-tM6",
        "outputId": "ab9bc0e6-34d4-43d3-8fc4-d219590ab0f5"
      },
      "source": [
        "from sklearn.metrics import confusion_matrix\n",
        "conf_mat = confusion_matrix(y_test1, y_pred1)\n",
        "conf_mat"
      ],
      "execution_count": 31,
      "outputs": [
        {
          "output_type": "execute_result",
          "data": {
            "text/plain": [
              "array([[11,  0,  0],\n",
              "       [ 0,  9,  0],\n",
              "       [ 0,  3, 10]])"
            ]
          },
          "metadata": {},
          "execution_count": 31
        }
      ]
    },
    {
      "cell_type": "code",
      "metadata": {
        "colab": {
          "base_uri": "https://localhost:8080/"
        },
        "id": "y9MSyfh0-uvj",
        "outputId": "b281fd67-d66c-40c2-8551-273acefe82f2"
      },
      "source": [
        "from sklearn.metrics import classification_report, accuracy_score\n",
        "print(accuracy_score(y_test1, y_pred1))\n",
        "print(classification_report(y_test1, y_pred1))"
      ],
      "execution_count": 32,
      "outputs": [
        {
          "output_type": "stream",
          "text": [
            "0.9090909090909091\n",
            "              precision    recall  f1-score   support\n",
            "\n",
            "      setosa       1.00      1.00      1.00        11\n",
            "  versicolor       0.75      1.00      0.86         9\n",
            "   virginica       1.00      0.77      0.87        13\n",
            "\n",
            "    accuracy                           0.91        33\n",
            "   macro avg       0.92      0.92      0.91        33\n",
            "weighted avg       0.93      0.91      0.91        33\n",
            "\n"
          ],
          "name": "stdout"
        }
      ]
    }
  ]
}