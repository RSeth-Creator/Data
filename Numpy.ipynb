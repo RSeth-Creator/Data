{
  "nbformat": 4,
  "nbformat_minor": 0,
  "metadata": {
    "colab": {
      "name": "Numpy.ipynb",
      "provenance": [],
      "toc_visible": true,
      "authorship_tag": "ABX9TyO1mQhh1Dhyh3pDzcnUL8Kv",
      "include_colab_link": true
    },
    "kernelspec": {
      "name": "python3",
      "display_name": "Python 3"
    },
    "language_info": {
      "name": "python"
    }
  },
  "cells": [
    {
      "cell_type": "markdown",
      "metadata": {
        "id": "view-in-github",
        "colab_type": "text"
      },
      "source": [
        "<a href=\"https://colab.research.google.com/github/RSeth-Creator/Data/blob/dataScience/Numpy.ipynb\" target=\"_parent\"><img src=\"https://colab.research.google.com/assets/colab-badge.svg\" alt=\"Open In Colab\"/></a>"
      ]
    },
    {
      "cell_type": "code",
      "metadata": {
        "id": "uAfGjYB04sST"
      },
      "source": [
        "import numpy as np "
      ],
      "execution_count": 2,
      "outputs": []
    },
    {
      "cell_type": "markdown",
      "metadata": {
        "id": "6YI1Espo4lsJ"
      },
      "source": [
        "# **Array Operation**"
      ]
    },
    {
      "cell_type": "code",
      "metadata": {
        "colab": {
          "base_uri": "https://localhost:8080/"
        },
        "id": "JikWXcnizIsB",
        "outputId": "753f9edc-9b35-44c4-88aa-ee17eb7ac0f2"
      },
      "source": [
        "#Python array \n",
        "from array import array as arr\n",
        "a  = arr('i',[1,2,3,4])\n",
        "a"
      ],
      "execution_count": 3,
      "outputs": [
        {
          "output_type": "execute_result",
          "data": {
            "text/plain": [
              "array('i', [1, 2, 3, 4])"
            ]
          },
          "metadata": {
            "tags": []
          },
          "execution_count": 3
        }
      ]
    },
    {
      "cell_type": "code",
      "metadata": {
        "colab": {
          "base_uri": "https://localhost:8080/"
        },
        "id": "LSb92iEtbW7F",
        "outputId": "81aef624-272d-452d-97e1-564648adbc95"
      },
      "source": [
        "# numpy array\n",
        "np.array([1,2,3,4,5])\n",
        "print(np.array([1,2,3]))"
      ],
      "execution_count": 4,
      "outputs": [
        {
          "output_type": "stream",
          "text": [
            "[1 2 3]\n"
          ],
          "name": "stdout"
        }
      ]
    },
    {
      "cell_type": "code",
      "metadata": {
        "colab": {
          "base_uri": "https://localhost:8080/"
        },
        "id": "oka1GR-RbXAg",
        "outputId": "029d55b9-acea-4711-e006-d9c762966a2a"
      },
      "source": [
        "#Numpy array with external data type\n",
        "np.array([1,2,3,4],dtype=float)"
      ],
      "execution_count": 5,
      "outputs": [
        {
          "output_type": "execute_result",
          "data": {
            "text/plain": [
              "array([1., 2., 3., 4.])"
            ]
          },
          "metadata": {
            "tags": []
          },
          "execution_count": 5
        }
      ]
    },
    {
      "cell_type": "code",
      "metadata": {
        "colab": {
          "base_uri": "https://localhost:8080/"
        },
        "id": "n9XdP6mmbXDT",
        "outputId": "5ea1e45a-a14b-44af-f9e4-cc32ffb9dfa1"
      },
      "source": [
        "#Array with for loop\n",
        "l=[1,2,3,4]\n",
        "s = np.array([i+3 for i in l ],dtype=float).reshape(2,2)\n",
        "s"
      ],
      "execution_count": 6,
      "outputs": [
        {
          "output_type": "execute_result",
          "data": {
            "text/plain": [
              "array([[4., 5.],\n",
              "       [6., 7.]])"
            ]
          },
          "metadata": {
            "tags": []
          },
          "execution_count": 6
        }
      ]
    },
    {
      "cell_type": "code",
      "metadata": {
        "colab": {
          "base_uri": "https://localhost:8080/"
        },
        "id": "Sb-1TjYqcXe2",
        "outputId": "c1dea6f0-d941-4c23-adef-42a1c575d6d9"
      },
      "source": [
        "#Array with for loop\n",
        "s = np.array([range(i,i+3) for i in l])\n",
        "print(s)"
      ],
      "execution_count": 7,
      "outputs": [
        {
          "output_type": "stream",
          "text": [
            "[[1 2 3]\n",
            " [2 3 4]\n",
            " [3 4 5]\n",
            " [4 5 6]]\n"
          ],
          "name": "stdout"
        }
      ]
    },
    {
      "cell_type": "code",
      "metadata": {
        "colab": {
          "base_uri": "https://localhost:8080/"
        },
        "id": "VwWCGEeodFYr",
        "outputId": "393b7508-0349-4927-e67f-21a8cc7c8961"
      },
      "source": [
        "#Matrix operations\n",
        "np.full((3,3),1)"
      ],
      "execution_count": 8,
      "outputs": [
        {
          "output_type": "execute_result",
          "data": {
            "text/plain": [
              "array([[1, 1, 1],\n",
              "       [1, 1, 1],\n",
              "       [1, 1, 1]])"
            ]
          },
          "metadata": {
            "tags": []
          },
          "execution_count": 8
        }
      ]
    },
    {
      "cell_type": "code",
      "metadata": {
        "colab": {
          "base_uri": "https://localhost:8080/"
        },
        "id": "m4o_Rg9CdFbk",
        "outputId": "28969ef9-b12b-4568-d745-9c9f55f36df1"
      },
      "source": [
        "#Identity matrix\n",
        "np.eye(3,3)"
      ],
      "execution_count": 9,
      "outputs": [
        {
          "output_type": "execute_result",
          "data": {
            "text/plain": [
              "array([[1., 0., 0.],\n",
              "       [0., 1., 0.],\n",
              "       [0., 0., 1.]])"
            ]
          },
          "metadata": {
            "tags": []
          },
          "execution_count": 9
        }
      ]
    },
    {
      "cell_type": "code",
      "metadata": {
        "colab": {
          "base_uri": "https://localhost:8080/"
        },
        "id": "z0suWC4gdFek",
        "outputId": "c1fce748-3419-4838-c54f-56afd5fdbddf"
      },
      "source": [
        "#series with specific interval \n",
        "np.arange(0,10,3)"
      ],
      "execution_count": 10,
      "outputs": [
        {
          "output_type": "execute_result",
          "data": {
            "text/plain": [
              "array([0, 3, 6, 9])"
            ]
          },
          "metadata": {
            "tags": []
          },
          "execution_count": 10
        }
      ]
    },
    {
      "cell_type": "code",
      "metadata": {
        "colab": {
          "base_uri": "https://localhost:8080/"
        },
        "id": "r7tsvSrbdFhx",
        "outputId": "699c2c91-1d42-4a4f-bd09-b277d1689136"
      },
      "source": [
        "#Series with partition\n",
        "np.linspace(0,1,10)"
      ],
      "execution_count": 11,
      "outputs": [
        {
          "output_type": "execute_result",
          "data": {
            "text/plain": [
              "array([0.        , 0.11111111, 0.22222222, 0.33333333, 0.44444444,\n",
              "       0.55555556, 0.66666667, 0.77777778, 0.88888889, 1.        ])"
            ]
          },
          "metadata": {
            "tags": []
          },
          "execution_count": 11
        }
      ]
    },
    {
      "cell_type": "code",
      "metadata": {
        "colab": {
          "base_uri": "https://localhost:8080/"
        },
        "id": "Yu_puBKpdFrg",
        "outputId": "2b71d704-1413-455f-f642-8093b8cf1d3a"
      },
      "source": [
        "#random function\n",
        "np.random.random((3,3))"
      ],
      "execution_count": 12,
      "outputs": [
        {
          "output_type": "execute_result",
          "data": {
            "text/plain": [
              "array([[0.71702681, 0.70712665, 0.89071126],\n",
              "       [0.93531498, 0.71912895, 0.5727561 ],\n",
              "       [0.73217482, 0.39700402, 0.14897267]])"
            ]
          },
          "metadata": {
            "tags": []
          },
          "execution_count": 12
        }
      ]
    },
    {
      "cell_type": "code",
      "metadata": {
        "colab": {
          "base_uri": "https://localhost:8080/"
        },
        "id": "ykpkHszFdFub",
        "outputId": "4aadb0bb-b344-4885-d35f-f2fd89fc6510"
      },
      "source": [
        "#ranint\n",
        "np.random.randint(0,9,(3,3))"
      ],
      "execution_count": 13,
      "outputs": [
        {
          "output_type": "execute_result",
          "data": {
            "text/plain": [
              "array([[0, 5, 2],\n",
              "       [8, 7, 4],\n",
              "       [6, 3, 6]])"
            ]
          },
          "metadata": {
            "tags": []
          },
          "execution_count": 13
        }
      ]
    },
    {
      "cell_type": "code",
      "metadata": {
        "colab": {
          "base_uri": "https://localhost:8080/"
        },
        "id": "rH60AyBSdFxc",
        "outputId": "0f5eef4d-c52e-43ae-979d-d12642a19970"
      },
      "source": [
        "# Normal distribution\n",
        "np.random.normal(0,1,(3,3))"
      ],
      "execution_count": 14,
      "outputs": [
        {
          "output_type": "execute_result",
          "data": {
            "text/plain": [
              "array([[-0.48291376,  1.056894  , -0.03752433],\n",
              "       [ 0.55123304, -0.34019727,  0.95027895],\n",
              "       [ 1.03483698,  0.43446121,  0.68182717]])"
            ]
          },
          "metadata": {
            "tags": []
          },
          "execution_count": 14
        }
      ]
    },
    {
      "cell_type": "code",
      "metadata": {
        "colab": {
          "base_uri": "https://localhost:8080/"
        },
        "id": "iXSQPCnHdF08",
        "outputId": "1a51542f-19d7-4583-a2e6-d82636f2a70b"
      },
      "source": [
        "#One dimensional array\n",
        "np.random.randint(10,size=10)"
      ],
      "execution_count": 15,
      "outputs": [
        {
          "output_type": "execute_result",
          "data": {
            "text/plain": [
              "array([8, 5, 1, 7, 4, 5, 5, 9, 5, 6])"
            ]
          },
          "metadata": {
            "tags": []
          },
          "execution_count": 15
        }
      ]
    },
    {
      "cell_type": "code",
      "metadata": {
        "colab": {
          "base_uri": "https://localhost:8080/"
        },
        "id": "wyP1x6A-dF6m",
        "outputId": "171e6b82-4780-4af1-e86f-4c345a22e76e"
      },
      "source": [
        "#Two Dimensional array\n",
        "np.random.randint(10,size=(3,3))"
      ],
      "execution_count": 16,
      "outputs": [
        {
          "output_type": "execute_result",
          "data": {
            "text/plain": [
              "array([[8, 4, 9],\n",
              "       [7, 4, 3],\n",
              "       [8, 9, 3]])"
            ]
          },
          "metadata": {
            "tags": []
          },
          "execution_count": 16
        }
      ]
    },
    {
      "cell_type": "code",
      "metadata": {
        "colab": {
          "base_uri": "https://localhost:8080/"
        },
        "id": "A0yC_tT6dF-B",
        "outputId": "a2a9c27c-b3e9-4507-a4b5-0d1ab62d3752"
      },
      "source": [
        "#3dimensional array \n",
        "np.random.randint(10,size=(3,3,3))"
      ],
      "execution_count": 17,
      "outputs": [
        {
          "output_type": "execute_result",
          "data": {
            "text/plain": [
              "array([[[9, 8, 0],\n",
              "        [1, 4, 0],\n",
              "        [2, 3, 6]],\n",
              "\n",
              "       [[5, 2, 4],\n",
              "        [3, 5, 2],\n",
              "        [1, 7, 2]],\n",
              "\n",
              "       [[9, 4, 1],\n",
              "        [2, 5, 3],\n",
              "        [4, 9, 0]]])"
            ]
          },
          "metadata": {
            "tags": []
          },
          "execution_count": 17
        }
      ]
    },
    {
      "cell_type": "code",
      "metadata": {
        "colab": {
          "base_uri": "https://localhost:8080/"
        },
        "id": "sAWzYbXQfARd",
        "outputId": "89d47813-dd7a-47c0-cf71-c68872f05191"
      },
      "source": [
        "#Slicing\n",
        "x = np.random.randint(100,size=(10))\n",
        "x"
      ],
      "execution_count": 18,
      "outputs": [
        {
          "output_type": "execute_result",
          "data": {
            "text/plain": [
              "array([ 6, 39, 77, 53, 44, 44, 96, 46, 22,  3])"
            ]
          },
          "metadata": {
            "tags": []
          },
          "execution_count": 18
        }
      ]
    },
    {
      "cell_type": "code",
      "metadata": {
        "colab": {
          "base_uri": "https://localhost:8080/"
        },
        "id": "QDnghRUqinSw",
        "outputId": "0e5470d4-5d31-4a2c-a84d-9f2a273773f3"
      },
      "source": [
        "#last element\n",
        "x[-1]"
      ],
      "execution_count": 19,
      "outputs": [
        {
          "output_type": "execute_result",
          "data": {
            "text/plain": [
              "3"
            ]
          },
          "metadata": {
            "tags": []
          },
          "execution_count": 19
        }
      ]
    },
    {
      "cell_type": "code",
      "metadata": {
        "colab": {
          "base_uri": "https://localhost:8080/"
        },
        "id": "LyxDDpRiinbG",
        "outputId": "475c784a-d88b-4763-a43f-802d1bb83281"
      },
      "source": [
        "#Reverse an array \n",
        "x[-1::-1]"
      ],
      "execution_count": 20,
      "outputs": [
        {
          "output_type": "execute_result",
          "data": {
            "text/plain": [
              "array([ 3, 22, 46, 96, 44, 44, 53, 77, 39,  6])"
            ]
          },
          "metadata": {
            "tags": []
          },
          "execution_count": 20
        }
      ]
    },
    {
      "cell_type": "code",
      "metadata": {
        "colab": {
          "base_uri": "https://localhost:8080/"
        },
        "id": "XkkrT5d8indu",
        "outputId": "545904b2-4ac9-4026-d39f-b6fbf0ac0ffa"
      },
      "source": [
        "#Slicing an array nyusing index\n",
        "x[1:4]"
      ],
      "execution_count": 21,
      "outputs": [
        {
          "output_type": "execute_result",
          "data": {
            "text/plain": [
              "array([39, 77, 53])"
            ]
          },
          "metadata": {
            "tags": []
          },
          "execution_count": 21
        }
      ]
    },
    {
      "cell_type": "code",
      "metadata": {
        "colab": {
          "base_uri": "https://localhost:8080/"
        },
        "id": "OuQeo0D7inga",
        "outputId": "4767e699-de63-4d56-9eca-5dda8dbe0b72"
      },
      "source": [
        "x[::-2]"
      ],
      "execution_count": 22,
      "outputs": [
        {
          "output_type": "execute_result",
          "data": {
            "text/plain": [
              "array([ 3, 46, 44, 53, 39])"
            ]
          },
          "metadata": {
            "tags": []
          },
          "execution_count": 22
        }
      ]
    },
    {
      "cell_type": "code",
      "metadata": {
        "colab": {
          "base_uri": "https://localhost:8080/"
        },
        "id": "D9jSV7X-ini4",
        "outputId": "e71164d3-0cc2-4ffc-9c84-7c66c32d36c5"
      },
      "source": [
        "x[4:8]"
      ],
      "execution_count": 23,
      "outputs": [
        {
          "output_type": "execute_result",
          "data": {
            "text/plain": [
              "array([44, 44, 96, 46])"
            ]
          },
          "metadata": {
            "tags": []
          },
          "execution_count": 23
        }
      ]
    },
    {
      "cell_type": "code",
      "metadata": {
        "colab": {
          "base_uri": "https://localhost:8080/"
        },
        "id": "CAld0sa5inoI",
        "outputId": "78e937f3-da69-4bfe-d1de-c7a035b31ba5"
      },
      "source": [
        "y = np.random.randint(100,size=(3,3))\n",
        "y"
      ],
      "execution_count": 24,
      "outputs": [
        {
          "output_type": "execute_result",
          "data": {
            "text/plain": [
              "array([[ 2, 55, 93],\n",
              "       [51, 88,  1],\n",
              "       [28, 64, 66]])"
            ]
          },
          "metadata": {
            "tags": []
          },
          "execution_count": 24
        }
      ]
    },
    {
      "cell_type": "markdown",
      "metadata": {
        "id": "UhFKUo9-4uaU"
      },
      "source": [
        "# **Slicing,Concatenation and splitting Operation in Array**"
      ]
    },
    {
      "cell_type": "code",
      "metadata": {
        "colab": {
          "base_uri": "https://localhost:8080/"
        },
        "id": "uR3XRmgGinr8",
        "outputId": "b1a1e7e8-574f-4021-8ba8-27177c070902"
      },
      "source": [
        "y[1:3]"
      ],
      "execution_count": 25,
      "outputs": [
        {
          "output_type": "execute_result",
          "data": {
            "text/plain": [
              "array([[51, 88,  1],\n",
              "       [28, 64, 66]])"
            ]
          },
          "metadata": {
            "tags": []
          },
          "execution_count": 25
        }
      ]
    },
    {
      "cell_type": "code",
      "metadata": {
        "colab": {
          "base_uri": "https://localhost:8080/"
        },
        "id": "EeYI6WoskQUC",
        "outputId": "b5146573-b3d4-408f-edf0-d6280070935b"
      },
      "source": [
        "y[:3,:2]"
      ],
      "execution_count": 26,
      "outputs": [
        {
          "output_type": "execute_result",
          "data": {
            "text/plain": [
              "array([[ 2, 55],\n",
              "       [51, 88],\n",
              "       [28, 64]])"
            ]
          },
          "metadata": {
            "tags": []
          },
          "execution_count": 26
        }
      ]
    },
    {
      "cell_type": "code",
      "metadata": {
        "colab": {
          "base_uri": "https://localhost:8080/"
        },
        "id": "09F9Hj5_kQWr",
        "outputId": "6b0e905c-e812-463a-851d-a94134fbd275"
      },
      "source": [
        "#Reverse\n",
        "y[::-1,::-1]"
      ],
      "execution_count": 27,
      "outputs": [
        {
          "output_type": "execute_result",
          "data": {
            "text/plain": [
              "array([[66, 64, 28],\n",
              "       [ 1, 88, 51],\n",
              "       [93, 55,  2]])"
            ]
          },
          "metadata": {
            "tags": []
          },
          "execution_count": 27
        }
      ]
    },
    {
      "cell_type": "code",
      "metadata": {
        "colab": {
          "base_uri": "https://localhost:8080/"
        },
        "id": "3-G7129lkQZg",
        "outputId": "75ea3832-262f-44bc-d94a-48decc689756"
      },
      "source": [
        "y1 = x[::-2].copy()\n",
        "y1"
      ],
      "execution_count": 28,
      "outputs": [
        {
          "output_type": "execute_result",
          "data": {
            "text/plain": [
              "array([ 3, 46, 44, 53, 39])"
            ]
          },
          "metadata": {
            "tags": []
          },
          "execution_count": 28
        }
      ]
    },
    {
      "cell_type": "code",
      "metadata": {
        "id": "94SqNapgk2KI"
      },
      "source": [
        "x1 = np.random.randint(100,size=(12))"
      ],
      "execution_count": 29,
      "outputs": []
    },
    {
      "cell_type": "code",
      "metadata": {
        "id": "v6a0zJsuk2M7"
      },
      "source": [
        "#Copy of a result\n",
        "x1_copy = x1.reshape(3,4).copy()"
      ],
      "execution_count": 30,
      "outputs": []
    },
    {
      "cell_type": "code",
      "metadata": {
        "colab": {
          "base_uri": "https://localhost:8080/"
        },
        "id": "UOfaw18Sk2Pp",
        "outputId": "a696630e-5be3-4878-bcb1-4f63d11f3d45"
      },
      "source": [
        "#reshaping a n dimensional array\n",
        "x1_copy.reshape(3,2,2)"
      ],
      "execution_count": 31,
      "outputs": [
        {
          "output_type": "execute_result",
          "data": {
            "text/plain": [
              "array([[[14, 30],\n",
              "        [84, 97]],\n",
              "\n",
              "       [[ 1, 90],\n",
              "        [12, 30]],\n",
              "\n",
              "       [[90, 76],\n",
              "        [75, 72]]])"
            ]
          },
          "metadata": {
            "tags": []
          },
          "execution_count": 31
        }
      ]
    },
    {
      "cell_type": "code",
      "metadata": {
        "id": "YXL4-yeTk2Sg"
      },
      "source": [
        "c1 = np.array([1,2,3])\n",
        "c2 = np.array([[2,3,4],[3,4,5]])\n",
        "c3 = np.random.randint(100,size=(3,3))\n",
        "c4 = np.array([[1],[2],[3]])"
      ],
      "execution_count": 32,
      "outputs": []
    },
    {
      "cell_type": "code",
      "metadata": {
        "colab": {
          "base_uri": "https://localhost:8080/"
        },
        "id": "ZsVU9kY9k2Vb",
        "outputId": "b84e0c2f-5339-4e7d-d665-ec2755057611"
      },
      "source": [
        "#Concatenation of two equal dimensional array\n",
        "np.concatenate([c2,c2])"
      ],
      "execution_count": 33,
      "outputs": [
        {
          "output_type": "execute_result",
          "data": {
            "text/plain": [
              "array([[2, 3, 4],\n",
              "       [3, 4, 5],\n",
              "       [2, 3, 4],\n",
              "       [3, 4, 5]])"
            ]
          },
          "metadata": {
            "tags": []
          },
          "execution_count": 33
        }
      ]
    },
    {
      "cell_type": "code",
      "metadata": {
        "colab": {
          "base_uri": "https://localhost:8080/"
        },
        "id": "jffLl0W7k2YH",
        "outputId": "2a2ba103-2967-43f5-ef57-53b242436f6f"
      },
      "source": [
        "#Vertical stacking \n",
        "np.vstack([c1,c2])"
      ],
      "execution_count": 34,
      "outputs": [
        {
          "output_type": "execute_result",
          "data": {
            "text/plain": [
              "array([[1, 2, 3],\n",
              "       [2, 3, 4],\n",
              "       [3, 4, 5]])"
            ]
          },
          "metadata": {
            "tags": []
          },
          "execution_count": 34
        }
      ]
    },
    {
      "cell_type": "code",
      "metadata": {
        "colab": {
          "base_uri": "https://localhost:8080/"
        },
        "id": "YkZK0EeYk2cv",
        "outputId": "c41061cb-1b20-4007-a59a-928df62c0160"
      },
      "source": [
        "#Horizontal stack\n",
        "np.hstack([c4,c3])"
      ],
      "execution_count": 35,
      "outputs": [
        {
          "output_type": "execute_result",
          "data": {
            "text/plain": [
              "array([[ 1, 16, 13, 83],\n",
              "       [ 2, 37, 43,  1],\n",
              "       [ 3, 54,  6, 91]])"
            ]
          },
          "metadata": {
            "tags": []
          },
          "execution_count": 35
        }
      ]
    },
    {
      "cell_type": "code",
      "metadata": {
        "colab": {
          "base_uri": "https://localhost:8080/"
        },
        "id": "CKGgR7N5k2fm",
        "outputId": "d3ad4185-49da-4ad6-a4c1-a4a320f882e3"
      },
      "source": [
        "#Vertical split\n",
        "np.vsplit(c2,[2])"
      ],
      "execution_count": 36,
      "outputs": [
        {
          "output_type": "execute_result",
          "data": {
            "text/plain": [
              "[array([[2, 3, 4],\n",
              "        [3, 4, 5]]), array([], shape=(0, 3), dtype=int64)]"
            ]
          },
          "metadata": {
            "tags": []
          },
          "execution_count": 36
        }
      ]
    },
    {
      "cell_type": "code",
      "metadata": {
        "colab": {
          "base_uri": "https://localhost:8080/"
        },
        "id": "vrjpwoQtoeZC",
        "outputId": "26debc60-28f6-4869-a530-9e02a477b41d"
      },
      "source": [
        "#Horizontal split\n",
        "np.hsplit(c2,(1,2))"
      ],
      "execution_count": 37,
      "outputs": [
        {
          "output_type": "execute_result",
          "data": {
            "text/plain": [
              "[array([[2],\n",
              "        [3]]), array([[3],\n",
              "        [4]]), array([[4],\n",
              "        [5]])]"
            ]
          },
          "metadata": {
            "tags": []
          },
          "execution_count": 37
        }
      ]
    },
    {
      "cell_type": "code",
      "metadata": {
        "colab": {
          "base_uri": "https://localhost:8080/"
        },
        "id": "xvmk5SN6ojey",
        "outputId": "8bc4f69b-c24c-42e9-daaa-1a93db0a481c"
      },
      "source": [
        "#Split an existing n dimesional array\n",
        "np.split(x,(4,4))"
      ],
      "execution_count": 38,
      "outputs": [
        {
          "output_type": "execute_result",
          "data": {
            "text/plain": [
              "[array([ 6, 39, 77, 53]),\n",
              " array([], dtype=int64),\n",
              " array([44, 44, 96, 46, 22,  3])]"
            ]
          },
          "metadata": {
            "tags": []
          },
          "execution_count": 38
        }
      ]
    },
    {
      "cell_type": "markdown",
      "metadata": {
        "id": "quTpAN4W4tOj"
      },
      "source": [
        "**Array arithmetic**"
      ]
    },
    {
      "cell_type": "code",
      "metadata": {
        "colab": {
          "base_uri": "https://localhost:8080/"
        },
        "id": "06k8i9Ek110Y",
        "outputId": "b09f30e7-d4c4-42ee-8a52-6114b596505c"
      },
      "source": [
        "#(no of element for both array should be same)\n",
        "np.arange(1,10,2)/np.arange(2,15,3)"
      ],
      "execution_count": 39,
      "outputs": [
        {
          "output_type": "execute_result",
          "data": {
            "text/plain": [
              "array([0.5       , 0.6       , 0.625     , 0.63636364, 0.64285714])"
            ]
          },
          "metadata": {
            "tags": []
          },
          "execution_count": 39
        }
      ]
    },
    {
      "cell_type": "markdown",
      "metadata": {
        "id": "qXn2_fjf8COI"
      },
      "source": [
        "# **Matrix operations**\n",
        "\n",
        "\n"
      ]
    },
    {
      "cell_type": "code",
      "metadata": {
        "colab": {
          "base_uri": "https://localhost:8080/"
        },
        "id": "HiUpdbYG4-2O",
        "outputId": "251db85b-5e84-4b83-d215-19a3a0d5bea2"
      },
      "source": [
        "m1= np.random.randint(100,size = 9).reshape(3,3)\n",
        "print('m1*m1 = ','\\n',np.matmul(m1,m1))\n",
        "print('\\n')\n",
        "print('Invert = ','\\n',np.invert(m1))\n",
        "print('\\n')\n",
        "print('Inverse of m1  = ','\\n', np.linalg.inv(m1))\n",
        "print('\\n')\n",
        "print('Rank of m1 ','\\n',np.linalg.matrix_rank(m1))\n",
        "print('\\n')\n",
        "print('SVD of m1 = ','\\n',np.linalg.svd(m1))\n",
        "print('\\n')\n",
        "print('eigenvalues of m1 = ','\\n',np.linalg.eigvals(m1))\n",
        "print('\\n')\n",
        "print('eigen vectors of m1 is ','\\n',np.linalg.eig(m1))"
      ],
      "execution_count": 40,
      "outputs": [
        {
          "output_type": "stream",
          "text": [
            "m1*m1 =  \n",
            " [[ 6670  8159  4908]\n",
            " [ 3861  4779  3018]\n",
            " [ 8415 11076  9406]]\n",
            "\n",
            "\n",
            "Invert =  \n",
            " [[-58 -70 -27]\n",
            " [-34 -37 -19]\n",
            " [-45 -68 -85]]\n",
            "\n",
            "\n",
            "Inverse of m1  =  \n",
            " [[-0.10891445  0.24287084 -0.01833214]\n",
            " [ 0.1186197  -0.21830817  0.0100647 ]\n",
            " [-0.0375629   0.0469087   0.01347951]]\n",
            "\n",
            "\n",
            "Rank of m1  \n",
            " 3\n",
            "\n",
            "\n",
            "SVD of m1 =  \n",
            " (array([[-0.58432801, -0.6781626 , -0.44570873],\n",
            "       [-0.3315636 , -0.30178673,  0.8938626 ],\n",
            "       [-0.74069316,  0.67008974, -0.0485116 ]]), array([152.43376707,  40.40546941,   2.71011074]), array([[-0.50407988, -0.6683648 , -0.54698444],\n",
            "       [-0.47345771, -0.31583666,  0.82224388],\n",
            "       [ 0.7223166 , -0.67345059,  0.15723557]]))\n",
            "\n",
            "\n",
            "eigenvalues of m1 =  \n",
            " [138.24442012  41.65426655  -2.89868667]\n",
            "\n",
            "\n",
            "eigen vectors of m1 is  \n",
            " (array([138.24442012,  41.65426655,  -2.89868667]), array([[ 0.51681698,  0.49559455,  0.71353289],\n",
            "       [ 0.30746481,  0.20757605, -0.68117873],\n",
            "       [ 0.79897784, -0.84338498,  0.16390958]]))\n"
          ],
          "name": "stdout"
        }
      ]
    },
    {
      "cell_type": "markdown",
      "metadata": {
        "id": "RVx84m158ovD"
      },
      "source": [
        "# **Arithmetic Operations **"
      ]
    },
    {
      "cell_type": "code",
      "metadata": {
        "colab": {
          "base_uri": "https://localhost:8080/"
        },
        "id": "g9LdmXRQ4-7k",
        "outputId": "dff3eaa0-569e-4c86-f8dd-98e30cc1f09b"
      },
      "source": [
        "op = np.random.randint(100,size=(8))\n",
        "print('addition','\\n',np.add(op,3))\n",
        "print('\\n')\n",
        "print('multiply','\\n',np.multiply(op,3))\n",
        "print('\\n')\n",
        "print('division','\\n',np.divide(op,3))\n",
        "print('\\n')\n",
        "print(' mod_division','\\n',np.divmod(op,3))\n",
        "print('\\n')\n",
        "print(' mod_division','\\n',np.subtract(op,3))\n",
        "print('\\n')\n",
        "print(' square','\\n',np.power(op,2))\n",
        "print('\\n')\n",
        "print(' mod value','\\n',np.mod(op,5))\n",
        "print('\\n')\n",
        "print(' exponential  value','\\n',np.exp(op))\n",
        "print('\\n')\n",
        "print(' 2^op','\\n',np.exp2(op))\n",
        "print('\\n')\n",
        "print(' power series','\\n',np.power(3,op))\n",
        "print('\\n')\n",
        "print(' log','\\n',np.log(op))\n",
        "print('\\n')\n",
        "print(' log2','\\n',np.log2(op))\n",
        "print('\\n')\n",
        "print(' log10','\\n',np.log10(op))"
      ],
      "execution_count": 41,
      "outputs": [
        {
          "output_type": "stream",
          "text": [
            "addition \n",
            " [26 56 10 76 99 71  3  4]\n",
            "\n",
            "\n",
            "multiply \n",
            " [ 69 159  21 219 288 204   0   3]\n",
            "\n",
            "\n",
            "division \n",
            " [ 7.66666667 17.66666667  2.33333333 24.33333333 32.         22.66666667\n",
            "  0.          0.33333333]\n",
            "\n",
            "\n",
            " mod_division \n",
            " (array([ 7, 17,  2, 24, 32, 22,  0,  0]), array([2, 2, 1, 1, 0, 2, 0, 1]))\n",
            "\n",
            "\n",
            " mod_division \n",
            " [20 50  4 70 93 65 -3 -2]\n",
            "\n",
            "\n",
            " square \n",
            " [ 529 2809   49 5329 9216 4624    0    1]\n",
            "\n",
            "\n",
            " mod value \n",
            " [3 3 2 3 1 3 0 1]\n",
            "\n",
            "\n",
            " exponential  value \n",
            " [9.74480345e+09 1.04137594e+23 1.09663316e+03 5.05239363e+31\n",
            " 4.92345829e+41 3.40427605e+29 1.00000000e+00 2.71828183e+00]\n",
            "\n",
            "\n",
            " 2^op \n",
            " [8.38860800e+06 9.00719925e+15 1.28000000e+02 9.44473297e+21\n",
            " 7.92281625e+28 2.95147905e+20 1.00000000e+00 2.00000000e+00]\n",
            "\n",
            "\n",
            " power series \n",
            " [         94143178827 -2709163618235644365                 2187\n",
            "  6572658003009201123 -8235400117272609919  6403700247714450769\n",
            "                    1                    3]\n",
            "\n",
            "\n",
            " log \n",
            " [3.13549422 3.97029191 1.94591015 4.29045944 4.56434819 4.21950771\n",
            "       -inf 0.        ]\n",
            "\n",
            "\n",
            " log2 \n",
            " [4.52356196 5.72792045 2.80735492 6.18982456 6.5849625  6.08746284\n",
            "       -inf 0.        ]\n",
            "\n",
            "\n",
            " log10 \n",
            " [1.36172784 1.72427587 0.84509804 1.86332286 1.98227123 1.83250891\n",
            "       -inf 0.        ]\n"
          ],
          "name": "stdout"
        },
        {
          "output_type": "stream",
          "text": [
            "/usr/local/lib/python3.7/dist-packages/ipykernel_launcher.py:22: RuntimeWarning: divide by zero encountered in log\n",
            "/usr/local/lib/python3.7/dist-packages/ipykernel_launcher.py:24: RuntimeWarning: divide by zero encountered in log2\n",
            "/usr/local/lib/python3.7/dist-packages/ipykernel_launcher.py:26: RuntimeWarning: divide by zero encountered in log10\n"
          ],
          "name": "stderr"
        }
      ]
    },
    {
      "cell_type": "markdown",
      "metadata": {
        "id": "FsZL3RVj_bgS"
      },
      "source": [
        "# **Aggregates & Outer products**"
      ]
    },
    {
      "cell_type": "code",
      "metadata": {
        "colab": {
          "base_uri": "https://localhost:8080/"
        },
        "id": "ZteSo9kx4--e",
        "outputId": "5aeea83d-6ecb-45cc-cbe4-30040d1f1c0c"
      },
      "source": [
        "agg = np.random.randint(100,size=(10))\n",
        "print('sum of the elements in the array = ',np.add.reduce(agg))\n",
        "print('\\n')\n",
        "print('product of the elements in the array = ',np.multiply.reduce(agg))\n",
        "print('\\n')\n",
        "print('running sum of the elements in the array = ',np.add.accumulate(agg))\n",
        "print('\\n')\n",
        "#Outer products\n",
        "np.multiply.outer(agg,agg)"
      ],
      "execution_count": 42,
      "outputs": [
        {
          "output_type": "stream",
          "text": [
            "sum of the elements in the array =  567\n",
            "\n",
            "\n",
            "product of the elements in the array =  163720206041868000\n",
            "\n",
            "\n",
            "running sum of the elements in the array =  [ 53 107 145 199 273 348 415 500 549 567]\n",
            "\n",
            "\n"
          ],
          "name": "stdout"
        },
        {
          "output_type": "execute_result",
          "data": {
            "text/plain": [
              "array([[2809, 2862, 2014, 2862, 3922, 3975, 3551, 4505, 2597,  954],\n",
              "       [2862, 2916, 2052, 2916, 3996, 4050, 3618, 4590, 2646,  972],\n",
              "       [2014, 2052, 1444, 2052, 2812, 2850, 2546, 3230, 1862,  684],\n",
              "       [2862, 2916, 2052, 2916, 3996, 4050, 3618, 4590, 2646,  972],\n",
              "       [3922, 3996, 2812, 3996, 5476, 5550, 4958, 6290, 3626, 1332],\n",
              "       [3975, 4050, 2850, 4050, 5550, 5625, 5025, 6375, 3675, 1350],\n",
              "       [3551, 3618, 2546, 3618, 4958, 5025, 4489, 5695, 3283, 1206],\n",
              "       [4505, 4590, 3230, 4590, 6290, 6375, 5695, 7225, 4165, 1530],\n",
              "       [2597, 2646, 1862, 2646, 3626, 3675, 3283, 4165, 2401,  882],\n",
              "       [ 954,  972,  684,  972, 1332, 1350, 1206, 1530,  882,  324]])"
            ]
          },
          "metadata": {
            "tags": []
          },
          "execution_count": 42
        }
      ]
    },
    {
      "cell_type": "code",
      "metadata": {
        "colab": {
          "base_uri": "https://localhost:8080/"
        },
        "id": "lJzAsoEG4_Be",
        "outputId": "86e3cdce-7f3b-445c-b300-f464ba08831a"
      },
      "source": [
        "x = np.array([1,2,3])\n",
        "print('confusion matrix','\\n',np.multiply.outer(x,x))\n",
        "print('\\n')\n",
        "print('running sum','\\n',np.add.accumulate(x))"
      ],
      "execution_count": 43,
      "outputs": [
        {
          "output_type": "stream",
          "text": [
            "confusion matrix \n",
            " [[1 2 3]\n",
            " [2 4 6]\n",
            " [3 6 9]]\n",
            "\n",
            "\n",
            "running sum \n",
            " [1 3 6]\n"
          ],
          "name": "stdout"
        }
      ]
    },
    {
      "cell_type": "code",
      "metadata": {
        "colab": {
          "base_uri": "https://localhost:8080/"
        },
        "id": "Yd5V8TLSCIvs",
        "outputId": "b9b5861e-5066-414d-c282-c3129055a897"
      },
      "source": [
        "agg2 = np.random.randint(100,size=(10))\n",
        "print(np.min(agg2))\n",
        "print(np.argmin(agg2))\n",
        "print(np.max(agg2))\n",
        "print(np.argmin(agg2))\n",
        "print(np.argpartition(agg2,4))\n",
        "print(np.std(agg2))\n",
        "print(np.median(agg2))\n",
        "print(np.percentile(agg2,25))\n",
        "print(np.var(agg2))\n"
      ],
      "execution_count": 44,
      "outputs": [
        {
          "output_type": "stream",
          "text": [
            "0\n",
            "0\n",
            "97\n",
            "0\n",
            "[5 0 9 6 3 2 1 7 8 4]\n",
            "30.710910113508522\n",
            "49.5\n",
            "31.0\n",
            "943.1600000000001\n"
          ],
          "name": "stdout"
        }
      ]
    },
    {
      "cell_type": "markdown",
      "metadata": {
        "id": "nvjcpJuXBH6k"
      },
      "source": [
        "# **Broadcaseting**"
      ]
    },
    {
      "cell_type": "markdown",
      "metadata": {
        "id": "Hdmbejpa2i2k"
      },
      "source": [
        " Rule 1: If the two arrays differ in their number of dimensions, the shape of the one with fewer dimensions is padded with ones on its leading (left) side.\n",
        "\n",
        "• Rule 2: If the shape of the two arrays does not match in any dimension, the array with shape equal to 1 in that dimension is stretched to match the other shape.\n",
        "\n",
        "• Rule 3: If in any dimension the sizes disagree and neither is equal to 1, an error is\n",
        "raised.\n"
      ]
    },
    {
      "cell_type": "code",
      "metadata": {
        "colab": {
          "base_uri": "https://localhost:8080/"
        },
        "id": "o-FTWuUK12DC",
        "outputId": "072729c7-6c56-419e-8fe0-fc3c3868d0f6"
      },
      "source": [
        "#Broadcasting\n",
        "import numpy as np \n",
        "a = np.arange(4)\n",
        "b = np.random.randint(10,size = (4))\n",
        "c = 10\n",
        "d = np.random.randint(10,size = (4))[: , np.newaxis]\n",
        "print('a: ',a)\n",
        "print('b: ',b)\n",
        "print('d: ','\\n',d)\n",
        "print('a+b = ',a+b)\n",
        "print('a+c = ',a+c)\n",
        "print('a+d = ','\\n',a+d)\n"
      ],
      "execution_count": 45,
      "outputs": [
        {
          "output_type": "stream",
          "text": [
            "a:  [0 1 2 3]\n",
            "b:  [9 5 7 2]\n",
            "d:  \n",
            " [[2]\n",
            " [1]\n",
            " [4]\n",
            " [5]]\n",
            "a+b =  [9 6 9 5]\n",
            "a+c =  [10 11 12 13]\n",
            "a+d =  \n",
            " [[2 3 4 5]\n",
            " [1 2 3 4]\n",
            " [4 5 6 7]\n",
            " [5 6 7 8]]\n"
          ],
          "name": "stdout"
        }
      ]
    },
    {
      "cell_type": "markdown",
      "metadata": {
        "id": "Qi8UOJyJCamj"
      },
      "source": [
        "# Boolean **query**"
      ]
    },
    {
      "cell_type": "code",
      "metadata": {
        "colab": {
          "base_uri": "https://localhost:8080/"
        },
        "id": "q37iYlwJ12F9",
        "outputId": "49a1233c-0ce7-4a01-d2fb-f2b3eecb0f8f"
      },
      "source": [
        "#Boolean condition on array \n",
        "q = np.random.randint(100,size=(15))\n",
        "print('q', q)\n",
        "print('q>30: ',np.any(q>70))\n",
        "print(q>70)\n",
        "print(q[q>70])\n",
        "print(q[q<30])\n",
        "print(q[q==30])"
      ],
      "execution_count": 46,
      "outputs": [
        {
          "output_type": "stream",
          "text": [
            "q [70  5  3 98  0 65 76 79 37  2  3 47 67  2 89]\n",
            "q>30:  True\n",
            "[False False False  True False False  True  True False False False False\n",
            " False False  True]\n",
            "[98 76 79 89]\n",
            "[5 3 0 2 3 2]\n",
            "[]\n"
          ],
          "name": "stdout"
        }
      ]
    },
    {
      "cell_type": "markdown",
      "metadata": {
        "id": "VMjrHWddCfpG"
      },
      "source": [
        "# **Sorting and Partitioning**"
      ]
    },
    {
      "cell_type": "code",
      "metadata": {
        "id": "nCuCnDTq12I4"
      },
      "source": [
        "#numpy array sorting \n",
        "s = np.random.randint(100,size = (6))"
      ],
      "execution_count": 47,
      "outputs": []
    },
    {
      "cell_type": "code",
      "metadata": {
        "colab": {
          "base_uri": "https://localhost:8080/"
        },
        "id": "rmlUcSzh12ML",
        "outputId": "c8623745-e6a0-4c62-a6d0-11e9ecb22c99"
      },
      "source": [
        "print('Array: ',s)\n",
        "print('Sorted array: ',np.sort(s))\n",
        "print('Index sorted array: ',np.argsort(s))\n"
      ],
      "execution_count": 48,
      "outputs": [
        {
          "output_type": "stream",
          "text": [
            "Array:  [23 48 22 61 35 66]\n",
            "Sorted array:  [22 23 35 48 61 66]\n",
            "Index sorted array:  [2 0 4 1 3 5]\n"
          ],
          "name": "stdout"
        }
      ]
    },
    {
      "cell_type": "code",
      "metadata": {
        "colab": {
          "base_uri": "https://localhost:8080/"
        },
        "id": "K7mlOYa6As3E",
        "outputId": "470055ee-0156-4c47-eb58-6271c183f53f"
      },
      "source": [
        "np.partition(s,2,axis=0)"
      ],
      "execution_count": 49,
      "outputs": [
        {
          "output_type": "execute_result",
          "data": {
            "text/plain": [
              "array([22, 23, 35, 61, 48, 66])"
            ]
          },
          "metadata": {
            "tags": []
          },
          "execution_count": 49
        }
      ]
    },
    {
      "cell_type": "code",
      "metadata": {
        "colab": {
          "base_uri": "https://localhost:8080/"
        },
        "id": "FF-nW_DDBcoe",
        "outputId": "61cee1dd-5161-442b-87e1-fb45a5408fac"
      },
      "source": [
        "s1 = np.random.randint(100,size=(3,3))\n",
        "s1"
      ],
      "execution_count": 50,
      "outputs": [
        {
          "output_type": "execute_result",
          "data": {
            "text/plain": [
              "array([[51, 31, 31],\n",
              "       [20, 69, 93],\n",
              "       [ 3, 25, 47]])"
            ]
          },
          "metadata": {
            "tags": []
          },
          "execution_count": 50
        }
      ]
    },
    {
      "cell_type": "code",
      "metadata": {
        "colab": {
          "base_uri": "https://localhost:8080/"
        },
        "id": "uEklukiBBlMj",
        "outputId": "030b8ad2-f7c9-4227-90cc-1ca47720b68e"
      },
      "source": [
        "np.partition(s1,1,axis=0)"
      ],
      "execution_count": 51,
      "outputs": [
        {
          "output_type": "execute_result",
          "data": {
            "text/plain": [
              "array([[ 3, 25, 31],\n",
              "       [20, 31, 47],\n",
              "       [51, 69, 93]])"
            ]
          },
          "metadata": {
            "tags": []
          },
          "execution_count": 51
        }
      ]
    },
    {
      "cell_type": "code",
      "metadata": {
        "colab": {
          "base_uri": "https://localhost:8080/"
        },
        "id": "PB7taYZ7B5pT",
        "outputId": "2c9f790a-b1a6-41a0-b09c-9f9cb9b4985b"
      },
      "source": [
        "np.partition(s1,1,axis=1)"
      ],
      "execution_count": 52,
      "outputs": [
        {
          "output_type": "execute_result",
          "data": {
            "text/plain": [
              "array([[31, 31, 51],\n",
              "       [20, 69, 93],\n",
              "       [ 3, 25, 47]])"
            ]
          },
          "metadata": {
            "tags": []
          },
          "execution_count": 52
        }
      ]
    }
  ]
}