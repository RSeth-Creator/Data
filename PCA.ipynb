{
  "nbformat": 4,
  "nbformat_minor": 0,
  "metadata": {
    "colab": {
      "name": "Assignment-III(PCA).ipynb",
      "provenance": [],
      "collapsed_sections": [],
      "authorship_tag": "ABX9TyMJPZ6SY4J04f67TXqqN7pC",
      "include_colab_link": true
    },
    "kernelspec": {
      "name": "python3",
      "display_name": "Python 3"
    },
    "language_info": {
      "name": "python"
    }
  },
  "cells": [
    {
      "cell_type": "markdown",
      "metadata": {
        "id": "view-in-github",
        "colab_type": "text"
      },
      "source": [
        "<a href=\"https://colab.research.google.com/github/RSeth-Creator/Data/blob/dataScience/PCA.ipynb\" target=\"_parent\"><img src=\"https://colab.research.google.com/assets/colab-badge.svg\" alt=\"Open In Colab\"/></a>"
      ]
    },
    {
      "cell_type": "code",
      "metadata": {
        "id": "cuHwpKAEJbkK"
      },
      "source": [
        "import pandas as pd \n",
        "import numpy as np \n"
      ],
      "execution_count": null,
      "outputs": []
    },
    {
      "cell_type": "code",
      "metadata": {
        "colab": {
          "base_uri": "https://localhost:8080/",
          "height": 206
        },
        "id": "CW-3K-GyJjn2",
        "outputId": "3e036f5d-6253-4cd8-8605-54ca5eab32aa"
      },
      "source": [
        "#Dataframe\n",
        "l1=[10,12,11,9,9,10,11,12,11,10,11,12]\n",
        "l2=[100,\t110,\t105\t,94,\t95,\t99,\t104\t,108,\t105,\t98,\t103\t,110]\n",
        "df = pd.DataFrame(list(zip(l1, l2)),columns=['profit','sales'])\n",
        "df.head()"
      ],
      "execution_count": null,
      "outputs": [
        {
          "output_type": "execute_result",
          "data": {
            "text/html": [
              "<div>\n",
              "<style scoped>\n",
              "    .dataframe tbody tr th:only-of-type {\n",
              "        vertical-align: middle;\n",
              "    }\n",
              "\n",
              "    .dataframe tbody tr th {\n",
              "        vertical-align: top;\n",
              "    }\n",
              "\n",
              "    .dataframe thead th {\n",
              "        text-align: right;\n",
              "    }\n",
              "</style>\n",
              "<table border=\"1\" class=\"dataframe\">\n",
              "  <thead>\n",
              "    <tr style=\"text-align: right;\">\n",
              "      <th></th>\n",
              "      <th>profit</th>\n",
              "      <th>sales</th>\n",
              "    </tr>\n",
              "  </thead>\n",
              "  <tbody>\n",
              "    <tr>\n",
              "      <th>0</th>\n",
              "      <td>10</td>\n",
              "      <td>100</td>\n",
              "    </tr>\n",
              "    <tr>\n",
              "      <th>1</th>\n",
              "      <td>12</td>\n",
              "      <td>110</td>\n",
              "    </tr>\n",
              "    <tr>\n",
              "      <th>2</th>\n",
              "      <td>11</td>\n",
              "      <td>105</td>\n",
              "    </tr>\n",
              "    <tr>\n",
              "      <th>3</th>\n",
              "      <td>9</td>\n",
              "      <td>94</td>\n",
              "    </tr>\n",
              "    <tr>\n",
              "      <th>4</th>\n",
              "      <td>9</td>\n",
              "      <td>95</td>\n",
              "    </tr>\n",
              "  </tbody>\n",
              "</table>\n",
              "</div>"
            ],
            "text/plain": [
              "   profit  sales\n",
              "0      10    100\n",
              "1      12    110\n",
              "2      11    105\n",
              "3       9     94\n",
              "4       9     95"
            ]
          },
          "metadata": {
            "tags": []
          },
          "execution_count": 40
        }
      ]
    },
    {
      "cell_type": "code",
      "metadata": {
        "colab": {
          "base_uri": "https://localhost:8080/"
        },
        "id": "ggn2b2OwLmcq",
        "outputId": "36538ab1-6eb1-4351-f024-ef75457e3cfc"
      },
      "source": [
        "#Calculating mean for two\n",
        "m1 =np.mean(df['profit'])\n",
        "m2 = np.mean(df['sales'])\n",
        "print('mean values are ', m1,m2)"
      ],
      "execution_count": null,
      "outputs": [
        {
          "output_type": "stream",
          "text": [
            "mean values are  10.666666666666666 102.58333333333333\n"
          ],
          "name": "stdout"
        }
      ]
    },
    {
      "cell_type": "code",
      "metadata": {
        "colab": {
          "base_uri": "https://localhost:8080/",
          "height": 206
        },
        "id": "wIqMc0YRMH61",
        "outputId": "85d1689e-b9ad-4aad-d99e-140d13ed215a"
      },
      "source": [
        "#Zero mean matrix\n",
        "l3 = df['profit']-m1\n",
        "l4= df['sales']-m2\n",
        "df1=pd.DataFrame(list(zip(l3,l4)),columns=['z-profit','z_sales'])\n",
        "df1.head()"
      ],
      "execution_count": null,
      "outputs": [
        {
          "output_type": "execute_result",
          "data": {
            "text/html": [
              "<div>\n",
              "<style scoped>\n",
              "    .dataframe tbody tr th:only-of-type {\n",
              "        vertical-align: middle;\n",
              "    }\n",
              "\n",
              "    .dataframe tbody tr th {\n",
              "        vertical-align: top;\n",
              "    }\n",
              "\n",
              "    .dataframe thead th {\n",
              "        text-align: right;\n",
              "    }\n",
              "</style>\n",
              "<table border=\"1\" class=\"dataframe\">\n",
              "  <thead>\n",
              "    <tr style=\"text-align: right;\">\n",
              "      <th></th>\n",
              "      <th>z-profit</th>\n",
              "      <th>z_sales</th>\n",
              "    </tr>\n",
              "  </thead>\n",
              "  <tbody>\n",
              "    <tr>\n",
              "      <th>0</th>\n",
              "      <td>-0.666667</td>\n",
              "      <td>-2.583333</td>\n",
              "    </tr>\n",
              "    <tr>\n",
              "      <th>1</th>\n",
              "      <td>1.333333</td>\n",
              "      <td>7.416667</td>\n",
              "    </tr>\n",
              "    <tr>\n",
              "      <th>2</th>\n",
              "      <td>0.333333</td>\n",
              "      <td>2.416667</td>\n",
              "    </tr>\n",
              "    <tr>\n",
              "      <th>3</th>\n",
              "      <td>-1.666667</td>\n",
              "      <td>-8.583333</td>\n",
              "    </tr>\n",
              "    <tr>\n",
              "      <th>4</th>\n",
              "      <td>-1.666667</td>\n",
              "      <td>-7.583333</td>\n",
              "    </tr>\n",
              "  </tbody>\n",
              "</table>\n",
              "</div>"
            ],
            "text/plain": [
              "   z-profit   z_sales\n",
              "0 -0.666667 -2.583333\n",
              "1  1.333333  7.416667\n",
              "2  0.333333  2.416667\n",
              "3 -1.666667 -8.583333\n",
              "4 -1.666667 -7.583333"
            ]
          },
          "metadata": {
            "tags": []
          },
          "execution_count": 34
        }
      ]
    },
    {
      "cell_type": "code",
      "metadata": {
        "colab": {
          "base_uri": "https://localhost:8080/",
          "height": 112
        },
        "id": "c5i6BdlFMxeA",
        "outputId": "76b81368-68d9-419d-a931-f7febd6a1376"
      },
      "source": [
        "#transpose of zero mean matrix\n",
        "t_df1 = np.transpose(df1)\n",
        "t_df1"
      ],
      "execution_count": null,
      "outputs": [
        {
          "output_type": "execute_result",
          "data": {
            "text/html": [
              "<div>\n",
              "<style scoped>\n",
              "    .dataframe tbody tr th:only-of-type {\n",
              "        vertical-align: middle;\n",
              "    }\n",
              "\n",
              "    .dataframe tbody tr th {\n",
              "        vertical-align: top;\n",
              "    }\n",
              "\n",
              "    .dataframe thead th {\n",
              "        text-align: right;\n",
              "    }\n",
              "</style>\n",
              "<table border=\"1\" class=\"dataframe\">\n",
              "  <thead>\n",
              "    <tr style=\"text-align: right;\">\n",
              "      <th></th>\n",
              "      <th>0</th>\n",
              "      <th>1</th>\n",
              "      <th>2</th>\n",
              "      <th>3</th>\n",
              "      <th>4</th>\n",
              "      <th>5</th>\n",
              "      <th>6</th>\n",
              "      <th>7</th>\n",
              "      <th>8</th>\n",
              "      <th>9</th>\n",
              "      <th>10</th>\n",
              "      <th>11</th>\n",
              "    </tr>\n",
              "  </thead>\n",
              "  <tbody>\n",
              "    <tr>\n",
              "      <th>z-profit</th>\n",
              "      <td>-0.666667</td>\n",
              "      <td>1.333333</td>\n",
              "      <td>0.333333</td>\n",
              "      <td>-1.666667</td>\n",
              "      <td>-1.666667</td>\n",
              "      <td>-0.666667</td>\n",
              "      <td>0.333333</td>\n",
              "      <td>1.333333</td>\n",
              "      <td>0.333333</td>\n",
              "      <td>-0.666667</td>\n",
              "      <td>0.333333</td>\n",
              "      <td>1.333333</td>\n",
              "    </tr>\n",
              "    <tr>\n",
              "      <th>z_sales</th>\n",
              "      <td>-2.583333</td>\n",
              "      <td>7.416667</td>\n",
              "      <td>2.416667</td>\n",
              "      <td>-8.583333</td>\n",
              "      <td>-7.583333</td>\n",
              "      <td>-3.583333</td>\n",
              "      <td>1.416667</td>\n",
              "      <td>5.416667</td>\n",
              "      <td>2.416667</td>\n",
              "      <td>-4.583333</td>\n",
              "      <td>0.416667</td>\n",
              "      <td>7.416667</td>\n",
              "    </tr>\n",
              "  </tbody>\n",
              "</table>\n",
              "</div>"
            ],
            "text/plain": [
              "                0         1         2   ...        9         10        11\n",
              "z-profit -0.666667  1.333333  0.333333  ... -0.666667  0.333333  1.333333\n",
              "z_sales  -2.583333  7.416667  2.416667  ... -4.583333  0.416667  7.416667\n",
              "\n",
              "[2 rows x 12 columns]"
            ]
          },
          "metadata": {
            "tags": []
          },
          "execution_count": 36
        }
      ]
    },
    {
      "cell_type": "code",
      "metadata": {
        "id": "zcCPVAl6OUBL"
      },
      "source": [
        "#Covariance matrix \n",
        "cov_mat = (np.dot(t_df1,df1))/(np.count_nonzero(df['profit'])-1)"
      ],
      "execution_count": null,
      "outputs": []
    },
    {
      "cell_type": "code",
      "metadata": {
        "colab": {
          "base_uri": "https://localhost:8080/"
        },
        "id": "aBrGNXt5P2jN",
        "outputId": "7a32e5d1-f401-4a59-fece-383167c5fa76"
      },
      "source": [
        "#calculate  eigen values\n",
        "ev = np.linalg.eigvals(cov_mat)\n",
        "print('eigen values are :', ev[0],',',ev[1] )"
      ],
      "execution_count": null,
      "outputs": [
        {
          "output_type": "stream",
          "text": [
            "eigen values are : 0.028167051723023917 , 30.661226887670917\n"
          ],
          "name": "stdout"
        }
      ]
    },
    {
      "cell_type": "code",
      "metadata": {
        "colab": {
          "base_uri": "https://localhost:8080/"
        },
        "id": "hu5X9LhRQRxE",
        "outputId": "6f5df7e6-1060-4dae-8646-1d66705a08b9"
      },
      "source": [
        "#Calculate eigen vectors\n",
        "evec = np.linalg.eig(cov_mat)\n",
        "print('eigen value :',ev[0], ' corresponding eigen vector is : ', evec[0])\n",
        "print('eigen value :',ev[1], ' corresponding eigen vector is : ', evec[1][0],',',evec[1][1])"
      ],
      "execution_count": null,
      "outputs": [
        {
          "output_type": "stream",
          "text": [
            "eigen values are : [2.81670517e-02 3.06612269e+01] , [[-0.9814932  -0.19149701]\n",
            " [ 0.19149701 -0.9814932 ]]\n"
          ],
          "name": "stdout"
        }
      ]
    },
    {
      "cell_type": "code",
      "metadata": {
        "id": "tgHzPnxsScI1",
        "colab": {
          "base_uri": "https://localhost:8080/",
          "height": 426
        },
        "outputId": "4306cf41-5061-4bdc-d237-1683ed451d39"
      },
      "source": [
        "pc1 = np.dot(evec[1][0],t_df1)\n",
        "pc2 = np.dot(evec[1][1],t_df1)\n",
        "pc = pd.DataFrame(list(zip(pc1,pc2)),columns=['pc1','pc2'])\n",
        "pc"
      ],
      "execution_count": null,
      "outputs": [
        {
          "output_type": "execute_result",
          "data": {
            "text/html": [
              "<div>\n",
              "<style scoped>\n",
              "    .dataframe tbody tr th:only-of-type {\n",
              "        vertical-align: middle;\n",
              "    }\n",
              "\n",
              "    .dataframe tbody tr th {\n",
              "        vertical-align: top;\n",
              "    }\n",
              "\n",
              "    .dataframe thead th {\n",
              "        text-align: right;\n",
              "    }\n",
              "</style>\n",
              "<table border=\"1\" class=\"dataframe\">\n",
              "  <thead>\n",
              "    <tr style=\"text-align: right;\">\n",
              "      <th></th>\n",
              "      <th>pc1</th>\n",
              "      <th>pc2</th>\n",
              "    </tr>\n",
              "  </thead>\n",
              "  <tbody>\n",
              "    <tr>\n",
              "      <th>0</th>\n",
              "      <td>1.149029</td>\n",
              "      <td>2.407859</td>\n",
              "    </tr>\n",
              "    <tr>\n",
              "      <th>1</th>\n",
              "      <td>-2.728927</td>\n",
              "      <td>-7.024079</td>\n",
              "    </tr>\n",
              "    <tr>\n",
              "      <th>2</th>\n",
              "      <td>-0.789949</td>\n",
              "      <td>-2.308110</td>\n",
              "    </tr>\n",
              "    <tr>\n",
              "      <th>3</th>\n",
              "      <td>3.279505</td>\n",
              "      <td>8.105322</td>\n",
              "    </tr>\n",
              "    <tr>\n",
              "      <th>4</th>\n",
              "      <td>3.088008</td>\n",
              "      <td>7.123828</td>\n",
              "    </tr>\n",
              "    <tr>\n",
              "      <th>5</th>\n",
              "      <td>1.340526</td>\n",
              "      <td>3.389353</td>\n",
              "    </tr>\n",
              "    <tr>\n",
              "      <th>6</th>\n",
              "      <td>-0.598452</td>\n",
              "      <td>-1.326616</td>\n",
              "    </tr>\n",
              "    <tr>\n",
              "      <th>7</th>\n",
              "      <td>-2.345933</td>\n",
              "      <td>-5.061092</td>\n",
              "    </tr>\n",
              "    <tr>\n",
              "      <th>8</th>\n",
              "      <td>-0.789949</td>\n",
              "      <td>-2.308110</td>\n",
              "    </tr>\n",
              "    <tr>\n",
              "      <th>9</th>\n",
              "      <td>1.532023</td>\n",
              "      <td>4.370846</td>\n",
              "    </tr>\n",
              "    <tr>\n",
              "      <th>10</th>\n",
              "      <td>-0.406955</td>\n",
              "      <td>-0.345123</td>\n",
              "    </tr>\n",
              "    <tr>\n",
              "      <th>11</th>\n",
              "      <td>-2.728927</td>\n",
              "      <td>-7.024079</td>\n",
              "    </tr>\n",
              "  </tbody>\n",
              "</table>\n",
              "</div>"
            ],
            "text/plain": [
              "         pc1       pc2\n",
              "0   1.149029  2.407859\n",
              "1  -2.728927 -7.024079\n",
              "2  -0.789949 -2.308110\n",
              "3   3.279505  8.105322\n",
              "4   3.088008  7.123828\n",
              "5   1.340526  3.389353\n",
              "6  -0.598452 -1.326616\n",
              "7  -2.345933 -5.061092\n",
              "8  -0.789949 -2.308110\n",
              "9   1.532023  4.370846\n",
              "10 -0.406955 -0.345123\n",
              "11 -2.728927 -7.024079"
            ]
          },
          "metadata": {
            "tags": []
          },
          "execution_count": 77
        }
      ]
    }
  ]
}